{
 "cells": [
  {
   "cell_type": "markdown",
   "id": "e555ce7e",
   "metadata": {},
   "source": [
    "# Steps   \n",
    "\n",
    "### 1. For data visualization part i used an [EDA app](https://github.com/kartikay-99k/EDA-and-Data-Preprocessing-app) which was built by me last week.\n",
    "### 2. First Handling Numerical values and  filling out the missing values with either mean or random values between (min-75 percentile) depending on the distribution and also removing the garbage values.\n",
    "### 3. Secondly Handling Categorical values by converting them into dummy variable and filling out missing values with mode.\n",
    "### 4. Applying statstical test to select best features(chi - square test)\n",
    "### 5. Re-scaling the numerical values.\n",
    "### 6. Model bulding."
   ]
  },
  {
   "cell_type": "code",
   "execution_count": 1,
   "id": "973c1486",
   "metadata": {},
   "outputs": [
    {
     "data": {
      "text/html": [
       "<div>\n",
       "<style scoped>\n",
       "    .dataframe tbody tr th:only-of-type {\n",
       "        vertical-align: middle;\n",
       "    }\n",
       "\n",
       "    .dataframe tbody tr th {\n",
       "        vertical-align: top;\n",
       "    }\n",
       "\n",
       "    .dataframe thead th {\n",
       "        text-align: right;\n",
       "    }\n",
       "</style>\n",
       "<table border=\"1\" class=\"dataframe\">\n",
       "  <thead>\n",
       "    <tr style=\"text-align: right;\">\n",
       "      <th></th>\n",
       "      <th>Customer ID</th>\n",
       "      <th>Name</th>\n",
       "      <th>Gender</th>\n",
       "      <th>Age</th>\n",
       "      <th>Income</th>\n",
       "      <th>Income_Stability</th>\n",
       "      <th>Profession</th>\n",
       "      <th>Employment_Type</th>\n",
       "      <th>Location</th>\n",
       "      <th>Loan_Amount_Request</th>\n",
       "      <th>...</th>\n",
       "      <th>Credit_Score</th>\n",
       "      <th>Defaults</th>\n",
       "      <th>Credit_Card_status</th>\n",
       "      <th>Property_ID</th>\n",
       "      <th>Property_Age</th>\n",
       "      <th>Property_Type</th>\n",
       "      <th>Property_Location</th>\n",
       "      <th>Co-Applicant</th>\n",
       "      <th>Property_Price</th>\n",
       "      <th>Loan_Sanction_Amount</th>\n",
       "    </tr>\n",
       "  </thead>\n",
       "  <tbody>\n",
       "    <tr>\n",
       "      <th>0</th>\n",
       "      <td>C-36995</td>\n",
       "      <td>Frederica Shealy</td>\n",
       "      <td>F</td>\n",
       "      <td>56</td>\n",
       "      <td>1933.05</td>\n",
       "      <td>Low</td>\n",
       "      <td>Working</td>\n",
       "      <td>Sales staff</td>\n",
       "      <td>Semi-Urban</td>\n",
       "      <td>72809.58</td>\n",
       "      <td>...</td>\n",
       "      <td>809.44</td>\n",
       "      <td>0</td>\n",
       "      <td>NaN</td>\n",
       "      <td>746</td>\n",
       "      <td>1933.05</td>\n",
       "      <td>4</td>\n",
       "      <td>Rural</td>\n",
       "      <td>1</td>\n",
       "      <td>119933.46</td>\n",
       "      <td>54607.18</td>\n",
       "    </tr>\n",
       "    <tr>\n",
       "      <th>1</th>\n",
       "      <td>C-33999</td>\n",
       "      <td>America Calderone</td>\n",
       "      <td>M</td>\n",
       "      <td>32</td>\n",
       "      <td>4952.91</td>\n",
       "      <td>Low</td>\n",
       "      <td>Working</td>\n",
       "      <td>NaN</td>\n",
       "      <td>Semi-Urban</td>\n",
       "      <td>46837.47</td>\n",
       "      <td>...</td>\n",
       "      <td>780.40</td>\n",
       "      <td>0</td>\n",
       "      <td>Unpossessed</td>\n",
       "      <td>608</td>\n",
       "      <td>4952.91</td>\n",
       "      <td>2</td>\n",
       "      <td>Rural</td>\n",
       "      <td>1</td>\n",
       "      <td>54791.00</td>\n",
       "      <td>37469.98</td>\n",
       "    </tr>\n",
       "    <tr>\n",
       "      <th>2</th>\n",
       "      <td>C-3770</td>\n",
       "      <td>Rosetta Verne</td>\n",
       "      <td>F</td>\n",
       "      <td>65</td>\n",
       "      <td>988.19</td>\n",
       "      <td>High</td>\n",
       "      <td>Pensioner</td>\n",
       "      <td>NaN</td>\n",
       "      <td>Semi-Urban</td>\n",
       "      <td>45593.04</td>\n",
       "      <td>...</td>\n",
       "      <td>833.15</td>\n",
       "      <td>0</td>\n",
       "      <td>Unpossessed</td>\n",
       "      <td>546</td>\n",
       "      <td>988.19</td>\n",
       "      <td>2</td>\n",
       "      <td>Urban</td>\n",
       "      <td>0</td>\n",
       "      <td>72440.58</td>\n",
       "      <td>36474.43</td>\n",
       "    </tr>\n",
       "    <tr>\n",
       "      <th>3</th>\n",
       "      <td>C-26480</td>\n",
       "      <td>Zoe Chitty</td>\n",
       "      <td>F</td>\n",
       "      <td>65</td>\n",
       "      <td>NaN</td>\n",
       "      <td>High</td>\n",
       "      <td>Pensioner</td>\n",
       "      <td>NaN</td>\n",
       "      <td>Rural</td>\n",
       "      <td>80057.92</td>\n",
       "      <td>...</td>\n",
       "      <td>832.70</td>\n",
       "      <td>1</td>\n",
       "      <td>Unpossessed</td>\n",
       "      <td>890</td>\n",
       "      <td>NaN</td>\n",
       "      <td>2</td>\n",
       "      <td>Semi-Urban</td>\n",
       "      <td>1</td>\n",
       "      <td>121441.51</td>\n",
       "      <td>56040.54</td>\n",
       "    </tr>\n",
       "    <tr>\n",
       "      <th>4</th>\n",
       "      <td>C-23459</td>\n",
       "      <td>Afton Venema</td>\n",
       "      <td>F</td>\n",
       "      <td>31</td>\n",
       "      <td>2614.77</td>\n",
       "      <td>Low</td>\n",
       "      <td>Working</td>\n",
       "      <td>High skill tech staff</td>\n",
       "      <td>Semi-Urban</td>\n",
       "      <td>113858.89</td>\n",
       "      <td>...</td>\n",
       "      <td>745.55</td>\n",
       "      <td>1</td>\n",
       "      <td>Active</td>\n",
       "      <td>715</td>\n",
       "      <td>2614.77</td>\n",
       "      <td>4</td>\n",
       "      <td>Semi-Urban</td>\n",
       "      <td>1</td>\n",
       "      <td>208567.91</td>\n",
       "      <td>74008.28</td>\n",
       "    </tr>\n",
       "  </tbody>\n",
       "</table>\n",
       "<p>5 rows × 24 columns</p>\n",
       "</div>"
      ],
      "text/plain": [
       "  Customer ID               Name Gender  Age   Income Income_Stability  \\\n",
       "0     C-36995   Frederica Shealy      F   56  1933.05              Low   \n",
       "1     C-33999  America Calderone      M   32  4952.91              Low   \n",
       "2      C-3770      Rosetta Verne      F   65   988.19             High   \n",
       "3     C-26480         Zoe Chitty      F   65      NaN             High   \n",
       "4     C-23459       Afton Venema      F   31  2614.77              Low   \n",
       "\n",
       "  Profession        Employment_Type    Location  Loan_Amount_Request  ...  \\\n",
       "0    Working            Sales staff  Semi-Urban             72809.58  ...   \n",
       "1    Working                    NaN  Semi-Urban             46837.47  ...   \n",
       "2  Pensioner                    NaN  Semi-Urban             45593.04  ...   \n",
       "3  Pensioner                    NaN       Rural             80057.92  ...   \n",
       "4    Working  High skill tech staff  Semi-Urban            113858.89  ...   \n",
       "\n",
       "   Credit_Score Defaults Credit_Card_status  Property_ID  Property_Age  \\\n",
       "0        809.44        0                NaN          746       1933.05   \n",
       "1        780.40        0        Unpossessed          608       4952.91   \n",
       "2        833.15        0        Unpossessed          546        988.19   \n",
       "3        832.70        1        Unpossessed          890           NaN   \n",
       "4        745.55        1             Active          715       2614.77   \n",
       "\n",
       "   Property_Type Property_Location  Co-Applicant  Property_Price  \\\n",
       "0              4             Rural             1       119933.46   \n",
       "1              2             Rural             1        54791.00   \n",
       "2              2             Urban             0        72440.58   \n",
       "3              2        Semi-Urban             1       121441.51   \n",
       "4              4        Semi-Urban             1       208567.91   \n",
       "\n",
       "   Loan_Sanction_Amount  \n",
       "0              54607.18  \n",
       "1              37469.98  \n",
       "2              36474.43  \n",
       "3              56040.54  \n",
       "4              74008.28  \n",
       "\n",
       "[5 rows x 24 columns]"
      ]
     },
     "execution_count": 1,
     "metadata": {},
     "output_type": "execute_result"
    }
   ],
   "source": [
    "import pandas as pd\n",
    "import numpy as np\n",
    "import random\n",
    "\n",
    "df=pd.read_csv('train.csv')\n",
    "df_test=pd.read_csv('test.csv')\n",
    "df.head()"
   ]
  },
  {
   "cell_type": "code",
   "execution_count": 2,
   "id": "b8bdf1c1",
   "metadata": {},
   "outputs": [
    {
     "data": {
      "text/plain": [
       "<AxesSubplot:>"
      ]
     },
     "execution_count": 2,
     "metadata": {},
     "output_type": "execute_result"
    },
    {
     "data": {
      "image/png": "[encoded data removed]",
      "text/plain": [
       "<Figure size 432x288 with 2 Axes>"
      ]
     },
     "metadata": {
      "needs_background": "light"
     },
     "output_type": "display_data"
    }
   ],
   "source": [
    "import seaborn as sns\n",
    "import matplotlib.pyplot as plt\n",
    "\n",
    "import seaborn as sns\n",
    "\n",
    "corr=df.corr()\n",
    "sns.heatmap(corr, xticklabels=corr.columns.values, yticklabels=corr.columns.values)"
   ]
  },
  {
   "cell_type": "code",
   "execution_count": 3,
   "id": "57f92011",
   "metadata": {},
   "outputs": [
    {
     "name": "stdout",
     "output_type": "stream",
     "text": [
      "<class 'pandas.core.frame.DataFrame'>\n",
      "RangeIndex: 30000 entries, 0 to 29999\n",
      "Data columns (total 24 columns):\n",
      " #   Column                 Non-Null Count  Dtype  \n",
      "---  ------                 --------------  -----  \n",
      " 0   Customer ID            30000 non-null  object \n",
      " 1   Name                   30000 non-null  object \n",
      " 2   Gender                 29947 non-null  object \n",
      " 3   Age                    30000 non-null  int64  \n",
      " 4   Income                 25424 non-null  float64\n",
      " 5   Income_Stability       28317 non-null  object \n",
      " 6   Profession             30000 non-null  object \n",
      " 7   Employment_Type        22730 non-null  object \n",
      " 8   Location               30000 non-null  object \n",
      " 9   Loan_Amount_Request    30000 non-null  float64\n",
      " 10  Current_Loan_Expenses  29828 non-null  float64\n",
      " 11  Expense_Type_1         30000 non-null  object \n",
      " 12  Expense_Type_2         30000 non-null  object \n",
      " 13  Dependents             27507 non-null  float64\n",
      " 14  Credit_Score           28297 non-null  float64\n",
      " 15  Defaults               30000 non-null  int64  \n",
      " 16  Credit_Card_status     28434 non-null  object \n",
      " 17  Property_ID            30000 non-null  int64  \n",
      " 18  Property_Age           25150 non-null  float64\n",
      " 19  Property_Type          30000 non-null  int64  \n",
      " 20  Property_Location      29644 non-null  object \n",
      " 21  Co-Applicant           30000 non-null  int64  \n",
      " 22  Property_Price         30000 non-null  float64\n",
      " 23  Loan_Sanction_Amount   29660 non-null  float64\n",
      "dtypes: float64(8), int64(5), object(11)\n",
      "memory usage: 5.5+ MB\n"
     ]
    }
   ],
   "source": [
    "df.info()"
   ]
  },
  {
   "cell_type": "code",
   "execution_count": 4,
   "id": "befe0361",
   "metadata": {},
   "outputs": [
    {
     "data": {
      "text/plain": [
       "Customer ID                 0\n",
       "Name                        0\n",
       "Gender                     53\n",
       "Age                         0\n",
       "Income                   4576\n",
       "Income_Stability         1683\n",
       "Profession                  0\n",
       "Employment_Type          7270\n",
       "Location                    0\n",
       "Loan_Amount_Request         0\n",
       "Current_Loan_Expenses     172\n",
       "Expense_Type_1              0\n",
       "Expense_Type_2              0\n",
       "Dependents               2493\n",
       "Credit_Score             1703\n",
       "Defaults                    0\n",
       "Credit_Card_status       1566\n",
       "Property_ID                 0\n",
       "Property_Age             4850\n",
       "Property_Type               0\n",
       "Property_Location         356\n",
       "Co-Applicant                0\n",
       "Property_Price              0\n",
       "Loan_Sanction_Amount      340\n",
       "dtype: int64"
      ]
     },
     "execution_count": 4,
     "metadata": {},
     "output_type": "execute_result"
    }
   ],
   "source": [
    "df.isnull().sum()"
   ]
  },
  {
   "cell_type": "code",
   "execution_count": 5,
   "id": "c8ee93d4",
   "metadata": {},
   "outputs": [
    {
     "data": {
      "text/plain": [
       "Customer ID                 0\n",
       "Name                        0\n",
       "Gender                     31\n",
       "Age                         0\n",
       "Income                    750\n",
       "Income_Stability          813\n",
       "Profession                  0\n",
       "Employment_Type          4689\n",
       "Location                    0\n",
       "Loan_Amount_Request         0\n",
       "Current_Loan_Expenses      83\n",
       "Expense_Type_1              0\n",
       "Expense_Type_2              0\n",
       "Dependents               1142\n",
       "Credit_Score              743\n",
       "Defaults                    0\n",
       "Credit_Card_status       1076\n",
       "Property_ID                 0\n",
       "Property_Age              892\n",
       "Property_Type               0\n",
       "Property_Location         160\n",
       "Co-Applicant                0\n",
       "Property_Price              0\n",
       "dtype: int64"
      ]
     },
     "execution_count": 5,
     "metadata": {},
     "output_type": "execute_result"
    }
   ],
   "source": [
    "df_test.isnull().sum()"
   ]
  },
  {
   "cell_type": "code",
   "execution_count": 6,
   "id": "be1c7c73",
   "metadata": {},
   "outputs": [],
   "source": [
    "import matplotlib.pyplot as plt\n",
    "%matplotlib inline"
   ]
  },
  {
   "cell_type": "markdown",
   "id": "935b2198",
   "metadata": {},
   "source": [
    "## Handling Numerical values"
   ]
  },
  {
   "cell_type": "markdown",
   "id": "58e71cc2",
   "metadata": {},
   "source": [
    "### Age"
   ]
  },
  {
   "cell_type": "code",
   "execution_count": 7,
   "id": "3eec9a95",
   "metadata": {},
   "outputs": [
    {
     "data": {
      "text/plain": [
       "(array([8855., 4462., 4987., 4426., 7270.]),\n",
       " array([18. , 27.4, 36.8, 46.2, 55.6, 65. ]),\n",
       " <BarContainer object of 5 artists>)"
      ]
     },
     "execution_count": 7,
     "metadata": {},
     "output_type": "execute_result"
    },
    {
     "data": {
      "image/png": "[encoded data removed]",
      "text/plain": [
       "<Figure size 432x288 with 1 Axes>"
      ]
     },
     "metadata": {
      "needs_background": "light"
     },
     "output_type": "display_data"
    }
   ],
   "source": [
    "plt.hist(df['Age'],bins=5)"
   ]
  },
  {
   "cell_type": "code",
   "execution_count": 8,
   "id": "96f771ec",
   "metadata": {},
   "outputs": [
    {
     "data": {
      "text/plain": [
       "count    30000.000000\n",
       "mean        40.092300\n",
       "std         16.045129\n",
       "min         18.000000\n",
       "25%         25.000000\n",
       "50%         40.000000\n",
       "75%         55.000000\n",
       "max         65.000000\n",
       "Name: Age, dtype: float64"
      ]
     },
     "execution_count": 8,
     "metadata": {},
     "output_type": "execute_result"
    }
   ],
   "source": [
    "df['Age'].describe()"
   ]
  },
  {
   "cell_type": "code",
   "execution_count": 9,
   "id": "b33113cd",
   "metadata": {},
   "outputs": [],
   "source": [
    "df['Age'].fillna(df['Age'].mean(),inplace=True)\n",
    "df_test['Age'].fillna(df['Age'].mean(),inplace=True)"
   ]
  },
  {
   "cell_type": "markdown",
   "id": "6047e4e6",
   "metadata": {},
   "source": [
    "### Income"
   ]
  },
  {
   "cell_type": "code",
   "execution_count": 10,
   "id": "2048c1f9",
   "metadata": {},
   "outputs": [
    {
     "data": {
      "text/plain": [
       "(array([25424.]),\n",
       " array([3.77700000e+02, 1.77746021e+06]),\n",
       " <BarContainer object of 1 artists>)"
      ]
     },
     "execution_count": 10,
     "metadata": {},
     "output_type": "execute_result"
    },
    {
     "data": {
      "image/png": "[encoded data removed]",
      "text/plain": [
       "<Figure size 432x288 with 1 Axes>"
      ]
     },
     "metadata": {
      "needs_background": "light"
     },
     "output_type": "display_data"
    }
   ],
   "source": [
    "plt.hist(df['Income'],bins=1)"
   ]
  },
  {
   "cell_type": "code",
   "execution_count": 11,
   "id": "ea421304",
   "metadata": {},
   "outputs": [
    {
     "data": {
      "text/plain": [
       "count    2.542400e+04\n",
       "mean     2.630574e+03\n",
       "std      1.126272e+04\n",
       "min      3.777000e+02\n",
       "25%      1.650457e+03\n",
       "50%      2.222435e+03\n",
       "75%      3.090593e+03\n",
       "max      1.777460e+06\n",
       "Name: Income, dtype: float64"
      ]
     },
     "execution_count": 11,
     "metadata": {},
     "output_type": "execute_result"
    }
   ],
   "source": [
    "df['Income'].describe()"
   ]
  },
  {
   "cell_type": "code",
   "execution_count": 12,
   "id": "01059dab",
   "metadata": {},
   "outputs": [],
   "source": [
    "df.loc[(df['Income'].isnull()),'Income']=random.uniform(1.650457e+03,3.090593e+03)\n",
    "df_test.loc[(df_test['Income'].isnull()),'Income']=random.uniform(1.650457e+03,3.090593e+03)"
   ]
  },
  {
   "cell_type": "markdown",
   "id": "169aaded",
   "metadata": {},
   "source": [
    "### Loan_Amount_Request"
   ]
  },
  {
   "cell_type": "code",
   "execution_count": 13,
   "id": "69fa2d28",
   "metadata": {},
   "outputs": [
    {
     "data": {
      "text/plain": [
       "(array([2.3616e+04, 5.8300e+03, 5.3300e+02, 1.8000e+01, 3.0000e+00]),\n",
       " array([  6048.24 , 129138.156, 252228.072, 375317.988, 498407.904,\n",
       "        621497.82 ]),\n",
       " <BarContainer object of 5 artists>)"
      ]
     },
     "execution_count": 13,
     "metadata": {},
     "output_type": "execute_result"
    },
    {
     "data": {
      "image/png": "[encoded data removed]",
      "text/plain": [
       "<Figure size 432x288 with 1 Axes>"
      ]
     },
     "metadata": {
      "needs_background": "light"
     },
     "output_type": "display_data"
    }
   ],
   "source": [
    "plt.hist(df['Loan_Amount_Request'],bins=5)"
   ]
  },
  {
   "cell_type": "code",
   "execution_count": 14,
   "id": "66f02e84",
   "metadata": {},
   "outputs": [
    {
     "data": {
      "text/plain": [
       "count     30000.000000\n",
       "mean      88826.333855\n",
       "std       59536.949605\n",
       "min        6048.240000\n",
       "25%       41177.755000\n",
       "50%       75128.075000\n",
       "75%      119964.605000\n",
       "max      621497.820000\n",
       "Name: Loan_Amount_Request, dtype: float64"
      ]
     },
     "execution_count": 14,
     "metadata": {},
     "output_type": "execute_result"
    }
   ],
   "source": [
    "df['Loan_Amount_Request'].describe()"
   ]
  },
  {
   "cell_type": "markdown",
   "id": "4d9151f6",
   "metadata": {},
   "source": [
    "### Current_Loan_Expenses"
   ]
  },
  {
   "cell_type": "code",
   "execution_count": 15,
   "id": "fb400611",
   "metadata": {},
   "outputs": [
    {
     "data": {
      "text/plain": [
       "(array([1.7700e+02, 0.0000e+00, 1.9183e+04, 9.8080e+03, 6.0500e+02,\n",
       "        3.8000e+01, 1.1000e+01, 2.0000e+00, 2.0000e+00, 2.0000e+00]),\n",
       " array([-999.   , -515.012,  -31.024,  452.964,  936.952, 1420.94 ,\n",
       "        1904.928, 2388.916, 2872.904, 3356.892, 3840.88 ]),\n",
       " <BarContainer object of 10 artists>)"
      ]
     },
     "execution_count": 15,
     "metadata": {},
     "output_type": "execute_result"
    },
    {
     "data": {
      "image/png": "[encoded data removed]",
      "text/plain": [
       "<Figure size 432x288 with 1 Axes>"
      ]
     },
     "metadata": {
      "needs_background": "light"
     },
     "output_type": "display_data"
    }
   ],
   "source": [
    "plt.hist(df['Current_Loan_Expenses'],bins=10)"
   ]
  },
  {
   "cell_type": "code",
   "execution_count": 16,
   "id": "e0a63869",
   "metadata": {},
   "outputs": [
    {
     "data": {
      "text/plain": [
       "count    29828.000000\n",
       "mean       400.936876\n",
       "std        242.545375\n",
       "min       -999.000000\n",
       "25%        247.667500\n",
       "50%        375.205000\n",
       "75%        521.292500\n",
       "max       3840.880000\n",
       "Name: Current_Loan_Expenses, dtype: float64"
      ]
     },
     "execution_count": 16,
     "metadata": {},
     "output_type": "execute_result"
    }
   ],
   "source": [
    "df['Current_Loan_Expenses'].describe()"
   ]
  },
  {
   "cell_type": "code",
   "execution_count": 17,
   "id": "c68f5a86",
   "metadata": {},
   "outputs": [],
   "source": [
    "df.loc[(df['Current_Loan_Expenses'].isnull()),'Current_Loan_Expenses']=random.uniform(252.140000,521.292500)\n",
    "df_test.loc[(df_test['Current_Loan_Expenses'].isnull()),'Current_Loan_Expenses']=random.uniform(252.140000,521.292500)"
   ]
  },
  {
   "cell_type": "code",
   "execution_count": 18,
   "id": "dc6ffc38",
   "metadata": {},
   "outputs": [],
   "source": [
    "# Negative values to positive (loan expense can't be negative)\n",
    "df.loc[(df['Current_Loan_Expenses']<0),'Current_Loan_Expenses']=random.uniform(252.140000,521.292500)\n",
    "df_test.loc[(df_test['Current_Loan_Expenses']<0),'Current_Loan_Expenses']=random.uniform(252.140000,521.292500)"
   ]
  },
  {
   "cell_type": "code",
   "execution_count": 19,
   "id": "f9994d36",
   "metadata": {},
   "outputs": [
    {
     "data": {
      "text/plain": [
       "(array([1.7535e+04, 1.0923e+04, 1.3970e+03, 1.0900e+02, 2.2000e+01,\n",
       "        8.0000e+00, 2.0000e+00, 2.0000e+00, 1.0000e+00, 1.0000e+00]),\n",
       " array([  33.76 ,  414.472,  795.184, 1175.896, 1556.608, 1937.32 ,\n",
       "        2318.032, 2698.744, 3079.456, 3460.168, 3840.88 ]),\n",
       " <BarContainer object of 10 artists>)"
      ]
     },
     "execution_count": 19,
     "metadata": {},
     "output_type": "execute_result"
    },
    {
     "data": {
      "image/png": "[encoded data removed]",
      "text/plain": [
       "<Figure size 432x288 with 1 Axes>"
      ]
     },
     "metadata": {
      "needs_background": "light"
     },
     "output_type": "display_data"
    }
   ],
   "source": [
    "plt.hist(df['Current_Loan_Expenses'],bins=10)"
   ]
  },
  {
   "cell_type": "markdown",
   "id": "b8f09413",
   "metadata": {},
   "source": [
    "### Credit_Score"
   ]
  },
  {
   "cell_type": "code",
   "execution_count": 20,
   "id": "ce89636b",
   "metadata": {},
   "outputs": [
    {
     "data": {
      "text/plain": [
       "(array([ 676., 2274., 3353., 3749., 3884., 3871., 3694., 3470., 2606.,\n",
       "         720.]),\n",
       " array([580.   , 611.626, 643.252, 674.878, 706.504, 738.13 , 769.756,\n",
       "        801.382, 833.008, 864.634, 896.26 ]),\n",
       " <BarContainer object of 10 artists>)"
      ]
     },
     "execution_count": 20,
     "metadata": {},
     "output_type": "execute_result"
    },
    {
     "data": {
      "image/png": "[encoded data removed]",
      "text/plain": [
       "<Figure size 432x288 with 1 Axes>"
      ]
     },
     "metadata": {
      "needs_background": "light"
     },
     "output_type": "display_data"
    }
   ],
   "source": [
    "plt.hist(df['Credit_Score'],bins=10)"
   ]
  },
  {
   "cell_type": "code",
   "execution_count": 21,
   "id": "c4aecb21",
   "metadata": {},
   "outputs": [
    {
     "data": {
      "text/plain": [
       "count    28297.000000\n",
       "mean       739.885381\n",
       "std         72.163846\n",
       "min        580.000000\n",
       "25%        681.880000\n",
       "50%        739.820000\n",
       "75%        799.120000\n",
       "max        896.260000\n",
       "Name: Credit_Score, dtype: float64"
      ]
     },
     "execution_count": 21,
     "metadata": {},
     "output_type": "execute_result"
    }
   ],
   "source": [
    "df['Credit_Score'].describe()"
   ]
  },
  {
   "cell_type": "code",
   "execution_count": 22,
   "id": "81e1404e",
   "metadata": {},
   "outputs": [],
   "source": [
    "df['Credit_Score'].fillna(df['Credit_Score'].mean(),inplace=True)\n",
    "df_test['Credit_Score'].fillna(df['Credit_Score'].mean(),inplace=True)"
   ]
  },
  {
   "cell_type": "markdown",
   "id": "e27ae292",
   "metadata": {},
   "source": [
    "### Property_Age"
   ]
  },
  {
   "cell_type": "code",
   "execution_count": 23,
   "id": "9d5a34d2",
   "metadata": {},
   "outputs": [
    {
     "data": {
      "text/plain": [
       "(array([2.5149e+04, 0.0000e+00, 0.0000e+00, 0.0000e+00, 1.0000e+00]),\n",
       " array([3.77700000e+02, 3.55794202e+05, 7.11210704e+05, 1.06662721e+06,\n",
       "        1.42204371e+06, 1.77746021e+06]),\n",
       " <BarContainer object of 5 artists>)"
      ]
     },
     "execution_count": 23,
     "metadata": {},
     "output_type": "execute_result"
    },
    {
     "data": {
      "image/png": "[encoded data removed]",
      "text/plain": [
       "<Figure size 432x288 with 1 Axes>"
      ]
     },
     "metadata": {
      "needs_background": "light"
     },
     "output_type": "display_data"
    }
   ],
   "source": [
    "plt.hist(df['Property_Age'],bins=5)"
   ]
  },
  {
   "cell_type": "code",
   "execution_count": 24,
   "id": "808d2b71",
   "metadata": {},
   "outputs": [
    {
     "data": {
      "text/plain": [
       "count    2.515000e+04\n",
       "mean     2.631119e+03\n",
       "std      1.132268e+04\n",
       "min      3.777000e+02\n",
       "25%      1.650450e+03\n",
       "50%      2.223250e+03\n",
       "75%      3.091408e+03\n",
       "max      1.777460e+06\n",
       "Name: Property_Age, dtype: float64"
      ]
     },
     "execution_count": 24,
     "metadata": {},
     "output_type": "execute_result"
    }
   ],
   "source": [
    "df['Property_Age'].describe()"
   ]
  },
  {
   "cell_type": "code",
   "execution_count": 25,
   "id": "36636c76",
   "metadata": {},
   "outputs": [],
   "source": [
    "df.loc[(df['Property_Age'].isnull()),'Property_Age']=random.uniform(1.650457e+03,3.091408e+03)\n",
    "df_test.loc[(df_test['Property_Age'].isnull()),'Property_Age']=random.uniform(1.650457e+03,3.091408e+03)"
   ]
  },
  {
   "cell_type": "markdown",
   "id": "2e61a217",
   "metadata": {},
   "source": [
    "### Dependents"
   ]
  },
  {
   "cell_type": "code",
   "execution_count": 26,
   "id": "894cff84",
   "metadata": {},
   "outputs": [
    {
     "data": {
      "text/plain": [
       "(array([2.4371e+04, 3.1260e+03, 8.0000e+00, 1.0000e+00, 1.0000e+00]),\n",
       " array([ 1. ,  3.6,  6.2,  8.8, 11.4, 14. ]),\n",
       " <BarContainer object of 5 artists>)"
      ]
     },
     "execution_count": 26,
     "metadata": {},
     "output_type": "execute_result"
    },
    {
     "data": {
      "image/png": "[encoded data removed]",
      "text/plain": [
       "<Figure size 432x288 with 1 Axes>"
      ]
     },
     "metadata": {
      "needs_background": "light"
     },
     "output_type": "display_data"
    }
   ],
   "source": [
    "plt.hist(df['Dependents'],bins=5)"
   ]
  },
  {
   "cell_type": "code",
   "execution_count": 27,
   "id": "7866ae05",
   "metadata": {},
   "outputs": [
    {
     "data": {
      "text/plain": [
       "count    27507.000000\n",
       "mean         2.253027\n",
       "std          0.951162\n",
       "min          1.000000\n",
       "25%          2.000000\n",
       "50%          2.000000\n",
       "75%          3.000000\n",
       "max         14.000000\n",
       "Name: Dependents, dtype: float64"
      ]
     },
     "execution_count": 27,
     "metadata": {},
     "output_type": "execute_result"
    }
   ],
   "source": [
    "df['Dependents'].describe()"
   ]
  },
  {
   "cell_type": "code",
   "execution_count": 28,
   "id": "6431ab2f",
   "metadata": {},
   "outputs": [],
   "source": [
    "df.loc[(df['Dependents'].isnull()),'Dependents']=random.randint(1,4)\n",
    "df_test.loc[(df_test['Dependents'].isnull()),'Dependents']=random.randint(1,4)"
   ]
  },
  {
   "cell_type": "markdown",
   "id": "9bbcd184",
   "metadata": {},
   "source": [
    "### Defaults"
   ]
  },
  {
   "cell_type": "code",
   "execution_count": 29,
   "id": "285c8e24",
   "metadata": {},
   "outputs": [
    {
     "data": {
      "text/plain": [
       "(array([24182.,     0.,     0.,     0.,  5818.]),\n",
       " array([0. , 0.2, 0.4, 0.6, 0.8, 1. ]),\n",
       " <BarContainer object of 5 artists>)"
      ]
     },
     "execution_count": 29,
     "metadata": {},
     "output_type": "execute_result"
    },
    {
     "data": {
      "image/png": "[encoded data removed]",
      "text/plain": [
       "<Figure size 432x288 with 1 Axes>"
      ]
     },
     "metadata": {
      "needs_background": "light"
     },
     "output_type": "display_data"
    }
   ],
   "source": [
    "plt.hist(df['Defaults'],bins=5)"
   ]
  },
  {
   "cell_type": "code",
   "execution_count": 30,
   "id": "114bab7c",
   "metadata": {},
   "outputs": [
    {
     "data": {
      "text/plain": [
       "count    30000.000000\n",
       "mean         0.193933\n",
       "std          0.395384\n",
       "min          0.000000\n",
       "25%          0.000000\n",
       "50%          0.000000\n",
       "75%          0.000000\n",
       "max          1.000000\n",
       "Name: Defaults, dtype: float64"
      ]
     },
     "execution_count": 30,
     "metadata": {},
     "output_type": "execute_result"
    }
   ],
   "source": [
    "df['Defaults'].describe()"
   ]
  },
  {
   "cell_type": "code",
   "execution_count": 31,
   "id": "12765741",
   "metadata": {},
   "outputs": [
    {
     "data": {
      "text/plain": [
       "array([0, 1], dtype=int64)"
      ]
     },
     "execution_count": 31,
     "metadata": {},
     "output_type": "execute_result"
    }
   ],
   "source": [
    "df['Defaults'].unique()"
   ]
  },
  {
   "cell_type": "markdown",
   "id": "a17a75f7",
   "metadata": {},
   "source": [
    "### Property_Type"
   ]
  },
  {
   "cell_type": "code",
   "execution_count": 32,
   "id": "f1cb9aee",
   "metadata": {},
   "outputs": [
    {
     "data": {
      "text/plain": [
       "(array([7863., 7650.,    0., 7309., 7178.]),\n",
       " array([1. , 1.6, 2.2, 2.8, 3.4, 4. ]),\n",
       " <BarContainer object of 5 artists>)"
      ]
     },
     "execution_count": 32,
     "metadata": {},
     "output_type": "execute_result"
    },
    {
     "data": {
      "image/png": "[encoded data removed]",
      "text/plain": [
       "<Figure size 432x288 with 1 Axes>"
      ]
     },
     "metadata": {
      "needs_background": "light"
     },
     "output_type": "display_data"
    }
   ],
   "source": [
    "plt.hist(df['Property_Type'],bins=5)"
   ]
  },
  {
   "cell_type": "code",
   "execution_count": 33,
   "id": "6a4300b2",
   "metadata": {},
   "outputs": [
    {
     "data": {
      "text/plain": [
       "count    30000.000000\n",
       "mean         2.460067\n",
       "std          1.118562\n",
       "min          1.000000\n",
       "25%          1.000000\n",
       "50%          2.000000\n",
       "75%          3.000000\n",
       "max          4.000000\n",
       "Name: Property_Type, dtype: float64"
      ]
     },
     "execution_count": 33,
     "metadata": {},
     "output_type": "execute_result"
    }
   ],
   "source": [
    "df['Property_Type'].describe()"
   ]
  },
  {
   "cell_type": "code",
   "execution_count": 34,
   "id": "587f805e",
   "metadata": {},
   "outputs": [
    {
     "data": {
      "text/plain": [
       "array([4, 2, 1, 3], dtype=int64)"
      ]
     },
     "execution_count": 34,
     "metadata": {},
     "output_type": "execute_result"
    }
   ],
   "source": [
    "df['Property_Type'].unique()"
   ]
  },
  {
   "cell_type": "markdown",
   "id": "c7779455",
   "metadata": {},
   "source": [
    "### Co-Applicant"
   ]
  },
  {
   "cell_type": "code",
   "execution_count": 35,
   "id": "12328a22",
   "metadata": {},
   "outputs": [
    {
     "data": {
      "text/plain": [
       "(array([  168.,     0.,     0.,     0., 29832.]),\n",
       " array([-999., -799., -599., -399., -199.,    1.]),\n",
       " <BarContainer object of 5 artists>)"
      ]
     },
     "execution_count": 35,
     "metadata": {},
     "output_type": "execute_result"
    },
    {
     "data": {
      "image/png": "[encoded data removed]",
      "text/plain": [
       "<Figure size 432x288 with 1 Axes>"
      ]
     },
     "metadata": {
      "needs_background": "light"
     },
     "output_type": "display_data"
    }
   ],
   "source": [
    "plt.hist(df['Co-Applicant'],bins=5)"
   ]
  },
  {
   "cell_type": "code",
   "execution_count": 36,
   "id": "05a07ad8",
   "metadata": {},
   "outputs": [
    {
     "data": {
      "text/plain": [
       "count    30000.000000\n",
       "mean        -4.743867\n",
       "std         74.614593\n",
       "min       -999.000000\n",
       "25%          1.000000\n",
       "50%          1.000000\n",
       "75%          1.000000\n",
       "max          1.000000\n",
       "Name: Co-Applicant, dtype: float64"
      ]
     },
     "execution_count": 36,
     "metadata": {},
     "output_type": "execute_result"
    }
   ],
   "source": [
    "df['Co-Applicant'].describe()"
   ]
  },
  {
   "cell_type": "code",
   "execution_count": 37,
   "id": "1a17d403",
   "metadata": {},
   "outputs": [
    {
     "data": {
      "text/plain": [
       "array([   1,    0, -999], dtype=int64)"
      ]
     },
     "execution_count": 37,
     "metadata": {},
     "output_type": "execute_result"
    }
   ],
   "source": [
    "df['Co-Applicant'].unique()"
   ]
  },
  {
   "cell_type": "code",
   "execution_count": 38,
   "id": "6e034c0a",
   "metadata": {},
   "outputs": [],
   "source": [
    "# Replacing all the garbage values (i.e -999)\n",
    "df.loc[(df['Co-Applicant'] == -999),'Co-Applicant']=random.randint(0,2)\n",
    "df_test.loc[(df_test['Co-Applicant'] == -999),'Co-Applicant']=random.randint(0,2)"
   ]
  },
  {
   "cell_type": "code",
   "execution_count": 39,
   "id": "5f6a7061",
   "metadata": {},
   "outputs": [],
   "source": [
    "df_test.loc[(df_test['Co-Applicant'] == '?'),'Co-Applicant']=random.randint(0,2)\n",
    "df_test['Co-Applicant']= df_test['Co-Applicant'].astype(str).astype(float)"
   ]
  },
  {
   "cell_type": "markdown",
   "id": "000160fb",
   "metadata": {},
   "source": [
    "### Property_Price"
   ]
  },
  {
   "cell_type": "code",
   "execution_count": 40,
   "id": "964c3f7c",
   "metadata": {},
   "outputs": [
    {
     "data": {
      "text/plain": [
       "(array([2.4963e+04, 4.7200e+03, 3.0200e+02, 1.2000e+01, 3.0000e+00]),\n",
       " array([-9.99000000e+02,  2.14794146e+05,  4.30587292e+05,  6.46380438e+05,\n",
       "         8.62173584e+05,  1.07796673e+06]),\n",
       " <BarContainer object of 5 artists>)"
      ]
     },
     "execution_count": 40,
     "metadata": {},
     "output_type": "execute_result"
    },
    {
     "data": {
      "image/png": "[encoded data removed]",
      "text/plain": [
       "<Figure size 432x288 with 1 Axes>"
      ]
     },
     "metadata": {
      "needs_background": "light"
     },
     "output_type": "display_data"
    }
   ],
   "source": [
    "plt.hist(df['Property_Price'],bins=5)"
   ]
  },
  {
   "cell_type": "code",
   "execution_count": 41,
   "id": "ef6e4c09",
   "metadata": {},
   "outputs": [
    {
     "data": {
      "text/plain": [
       "count    3.000000e+04\n",
       "mean     1.317597e+05\n",
       "std      9.354955e+04\n",
       "min     -9.990000e+02\n",
       "25%      6.057216e+04\n",
       "50%      1.099936e+05\n",
       "75%      1.788807e+05\n",
       "max      1.077967e+06\n",
       "Name: Property_Price, dtype: float64"
      ]
     },
     "execution_count": 41,
     "metadata": {},
     "output_type": "execute_result"
    }
   ],
   "source": [
    "df['Property_Price'].describe()"
   ]
  },
  {
   "cell_type": "code",
   "execution_count": 42,
   "id": "574f82ad",
   "metadata": {},
   "outputs": [],
   "source": [
    "# Negative values to positive (loan expense can't be negative)\n",
    "df.loc[(df['Property_Price']==-9.990000e+02),'Property_Price']=random.uniform(6.057216e+04,1.788807e+05)\n",
    "df_test.loc[(df_test['Property_Price']==-9.990000e+02),'Property_Price']=random.uniform(6.057216e+04,1.788807e+05)"
   ]
  },
  {
   "cell_type": "code",
   "execution_count": 43,
   "id": "5e48badc",
   "metadata": {},
   "outputs": [],
   "source": [
    "df_test.loc[(df_test['Property_Price']=='?'),'Property_Price']=random.uniform(6.057216e+04,1.788807e+05)\n",
    "df_test['Property_Price']= df_test['Property_Price'].astype(str).astype(float)"
   ]
  },
  {
   "cell_type": "markdown",
   "id": "335069f4",
   "metadata": {},
   "source": [
    "##  Handling Categorical values"
   ]
  },
  {
   "cell_type": "markdown",
   "id": "7e98c5fc",
   "metadata": {},
   "source": [
    "### Gender"
   ]
  },
  {
   "cell_type": "code",
   "execution_count": 44,
   "id": "ed9eb30f",
   "metadata": {},
   "outputs": [
    {
     "data": {
      "text/plain": [
       "<AxesSubplot:xlabel='Gender', ylabel='count'>"
      ]
     },
     "execution_count": 44,
     "metadata": {},
     "output_type": "execute_result"
    },
    {
     "data": {
      "image/png": "[encoded data removed]",
      "text/plain": [
       "<Figure size 432x288 with 1 Axes>"
      ]
     },
     "metadata": {
      "needs_background": "light"
     },
     "output_type": "display_data"
    }
   ],
   "source": [
    "sns.countplot(x=\"Gender\", data=df)"
   ]
  },
  {
   "cell_type": "code",
   "execution_count": 45,
   "id": "8407d20d",
   "metadata": {},
   "outputs": [
    {
     "data": {
      "text/plain": [
       "count     29947\n",
       "unique        2\n",
       "top           M\n",
       "freq      15053\n",
       "Name: Gender, dtype: object"
      ]
     },
     "execution_count": 45,
     "metadata": {},
     "output_type": "execute_result"
    }
   ],
   "source": [
    "df['Gender'].describe()"
   ]
  },
  {
   "cell_type": "code",
   "execution_count": 46,
   "id": "8f010f14",
   "metadata": {},
   "outputs": [],
   "source": [
    "df['Gender'].fillna(df['Gender'].mode(),inplace=True)\n",
    "df_test['Gender'].fillna(df['Gender'].mode(),inplace=True)"
   ]
  },
  {
   "cell_type": "code",
   "execution_count": 47,
   "id": "9b71e97e",
   "metadata": {},
   "outputs": [],
   "source": [
    "dummies_train  = pd.get_dummies(df['Gender'])\n",
    "dummies_train.drop(['M'],axis=1,inplace=True)\n",
    "\n",
    "dummies_test  = pd.get_dummies(df_test['Gender'])\n",
    "dummies_test.drop(['M'],axis=1,inplace=True)\n",
    "\n",
    "df = df.join(dummies_train)\n",
    "df_test = df_test.join(dummies_test)\n",
    "\n",
    "df_test.drop(['Gender'],axis=1,inplace=True)\n",
    "df.drop(['Gender'],axis=1,inplace=True)\n"
   ]
  },
  {
   "cell_type": "markdown",
   "id": "a4dc860f",
   "metadata": {},
   "source": [
    "### Income_Stability"
   ]
  },
  {
   "cell_type": "code",
   "execution_count": 48,
   "id": "3dccdf49",
   "metadata": {},
   "outputs": [
    {
     "data": {
      "text/plain": [
       "<AxesSubplot:xlabel='Income_Stability', ylabel='count'>"
      ]
     },
     "execution_count": 48,
     "metadata": {},
     "output_type": "execute_result"
    },
    {
     "data": {
      "image/png": "[encoded data removed]",
      "text/plain": [
       "<Figure size 432x288 with 1 Axes>"
      ]
     },
     "metadata": {
      "needs_background": "light"
     },
     "output_type": "display_data"
    }
   ],
   "source": [
    "sns.countplot(x=\"Income_Stability\", data=df)"
   ]
  },
  {
   "cell_type": "code",
   "execution_count": 49,
   "id": "3ffb64f9",
   "metadata": {},
   "outputs": [
    {
     "data": {
      "text/plain": [
       "count     28317\n",
       "unique        2\n",
       "top         Low\n",
       "freq      25751\n",
       "Name: Income_Stability, dtype: object"
      ]
     },
     "execution_count": 49,
     "metadata": {},
     "output_type": "execute_result"
    }
   ],
   "source": [
    "df['Income_Stability'].describe()"
   ]
  },
  {
   "cell_type": "code",
   "execution_count": 50,
   "id": "f3fc0d25",
   "metadata": {},
   "outputs": [],
   "source": [
    "df['Income_Stability'].fillna(df['Income_Stability'].mode(),inplace=True)\n",
    "df_test['Income_Stability'].fillna(df['Income_Stability'].mode(),inplace=True)"
   ]
  },
  {
   "cell_type": "code",
   "execution_count": 51,
   "id": "10608c21",
   "metadata": {},
   "outputs": [],
   "source": [
    "dummies_train  = pd.get_dummies(df['Income_Stability'])\n",
    "dummies_train.drop(['High'],axis=1,inplace=True)\n",
    "\n",
    "dummies_test  = pd.get_dummies(df_test['Income_Stability'])\n",
    "dummies_test.drop(['High'],axis=1,inplace=True)\n",
    "\n",
    "df = df.join(dummies_train)\n",
    "df_test = df_test.join(dummies_test)\n",
    "\n",
    "df_test.drop(['Income_Stability'],axis=1,inplace=True)\n",
    "df.drop(['Income_Stability'],axis=1,inplace=True)"
   ]
  },
  {
   "cell_type": "markdown",
   "id": "a1933ab4",
   "metadata": {},
   "source": [
    "### Property_Location"
   ]
  },
  {
   "cell_type": "code",
   "execution_count": 52,
   "id": "1b89af70",
   "metadata": {},
   "outputs": [
    {
     "data": {
      "text/plain": [
       "<AxesSubplot:xlabel='Property_Location', ylabel='count'>"
      ]
     },
     "execution_count": 52,
     "metadata": {},
     "output_type": "execute_result"
    },
    {
     "data": {
      "image/png": "[encoded data removed]",
      "text/plain": [
       "<Figure size 432x288 with 1 Axes>"
      ]
     },
     "metadata": {
      "needs_background": "light"
     },
     "output_type": "display_data"
    }
   ],
   "source": [
    "sns.countplot(x=\"Property_Location\", data=df)"
   ]
  },
  {
   "cell_type": "code",
   "execution_count": 53,
   "id": "da3518d2",
   "metadata": {},
   "outputs": [
    {
     "data": {
      "text/plain": [
       "count          29644\n",
       "unique             3\n",
       "top       Semi-Urban\n",
       "freq           10387\n",
       "Name: Property_Location, dtype: object"
      ]
     },
     "execution_count": 53,
     "metadata": {},
     "output_type": "execute_result"
    }
   ],
   "source": [
    "df['Property_Location'].describe()"
   ]
  },
  {
   "cell_type": "code",
   "execution_count": 54,
   "id": "29c88365",
   "metadata": {},
   "outputs": [],
   "source": [
    "df['Property_Location'].fillna(df['Property_Location'].mode(),inplace=True)\n",
    "df_test['Property_Location'].fillna(df['Property_Location'].mode(),inplace=True)"
   ]
  },
  {
   "cell_type": "code",
   "execution_count": 55,
   "id": "d30db28a",
   "metadata": {},
   "outputs": [],
   "source": [
    "dummies_train  = pd.get_dummies(df['Property_Location'])\n",
    "dummies_train.drop(['Semi-Urban'],axis=1,inplace=True)\n",
    "\n",
    "dummies_test  = pd.get_dummies(df_test['Property_Location'])\n",
    "dummies_test.drop(['Semi-Urban'],axis=1,inplace=True)\n",
    "\n",
    "df = df.join(dummies_train)\n",
    "df_test = df_test.join(dummies_test)\n",
    "\n",
    "df_test.drop(['Property_Location'],axis=1,inplace=True)\n",
    "df.drop(['Property_Location'],axis=1,inplace=True)"
   ]
  },
  {
   "cell_type": "markdown",
   "id": "08452f15",
   "metadata": {},
   "source": [
    "### Location"
   ]
  },
  {
   "cell_type": "code",
   "execution_count": 56,
   "id": "cadb0931",
   "metadata": {},
   "outputs": [
    {
     "data": {
      "text/plain": [
       "<AxesSubplot:xlabel='Location', ylabel='count'>"
      ]
     },
     "execution_count": 56,
     "metadata": {},
     "output_type": "execute_result"
    },
    {
     "data": {
      "image/png": "[encoded data removed]",
      "text/plain": [
       "<Figure size 432x288 with 1 Axes>"
      ]
     },
     "metadata": {
      "needs_background": "light"
     },
     "output_type": "display_data"
    }
   ],
   "source": [
    "sns.countplot(x=\"Location\", data=df)"
   ]
  },
  {
   "cell_type": "code",
   "execution_count": 57,
   "id": "360dcaa8",
   "metadata": {},
   "outputs": [
    {
     "data": {
      "text/plain": [
       "count          30000\n",
       "unique             3\n",
       "top       Semi-Urban\n",
       "freq           21563\n",
       "Name: Location, dtype: object"
      ]
     },
     "execution_count": 57,
     "metadata": {},
     "output_type": "execute_result"
    }
   ],
   "source": [
    "df['Location'].describe()"
   ]
  },
  {
   "cell_type": "code",
   "execution_count": 58,
   "id": "ba6f9d8a",
   "metadata": {},
   "outputs": [],
   "source": [
    "df['Location'].fillna(df['Location'].mode(),inplace=True)\n",
    "df_test['Location'].fillna(df['Location'].mode(),inplace=True)"
   ]
  },
  {
   "cell_type": "code",
   "execution_count": 59,
   "id": "10ca8203",
   "metadata": {},
   "outputs": [],
   "source": [
    "dummies_train  = pd.get_dummies(df['Location'])\n",
    "dummies_train.drop(['Urban'],axis=1,inplace=True)\n",
    "\n",
    "dummies_test  = pd.get_dummies(df_test['Location'])\n",
    "dummies_test.drop(['Urban'],axis=1,inplace=True)\n",
    "\n",
    "dummies_train.columns = ['Semi-Urban','Rural_1']\n",
    "dummies_test.columns = ['Semi-Urban','Rural_1']\n",
    "\n",
    "df = df.join(dummies_train)\n",
    "df_test = df_test.join(dummies_test)\n",
    "\n",
    "df_test.drop(['Location'],axis=1,inplace=True)\n",
    "df.drop(['Location'],axis=1,inplace=True)"
   ]
  },
  {
   "cell_type": "markdown",
   "id": "e3278aea",
   "metadata": {},
   "source": [
    "### Expense_Type_1"
   ]
  },
  {
   "cell_type": "code",
   "execution_count": 60,
   "id": "dc2c5f4e",
   "metadata": {},
   "outputs": [
    {
     "data": {
      "text/plain": [
       "<AxesSubplot:xlabel='Expense_Type_1', ylabel='count'>"
      ]
     },
     "execution_count": 60,
     "metadata": {},
     "output_type": "execute_result"
    },
    {
     "data": {
      "image/png": "[encoded data removed]",
      "text/plain": [
       "<Figure size 432x288 with 1 Axes>"
      ]
     },
     "metadata": {
      "needs_background": "light"
     },
     "output_type": "display_data"
    }
   ],
   "source": [
    "sns.countplot(x=\"Expense_Type_1\", data=df)"
   ]
  },
  {
   "cell_type": "code",
   "execution_count": 61,
   "id": "2b346d5c",
   "metadata": {},
   "outputs": [
    {
     "data": {
      "text/plain": [
       "count     30000\n",
       "unique        2\n",
       "top           N\n",
       "freq      19214\n",
       "Name: Expense_Type_1, dtype: object"
      ]
     },
     "execution_count": 61,
     "metadata": {},
     "output_type": "execute_result"
    }
   ],
   "source": [
    "df['Expense_Type_1'].describe()"
   ]
  },
  {
   "cell_type": "code",
   "execution_count": 62,
   "id": "e7ed16a0",
   "metadata": {},
   "outputs": [],
   "source": [
    "dummies_train  = pd.get_dummies(df['Expense_Type_1'])\n",
    "dummies_train.drop(['N'],axis=1,inplace=True)\n",
    "\n",
    "dummies_test  = pd.get_dummies(df_test['Expense_Type_1'])\n",
    "dummies_test.drop(['N'],axis=1,inplace=True)\n",
    "\n",
    "df = df.join(dummies_train)\n",
    "df_test = df_test.join(dummies_test)\n",
    "\n",
    "df_test.drop(['Expense_Type_1'],axis=1,inplace=True)\n",
    "df.drop(['Expense_Type_1'],axis=1,inplace=True)"
   ]
  },
  {
   "cell_type": "markdown",
   "id": "1971af37",
   "metadata": {},
   "source": [
    "### Expense_Type_2"
   ]
  },
  {
   "cell_type": "code",
   "execution_count": 63,
   "id": "e7972b34",
   "metadata": {},
   "outputs": [
    {
     "data": {
      "text/plain": [
       "<AxesSubplot:xlabel='Expense_Type_2', ylabel='count'>"
      ]
     },
     "execution_count": 63,
     "metadata": {},
     "output_type": "execute_result"
    },
    {
     "data": {
      "image/png": "[encoded data removed]",
      "text/plain": [
       "<Figure size 432x288 with 1 Axes>"
      ]
     },
     "metadata": {
      "needs_background": "light"
     },
     "output_type": "display_data"
    }
   ],
   "source": [
    "sns.countplot(x=\"Expense_Type_2\", data=df)"
   ]
  },
  {
   "cell_type": "code",
   "execution_count": 64,
   "id": "9ebde008",
   "metadata": {},
   "outputs": [
    {
     "data": {
      "text/plain": [
       "count     30000\n",
       "unique        2\n",
       "top           Y\n",
       "freq      20180\n",
       "Name: Expense_Type_2, dtype: object"
      ]
     },
     "execution_count": 64,
     "metadata": {},
     "output_type": "execute_result"
    }
   ],
   "source": [
    "df['Expense_Type_2'].describe()"
   ]
  },
  {
   "cell_type": "code",
   "execution_count": 65,
   "id": "175dbd42",
   "metadata": {},
   "outputs": [],
   "source": [
    "dummies_train  = pd.get_dummies(df['Expense_Type_2'])\n",
    "dummies_train.drop(['Y'],axis=1,inplace=True)\n",
    "\n",
    "dummies_test  = pd.get_dummies(df_test['Expense_Type_2'])\n",
    "dummies_test.drop(['Y'],axis=1,inplace=True)\n",
    "\n",
    "df = df.join(dummies_train)\n",
    "df_test = df_test.join(dummies_test)\n",
    "\n",
    "df_test.drop(['Expense_Type_2'],axis=1,inplace=True)\n",
    "df.drop(['Expense_Type_2'],axis=1,inplace=True)"
   ]
  },
  {
   "cell_type": "markdown",
   "id": "a058c300",
   "metadata": {},
   "source": [
    "### Credit_Card_status"
   ]
  },
  {
   "cell_type": "code",
   "execution_count": 66,
   "id": "5b336c5a",
   "metadata": {},
   "outputs": [
    {
     "data": {
      "text/plain": [
       "<AxesSubplot:xlabel='Credit_Card_status', ylabel='count'>"
      ]
     },
     "execution_count": 66,
     "metadata": {},
     "output_type": "execute_result"
    },
    {
     "data": {
      "image/png": "[encoded data removed]",
      "text/plain": [
       "<Figure size 432x288 with 1 Axes>"
      ]
     },
     "metadata": {
      "needs_background": "light"
     },
     "output_type": "display_data"
    }
   ],
   "source": [
    "sns.countplot(x=\"Credit_Card_status\", data=df)"
   ]
  },
  {
   "cell_type": "code",
   "execution_count": 67,
   "id": "7d542404",
   "metadata": {},
   "outputs": [
    {
     "data": {
      "text/plain": [
       "count      28434\n",
       "unique         3\n",
       "top       Active\n",
       "freq        9771\n",
       "Name: Credit_Card_status, dtype: object"
      ]
     },
     "execution_count": 67,
     "metadata": {},
     "output_type": "execute_result"
    }
   ],
   "source": [
    "df['Credit_Card_status'].describe()"
   ]
  },
  {
   "cell_type": "code",
   "execution_count": 68,
   "id": "e18402f1",
   "metadata": {},
   "outputs": [],
   "source": [
    "df['Credit_Card_status'].fillna(df['Credit_Card_status'].mode(),inplace=True)\n",
    "df_test['Credit_Card_status'].fillna(df['Credit_Card_status'].mode(),inplace=True)"
   ]
  },
  {
   "cell_type": "code",
   "execution_count": 69,
   "id": "b98be4c4",
   "metadata": {},
   "outputs": [],
   "source": [
    "dummies_train  = pd.get_dummies(df['Credit_Card_status'])\n",
    "dummies_train.drop(['Active'],axis=1,inplace=True)\n",
    "\n",
    "dummies_test  = pd.get_dummies(df_test['Credit_Card_status'])\n",
    "dummies_test.drop(['Active'],axis=1,inplace=True)\n",
    "\n",
    "df = df.join(dummies_train)\n",
    "df_test = df_test.join(dummies_test)\n",
    "\n",
    "df_test.drop(['Credit_Card_status'],axis=1,inplace=True)\n",
    "df.drop(['Credit_Card_status'],axis=1,inplace=True)"
   ]
  },
  {
   "cell_type": "markdown",
   "id": "a29cb8c2",
   "metadata": {},
   "source": [
    "#### Filling missing values in Target variable  (Loan_Sanction_Amount)"
   ]
  },
  {
   "cell_type": "code",
   "execution_count": 70,
   "id": "c06c1ed7",
   "metadata": {},
   "outputs": [
    {
     "data": {
      "text/plain": [
       "count     29660.000000\n",
       "mean      47649.342208\n",
       "std       48221.146686\n",
       "min        -999.000000\n",
       "25%           0.000000\n",
       "50%       35209.395000\n",
       "75%       74261.250000\n",
       "max      481907.320000\n",
       "Name: Loan_Sanction_Amount, dtype: float64"
      ]
     },
     "execution_count": 70,
     "metadata": {},
     "output_type": "execute_result"
    }
   ],
   "source": [
    "df['Loan_Sanction_Amount'].describe()"
   ]
  },
  {
   "cell_type": "code",
   "execution_count": 71,
   "id": "92d965aa",
   "metadata": {},
   "outputs": [],
   "source": [
    "# Negative values to positive (loan sanction can't be negative)\n",
    "df.loc[(df['Loan_Sanction_Amount']<0),'Loan_Sanction_Amount']=random.uniform( 0.000000,74261.250000)"
   ]
  },
  {
   "cell_type": "code",
   "execution_count": 72,
   "id": "5872a47a",
   "metadata": {},
   "outputs": [],
   "source": [
    "df.loc[(df['Loan_Sanction_Amount'].isnull()),'Loan_Sanction_Amount']=random.uniform(0.000000,74261.250000)"
   ]
  },
  {
   "cell_type": "code",
   "execution_count": 73,
   "id": "958f0ac1",
   "metadata": {},
   "outputs": [],
   "source": [
    "train = df.drop( ['Customer ID','Name','Profession','Employment_Type'] ,axis=1)\n",
    "test = df_test.drop( ['Customer ID','Name','Profession','Employment_Type'] ,axis=1)"
   ]
  },
  {
   "cell_type": "markdown",
   "id": "d63980c9",
   "metadata": {},
   "source": [
    "#  Applying statstical test to select best features"
   ]
  },
  {
   "cell_type": "code",
   "execution_count": 74,
   "id": "4882f6f9",
   "metadata": {},
   "outputs": [],
   "source": [
    "X = train.drop(['Loan_Sanction_Amount'], axis = 1)\n",
    "Y = train['Loan_Sanction_Amount']\n",
    "Y=Y.astype('int')"
   ]
  },
  {
   "cell_type": "code",
   "execution_count": 75,
   "id": "062d1bde",
   "metadata": {},
   "outputs": [],
   "source": [
    "from sklearn.feature_selection import SelectKBest\n",
    "from sklearn.feature_selection import chi2\n",
    "bestfeatures = SelectKBest(score_func=chi2, k=8)\n",
    "fit = bestfeatures.fit(X, Y)"
   ]
  },
  {
   "cell_type": "code",
   "execution_count": 76,
   "id": "b0387256",
   "metadata": {},
   "outputs": [],
   "source": [
    "dfscores = pd.DataFrame(fit.scores_)\n",
    "dfcolumns = pd.DataFrame(X.columns)"
   ]
  },
  {
   "cell_type": "code",
   "execution_count": 77,
   "id": "9fb4dafd",
   "metadata": {},
   "outputs": [
    {
     "data": {
      "text/html": [
       "<div>\n",
       "<style scoped>\n",
       "    .dataframe tbody tr th:only-of-type {\n",
       "        vertical-align: middle;\n",
       "    }\n",
       "\n",
       "    .dataframe tbody tr th {\n",
       "        vertical-align: top;\n",
       "    }\n",
       "\n",
       "    .dataframe thead th {\n",
       "        text-align: right;\n",
       "    }\n",
       "</style>\n",
       "<table border=\"1\" class=\"dataframe\">\n",
       "  <thead>\n",
       "    <tr style=\"text-align: right;\">\n",
       "      <th></th>\n",
       "      <th>features</th>\n",
       "      <th>Score</th>\n",
       "    </tr>\n",
       "  </thead>\n",
       "  <tbody>\n",
       "    <tr>\n",
       "      <th>0</th>\n",
       "      <td>Age</td>\n",
       "      <td>1.292809e+05</td>\n",
       "    </tr>\n",
       "    <tr>\n",
       "      <th>1</th>\n",
       "      <td>Income</td>\n",
       "      <td>1.206833e+09</td>\n",
       "    </tr>\n",
       "    <tr>\n",
       "      <th>2</th>\n",
       "      <td>Loan_Amount_Request</td>\n",
       "      <td>8.989137e+08</td>\n",
       "    </tr>\n",
       "    <tr>\n",
       "      <th>3</th>\n",
       "      <td>Current_Loan_Expenses</td>\n",
       "      <td>2.519741e+06</td>\n",
       "    </tr>\n",
       "    <tr>\n",
       "      <th>4</th>\n",
       "      <td>Dependents</td>\n",
       "      <td>8.703766e+03</td>\n",
       "    </tr>\n",
       "    <tr>\n",
       "      <th>5</th>\n",
       "      <td>Credit_Score</td>\n",
       "      <td>1.295377e+05</td>\n",
       "    </tr>\n",
       "    <tr>\n",
       "      <th>6</th>\n",
       "      <td>Defaults</td>\n",
       "      <td>1.593466e+04</td>\n",
       "    </tr>\n",
       "    <tr>\n",
       "      <th>7</th>\n",
       "      <td>Property_ID</td>\n",
       "      <td>3.248640e+06</td>\n",
       "    </tr>\n",
       "    <tr>\n",
       "      <th>8</th>\n",
       "      <td>Property_Age</td>\n",
       "      <td>1.236109e+09</td>\n",
       "    </tr>\n",
       "    <tr>\n",
       "      <th>9</th>\n",
       "      <td>Property_Type</td>\n",
       "      <td>1.003421e+04</td>\n",
       "    </tr>\n",
       "    <tr>\n",
       "      <th>10</th>\n",
       "      <td>Co-Applicant</td>\n",
       "      <td>2.103891e+03</td>\n",
       "    </tr>\n",
       "    <tr>\n",
       "      <th>11</th>\n",
       "      <td>Property_Price</td>\n",
       "      <td>1.451425e+09</td>\n",
       "    </tr>\n",
       "    <tr>\n",
       "      <th>12</th>\n",
       "      <td>F</td>\n",
       "      <td>9.931796e+03</td>\n",
       "    </tr>\n",
       "    <tr>\n",
       "      <th>13</th>\n",
       "      <td>Low</td>\n",
       "      <td>3.262405e+03</td>\n",
       "    </tr>\n",
       "    <tr>\n",
       "      <th>14</th>\n",
       "      <td>Rural</td>\n",
       "      <td>1.312809e+04</td>\n",
       "    </tr>\n",
       "    <tr>\n",
       "      <th>15</th>\n",
       "      <td>Urban</td>\n",
       "      <td>1.363431e+04</td>\n",
       "    </tr>\n",
       "    <tr>\n",
       "      <th>16</th>\n",
       "      <td>Semi-Urban</td>\n",
       "      <td>1.557383e+04</td>\n",
       "    </tr>\n",
       "    <tr>\n",
       "      <th>17</th>\n",
       "      <td>Rural_1</td>\n",
       "      <td>5.532583e+03</td>\n",
       "    </tr>\n",
       "    <tr>\n",
       "      <th>18</th>\n",
       "      <td>Y</td>\n",
       "      <td>1.264007e+04</td>\n",
       "    </tr>\n",
       "    <tr>\n",
       "      <th>19</th>\n",
       "      <td>N</td>\n",
       "      <td>1.304371e+04</td>\n",
       "    </tr>\n",
       "    <tr>\n",
       "      <th>20</th>\n",
       "      <td>Inactive</td>\n",
       "      <td>1.351086e+04</td>\n",
       "    </tr>\n",
       "    <tr>\n",
       "      <th>21</th>\n",
       "      <td>Unpossessed</td>\n",
       "      <td>1.370941e+04</td>\n",
       "    </tr>\n",
       "  </tbody>\n",
       "</table>\n",
       "</div>"
      ],
      "text/plain": [
       "                 features         Score\n",
       "0                     Age  1.292809e+05\n",
       "1                  Income  1.206833e+09\n",
       "2     Loan_Amount_Request  8.989137e+08\n",
       "3   Current_Loan_Expenses  2.519741e+06\n",
       "4              Dependents  8.703766e+03\n",
       "5            Credit_Score  1.295377e+05\n",
       "6                Defaults  1.593466e+04\n",
       "7             Property_ID  3.248640e+06\n",
       "8            Property_Age  1.236109e+09\n",
       "9           Property_Type  1.003421e+04\n",
       "10           Co-Applicant  2.103891e+03\n",
       "11         Property_Price  1.451425e+09\n",
       "12                      F  9.931796e+03\n",
       "13                    Low  3.262405e+03\n",
       "14                  Rural  1.312809e+04\n",
       "15                  Urban  1.363431e+04\n",
       "16             Semi-Urban  1.557383e+04\n",
       "17                Rural_1  5.532583e+03\n",
       "18                      Y  1.264007e+04\n",
       "19                      N  1.304371e+04\n",
       "20               Inactive  1.351086e+04\n",
       "21            Unpossessed  1.370941e+04"
      ]
     },
     "execution_count": 77,
     "metadata": {},
     "output_type": "execute_result"
    }
   ],
   "source": [
    "featureScores = pd.concat([dfcolumns,dfscores],axis=1)\n",
    "featureScores.columns = ['features','Score']  #naming the dataframe columns\n",
    "featureScores"
   ]
  },
  {
   "cell_type": "code",
   "execution_count": 78,
   "id": "0f1942ca",
   "metadata": {},
   "outputs": [
    {
     "name": "stdout",
     "output_type": "stream",
     "text": [
      "                 features         Score\n",
      "11         Property_Price  1.451425e+09\n",
      "8            Property_Age  1.236109e+09\n",
      "1                  Income  1.206833e+09\n",
      "2     Loan_Amount_Request  8.989137e+08\n",
      "7             Property_ID  3.248640e+06\n",
      "3   Current_Loan_Expenses  2.519741e+06\n",
      "5            Credit_Score  1.295377e+05\n",
      "0                     Age  1.292809e+05\n",
      "6                Defaults  1.593466e+04\n",
      "16             Semi-Urban  1.557383e+04\n",
      "21            Unpossessed  1.370941e+04\n",
      "15                  Urban  1.363431e+04\n",
      "20               Inactive  1.351086e+04\n",
      "14                  Rural  1.312809e+04\n",
      "19                      N  1.304371e+04\n",
      "18                      Y  1.264007e+04\n",
      "9           Property_Type  1.003421e+04\n",
      "12                      F  9.931796e+03\n",
      "4              Dependents  8.703766e+03\n",
      "17                Rural_1  5.532583e+03\n",
      "13                    Low  3.262405e+03\n",
      "10           Co-Applicant  2.103891e+03\n"
     ]
    }
   ],
   "source": [
    "print(featureScores.nlargest(22,'Score'))"
   ]
  },
  {
   "cell_type": "markdown",
   "id": "1aa862bb",
   "metadata": {},
   "source": [
    "# Scaling / Noramlizing values / Transforming skewed values\n"
   ]
  },
  {
   "cell_type": "code",
   "execution_count": 79,
   "id": "78db32ec",
   "metadata": {},
   "outputs": [
    {
     "data": {
      "text/plain": [
       "array([5.73287104, 5.199474  , 5.23399856, ..., 5.52437306, 5.42566555,\n",
       "       5.92276918])"
      ]
     },
     "execution_count": 79,
     "metadata": {},
     "output_type": "execute_result"
    }
   ],
   "source": [
    "from scipy import stats\n",
    "\n",
    "# np.log(train['Property_Age'])\n",
    "# np.log(test['Property_Age'])\n",
    "# np.log(train['Income'])\n",
    "# np.log(test['Income'])\n",
    "stats.boxcox(train['Property_Age'])[0]\n",
    "stats.boxcox(train['Income'])[0]\n",
    "stats.boxcox(test['Income'])[0]\n",
    "stats.boxcox(test['Property_Age'])[0]"
   ]
  },
  {
   "cell_type": "code",
   "execution_count": 80,
   "id": "2e92eadf",
   "metadata": {},
   "outputs": [],
   "source": [
    "train['Age']=(train['Age']-train['Age'].mean())/train['Age'].std()\n",
    "test['Age']=(test['Age']-test['Age'].mean())/test['Age'].std()\n",
    "\n",
    "# train['Income']=(train['Income']-train['Income'].mean())/train['Income'].std()\n",
    "# test['Income']=(test['Income']-test['Income'].mean())/test['Income'].std()\n",
    "\n",
    "train['Current_Loan_Expenses']=(train['Current_Loan_Expenses']-train['Current_Loan_Expenses'].mean())/train['Current_Loan_Expenses'].std()\n",
    "test['Current_Loan_Expenses']=(test['Current_Loan_Expenses']-test['Current_Loan_Expenses'].mean())/test['Current_Loan_Expenses'].std()\n",
    "\n",
    "train['Loan_Amount_Request']=(train['Loan_Amount_Request']-train['Loan_Amount_Request'].mean())/train['Loan_Amount_Request'].std()\n",
    "test['Loan_Amount_Request']=(test['Loan_Amount_Request']-test['Loan_Amount_Request'].mean())/test['Loan_Amount_Request'].std()\n",
    "\n",
    "train['Credit_Score']=(train['Credit_Score']-train['Credit_Score'].mean())/train['Credit_Score'].std()\n",
    "test['Credit_Score']=(test['Credit_Score']-test['Credit_Score'].mean())/test['Credit_Score'].std()\n",
    "\n",
    "# train['Property_Age']=(train['Property_Age']-train['Property_Age'].mean())/train['Property_Age'].std()\n",
    "# test['Property_Age']=(test['Property_Age']-test['Property_Age'].mean())/test['Property_Age'].std()\n",
    "\n",
    "train['Property_ID']=(train['Property_ID']-train['Property_ID'].mean())/train['Property_ID'].std()\n",
    "test['Property_ID']=(test['Property_ID']-test['Property_ID'].mean())/test['Property_ID'].std()\n",
    "\n",
    "train['Property_Price']=(train['Property_Price']-train['Property_Price'].mean())/train['Property_Price'].std()\n",
    "test['Property_Price']=(test['Property_Price']-test['Property_Price'].mean())/test['Property_Price'].std()\n",
    "\n"
   ]
  },
  {
   "cell_type": "markdown",
   "id": "17352bf3",
   "metadata": {},
   "source": [
    "# Model building"
   ]
  },
  {
   "cell_type": "code",
   "execution_count": 81,
   "id": "58cc9fc6",
   "metadata": {},
   "outputs": [],
   "source": [
    "from sklearn.model_selection import train_test_split\n",
    "\n",
    "X = train.drop(['Loan_Sanction_Amount'], axis = 1)\n",
    "Y = train['Loan_Sanction_Amount']\n"
   ]
  },
  {
   "cell_type": "code",
   "execution_count": 82,
   "id": "de33342a",
   "metadata": {},
   "outputs": [],
   "source": [
    "x_train,x_test,y_train,y_test  = train_test_split(X, Y, test_size = 0.20, random_state = 0)"
   ]
  },
  {
   "cell_type": "code",
   "execution_count": 83,
   "id": "411b7535",
   "metadata": {},
   "outputs": [
    {
     "name": "stdout",
     "output_type": "stream",
     "text": [
      "(24000, 22) (24000,)\n",
      "(6000, 22) (6000,)\n"
     ]
    }
   ],
   "source": [
    "print(x_train.shape,y_train.shape)\n",
    "print(x_test.shape,y_test.shape)"
   ]
  },
  {
   "cell_type": "code",
   "execution_count": 84,
   "id": "12808fc0",
   "metadata": {},
   "outputs": [
    {
     "name": "stdout",
     "output_type": "stream",
     "text": [
      "0.6438907541424413\n",
      "0.6420580533442379\n"
     ]
    }
   ],
   "source": [
    "from sklearn.linear_model import LinearRegression, Lasso\n",
    "from sklearn.metrics import r2_score\n",
    "lr = LinearRegression()\n",
    "lr.fit(x_train,y_train)\n",
    "y_train_pred = lr.predict(x_train)\n",
    "y_test_pred = lr.predict(x_test)\n",
    "print(r2_score(y_true=y_train,y_pred=y_train_pred))\n",
    "print(r2_score(y_true=y_test,y_pred=y_test_pred))"
   ]
  },
  {
   "cell_type": "code",
   "execution_count": 85,
   "id": "0d908533",
   "metadata": {},
   "outputs": [
    {
     "name": "stdout",
     "output_type": "stream",
     "text": [
      "0.6438907541424412\n",
      "0.6420580538173172\n"
     ]
    }
   ],
   "source": [
    "from sklearn.linear_model import RidgeCV\n",
    "ridge_model = RidgeCV(scoring=\"r2\",\n",
    "                          alphas=[0.0001,0.0005,0.001,0.005,0.01,0.1,1.0,10],cv=5)\n",
    "ridge_model.fit(x_train,y_train)\n",
    "y_train_pred = ridge_model.predict(x_train)\n",
    "y_test_pred = ridge_model.predict(x_test)\n",
    "print(r2_score(y_true=y_train,y_pred=y_train_pred))\n",
    "print(r2_score(y_true=y_test,y_pred=y_test_pred))"
   ]
  },
  {
   "cell_type": "code",
   "execution_count": 86,
   "id": "603ad6b0",
   "metadata": {},
   "outputs": [],
   "source": [
    "# from sklearn.linear_model import LassoCV\n",
    "# lasso_model = LassoCV(alphas=[0.0001,0.0005,0.001,0.005,0.01,0.1,1.0,10],cv=5)\n",
    "# lasso_model.fit(x_train,y_train)\n",
    "# y_train_pred = lasso_model.predict(x_train)\n",
    "# y_test_pred = lasso_model.predict(x_test)\n",
    "# print(r2_score(y_true=y_train,y_pred=y_train_pred))\n",
    "# print(r2_score(y_true=y_test,y_pred=y_test_pred))\n"
   ]
  },
  {
   "cell_type": "code",
   "execution_count": 87,
   "id": "a7f8dbdc",
   "metadata": {},
   "outputs": [],
   "source": [
    "# from sklearn.linear_model import ElasticNetCV\n",
    "# enet_model = ElasticNetCV(l1_ratio = [0.1, 0.5, 0.7, 0.9, 0.95, 0.99, 1],\n",
    "#                     alphas = [1, 0.1, 0.01, 0.001, 0.0005], cv=5)\n",
    "# enet_model.fit(x_train, y_train)\n",
    "\n",
    "# # predict\n",
    "# y_train_pred = enet_model.predict(x_train)\n",
    "# y_test_pred = enet_model.predict(x_test)\n",
    "# print(r2_score(y_train,y_train_pred))\n",
    "# print(r2_score(y_test,y_test_pred))"
   ]
  },
  {
   "cell_type": "code",
   "execution_count": 88,
   "id": "edbdceea",
   "metadata": {},
   "outputs": [
    {
     "name": "stdout",
     "output_type": "stream",
     "text": [
      "0.9936521517652854\n",
      "0.7732850374792143\n"
     ]
    }
   ],
   "source": [
    "from sklearn.ensemble import ExtraTreesRegressor\n",
    "extra_model = ExtraTreesRegressor(criterion='mse', random_state=0, n_jobs=-1, \n",
    "                                min_samples_leaf=1, max_depth=20, \n",
    "                                min_samples_split=3, n_estimators=1000\n",
    "                               )\n",
    "\n",
    "extra_model.fit(x_train, y_train)\n",
    "\n",
    "# predict\n",
    "y_train_pred = extra_model.predict(x_train)\n",
    "y_test_pred = extra_model.predict(x_test)\n",
    "print(r2_score(y_train,y_train_pred))\n",
    "print(r2_score(y_test,y_test_pred))"
   ]
  },
  {
   "cell_type": "code",
   "execution_count": 89,
   "id": "83f30378",
   "metadata": {},
   "outputs": [
    {
     "name": "stdout",
     "output_type": "stream",
     "text": [
      "0.9678413607381042\n",
      "0.7749424159198233\n"
     ]
    }
   ],
   "source": [
    "from sklearn.ensemble import RandomForestRegressor\n",
    "rf = RandomForestRegressor(n_estimators=1000)\n",
    "rf.fit(x_train,y_train)\n",
    "y_train_pred = rf.predict(x_train)\n",
    "y_test_pred = rf.predict(x_test)\n",
    "print(r2_score(y_train,y_train_pred))\n",
    "print(r2_score(y_test,y_test_pred))"
   ]
  },
  {
   "cell_type": "code",
   "execution_count": 90,
   "id": "6b06914a",
   "metadata": {},
   "outputs": [
    {
     "name": "stdout",
     "output_type": "stream",
     "text": [
      "0.7876856545233185\n",
      "0.7686722478939468\n"
     ]
    }
   ],
   "source": [
    "from sklearn.ensemble import GradientBoostingRegressor\n",
    "gb_model = GradientBoostingRegressor()\n",
    "gb_model.fit(x_train,y_train)\n",
    "y_train_pred = gb_model.predict(x_train)\n",
    "y_test_pred = gb_model.predict(x_test)\n",
    "print(r2_score(y_train,y_train_pred))\n",
    "print(r2_score(y_test,y_test_pred))"
   ]
  },
  {
   "cell_type": "code",
   "execution_count": 91,
   "id": "40354960",
   "metadata": {},
   "outputs": [
    {
     "name": "stdout",
     "output_type": "stream",
     "text": [
      "0.9732114326431757\n",
      "0.7562268238211218\n"
     ]
    }
   ],
   "source": [
    "from xgboost import XGBRegressor\n",
    "xgb = XGBRegressor(n_estimators=1000,booster='gbtree',n_jobs=-1,learning_rate=0.1,reg_lambda=0.01,reg_alpha=0.3)\n",
    "xgb.fit(x_train,y_train)\n",
    "y_train_pred = xgb.predict(x_train)\n",
    "y_test_pred = xgb.predict(x_test)\n",
    "print(r2_score(y_train,y_train_pred))\n",
    "print(r2_score(y_test,y_test_pred))"
   ]
  },
  {
   "cell_type": "code",
   "execution_count": 92,
   "id": "a1e0de9b",
   "metadata": {},
   "outputs": [],
   "source": [
    "import sklearn.base as skb\n",
    "class MixModel(skb.BaseEstimator,skb.RegressorMixin,skb.TransformerMixin):\n",
    "    def __init__(self,algs):\n",
    "        self.algs = algs\n",
    "    def fit(self,X,y):\n",
    "        self.algs_ = [skb.clone(x) for x in self.algs]\n",
    "        for alg in self.algs_:\n",
    "            alg.fit(X,y)\n",
    "        return self\n",
    "    def predict(self,X):\n",
    "        predictions = np.column_stack([\n",
    "            stacked_model.predict(X) for stacked_model in self.algs_\n",
    "        ])\n",
    "        return np.mean(predictions,axis=1)"
   ]
  },
  {
   "cell_type": "code",
   "execution_count": 93,
   "id": "08b5ec5c",
   "metadata": {},
   "outputs": [
    {
     "name": "stdout",
     "output_type": "stream",
     "text": [
      "0.98287585667515\n",
      "0.7777312006390565\n"
     ]
    }
   ],
   "source": [
    "mixed_model = MixModel(algs = [xgb,rf,extra_model])\n",
    "mixed_model.fit(x_train, y_train)\n",
    "y_train_pred = mixed_model.predict(x_train)\n",
    "y_test_pred = mixed_model.predict(x_test)\n",
    "print(r2_score(y_train,y_train_pred))\n",
    "print(r2_score(y_test,y_test_pred))"
   ]
  },
  {
   "cell_type": "code",
   "execution_count": 94,
   "id": "5662a435",
   "metadata": {},
   "outputs": [
    {
     "data": {
      "text/plain": [
       "array([ 8.58270041e+04,  6.22529598e+04, -3.56440715e+03, ...,\n",
       "       -5.04836077e+01,  7.18829099e+04,  7.61386545e+04])"
      ]
     },
     "execution_count": 94,
     "metadata": {},
     "output_type": "execute_result"
    }
   ],
   "source": [
    "results = mixed_model.predict(test)\n",
    "results"
   ]
  },
  {
   "cell_type": "code",
   "execution_count": 95,
   "id": "1695674d",
   "metadata": {},
   "outputs": [],
   "source": [
    "results=abs(results)"
   ]
  },
  {
   "cell_type": "code",
   "execution_count": 96,
   "id": "27773749",
   "metadata": {},
   "outputs": [],
   "source": [
    "submission = pd.DataFrame({\n",
    "       \"Customer ID\": df_test[\"Customer ID\"],\n",
    "       \"Loan Sanction Amount (USD)\": results\n",
    "   })\n",
    "submission.to_csv('sub1.csv', index=False)"
   ]
  },
  {
   "cell_type": "code",
   "execution_count": null,
   "id": "9bdc9ba5",
   "metadata": {},
   "outputs": [],
   "source": []
  }
 ],
 "metadata": {
  "kernelspec": {
   "display_name": "Python 3",
   "language": "python",
   "name": "python3"
  },
  "language_info": {
   "codemirror_mode": {
    "name": "ipython",
    "version": 3
   },
   "file_extension": ".py",
   "mimetype": "text/x-python",
   "name": "python",
   "nbconvert_exporter": "python",
   "pygments_lexer": "ipython3",
   "version": "3.8.8"
  }
 },
 "nbformat": 4,
 "nbformat_minor": 5
}
