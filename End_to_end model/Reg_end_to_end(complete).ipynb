{
 "cells": [
  {
   "cell_type": "markdown",
   "id": "b18658d4",
   "metadata": {},
   "source": [
    "# Steps -\n",
    "\n",
    "### 1. Dealing with each feature one by one\n",
    "### 2. See the distribution (from histogram) and use { .describe() }\n",
    "### 3. Fill the missing values with mean , median , mode (Depends on distribution) also see inter-quartile ranges\n",
    "### 4. Create dummy variable for categorical data\n",
    "### 5. Scale the data\n",
    "### 6.Train different models\n",
    "### 7. Combine the best models then predict"
   ]
  },
  {
   "cell_type": "code",
   "execution_count": 1,
   "id": "c4c08c28",
   "metadata": {},
   "outputs": [
    {
     "data": {
      "text/html": [
       "<div>\n",
       "<style scoped>\n",
       "    .dataframe tbody tr th:only-of-type {\n",
       "        vertical-align: middle;\n",
       "    }\n",
       "\n",
       "    .dataframe tbody tr th {\n",
       "        vertical-align: top;\n",
       "    }\n",
       "\n",
       "    .dataframe thead th {\n",
       "        text-align: right;\n",
       "    }\n",
       "</style>\n",
       "<table border=\"1\" class=\"dataframe\">\n",
       "  <thead>\n",
       "    <tr style=\"text-align: right;\">\n",
       "      <th></th>\n",
       "      <th>tracking_id</th>\n",
       "      <th>datetime</th>\n",
       "      <th>wind_speed</th>\n",
       "      <th>atmospheric_temperature</th>\n",
       "      <th>shaft_temperature</th>\n",
       "      <th>blades_angle</th>\n",
       "      <th>gearbox_temperature</th>\n",
       "      <th>engine_temperature</th>\n",
       "      <th>motor_torque</th>\n",
       "      <th>generator_temperature</th>\n",
       "      <th>...</th>\n",
       "      <th>windmill_body_temperature</th>\n",
       "      <th>wind_direction</th>\n",
       "      <th>resistance</th>\n",
       "      <th>rotor_torque</th>\n",
       "      <th>turbine_status</th>\n",
       "      <th>cloud_level</th>\n",
       "      <th>blade_length</th>\n",
       "      <th>blade_breadth</th>\n",
       "      <th>windmill_height</th>\n",
       "      <th>windmill_generated_power</th>\n",
       "    </tr>\n",
       "  </thead>\n",
       "  <tbody>\n",
       "    <tr>\n",
       "      <th>0</th>\n",
       "      <td>WM_33725</td>\n",
       "      <td>04-08-2019 14:33</td>\n",
       "      <td>94.820023</td>\n",
       "      <td>-99.000000</td>\n",
       "      <td>41.723019</td>\n",
       "      <td>-0.903423</td>\n",
       "      <td>82.410573</td>\n",
       "      <td>42.523015</td>\n",
       "      <td>2563.124522</td>\n",
       "      <td>76.665560</td>\n",
       "      <td>...</td>\n",
       "      <td>NaN</td>\n",
       "      <td>239.836388</td>\n",
       "      <td>2730.310605</td>\n",
       "      <td>42.084666</td>\n",
       "      <td>BA</td>\n",
       "      <td>Medium</td>\n",
       "      <td>2.217542</td>\n",
       "      <td>0.314065</td>\n",
       "      <td>24.281689</td>\n",
       "      <td>6.766521</td>\n",
       "    </tr>\n",
       "    <tr>\n",
       "      <th>1</th>\n",
       "      <td>WM_698</td>\n",
       "      <td>05-11-2018 10:13</td>\n",
       "      <td>241.832734</td>\n",
       "      <td>27.764785</td>\n",
       "      <td>-99.000000</td>\n",
       "      <td>-99.000000</td>\n",
       "      <td>44.104919</td>\n",
       "      <td>46.258870</td>\n",
       "      <td>2372.384119</td>\n",
       "      <td>78.129803</td>\n",
       "      <td>...</td>\n",
       "      <td>NaN</td>\n",
       "      <td>337.944723</td>\n",
       "      <td>1780.207200</td>\n",
       "      <td>107.888643</td>\n",
       "      <td>A2</td>\n",
       "      <td>Medium</td>\n",
       "      <td>4.210346</td>\n",
       "      <td>0.448494</td>\n",
       "      <td>27.262139</td>\n",
       "      <td>5.966275</td>\n",
       "    </tr>\n",
       "    <tr>\n",
       "      <th>2</th>\n",
       "      <td>WM_39146</td>\n",
       "      <td>14-09-2019 14:03</td>\n",
       "      <td>95.484724</td>\n",
       "      <td>NaN</td>\n",
       "      <td>41.855473</td>\n",
       "      <td>12.652763</td>\n",
       "      <td>42.322098</td>\n",
       "      <td>42.878552</td>\n",
       "      <td>1657.169646</td>\n",
       "      <td>67.654469</td>\n",
       "      <td>...</td>\n",
       "      <td>45.033197</td>\n",
       "      <td>227.850294</td>\n",
       "      <td>1666.049900</td>\n",
       "      <td>-42.931459</td>\n",
       "      <td>ABC</td>\n",
       "      <td>Medium</td>\n",
       "      <td>2.719475</td>\n",
       "      <td>0.302321</td>\n",
       "      <td>27.366127</td>\n",
       "      <td>2.874342</td>\n",
       "    </tr>\n",
       "    <tr>\n",
       "      <th>3</th>\n",
       "      <td>WM_6757</td>\n",
       "      <td>25-12-2018 15:33</td>\n",
       "      <td>238.819424</td>\n",
       "      <td>-99.000000</td>\n",
       "      <td>45.443914</td>\n",
       "      <td>15.115323</td>\n",
       "      <td>44.759643</td>\n",
       "      <td>47.282101</td>\n",
       "      <td>2888.134079</td>\n",
       "      <td>95.389974</td>\n",
       "      <td>...</td>\n",
       "      <td>44.827154</td>\n",
       "      <td>492.081520</td>\n",
       "      <td>1964.502895</td>\n",
       "      <td>42.744596</td>\n",
       "      <td>ABC</td>\n",
       "      <td>NaN</td>\n",
       "      <td>4.857385</td>\n",
       "      <td>0.367140</td>\n",
       "      <td>24.287767</td>\n",
       "      <td>14.851089</td>\n",
       "    </tr>\n",
       "    <tr>\n",
       "      <th>4</th>\n",
       "      <td>WM_21521</td>\n",
       "      <td>04-05-2019 03:13</td>\n",
       "      <td>10.722890</td>\n",
       "      <td>NaN</td>\n",
       "      <td>41.981183</td>\n",
       "      <td>1.715696</td>\n",
       "      <td>-17.616459</td>\n",
       "      <td>43.469852</td>\n",
       "      <td>781.695419</td>\n",
       "      <td>37.423065</td>\n",
       "      <td>...</td>\n",
       "      <td>-99.000000</td>\n",
       "      <td>259.274601</td>\n",
       "      <td>1177.516152</td>\n",
       "      <td>13.387289</td>\n",
       "      <td>AAA</td>\n",
       "      <td>Medium</td>\n",
       "      <td>NaN</td>\n",
       "      <td>0.453374</td>\n",
       "      <td>27.971650</td>\n",
       "      <td>3.519074</td>\n",
       "    </tr>\n",
       "  </tbody>\n",
       "</table>\n",
       "<p>5 rows × 22 columns</p>\n",
       "</div>"
      ],
      "text/plain": [
       "  tracking_id          datetime  wind_speed  atmospheric_temperature  \\\n",
       "0    WM_33725  04-08-2019 14:33   94.820023               -99.000000   \n",
       "1      WM_698  05-11-2018 10:13  241.832734                27.764785   \n",
       "2    WM_39146  14-09-2019 14:03   95.484724                      NaN   \n",
       "3     WM_6757  25-12-2018 15:33  238.819424               -99.000000   \n",
       "4    WM_21521  04-05-2019 03:13   10.722890                      NaN   \n",
       "\n",
       "   shaft_temperature  blades_angle  gearbox_temperature  engine_temperature  \\\n",
       "0          41.723019     -0.903423            82.410573           42.523015   \n",
       "1         -99.000000    -99.000000            44.104919           46.258870   \n",
       "2          41.855473     12.652763            42.322098           42.878552   \n",
       "3          45.443914     15.115323            44.759643           47.282101   \n",
       "4          41.981183      1.715696           -17.616459           43.469852   \n",
       "\n",
       "   motor_torque  generator_temperature  ...  windmill_body_temperature  \\\n",
       "0   2563.124522              76.665560  ...                        NaN   \n",
       "1   2372.384119              78.129803  ...                        NaN   \n",
       "2   1657.169646              67.654469  ...                  45.033197   \n",
       "3   2888.134079              95.389974  ...                  44.827154   \n",
       "4    781.695419              37.423065  ...                 -99.000000   \n",
       "\n",
       "   wind_direction   resistance  rotor_torque  turbine_status  cloud_level  \\\n",
       "0      239.836388  2730.310605     42.084666              BA       Medium   \n",
       "1      337.944723  1780.207200    107.888643              A2       Medium   \n",
       "2      227.850294  1666.049900    -42.931459             ABC       Medium   \n",
       "3      492.081520  1964.502895     42.744596             ABC          NaN   \n",
       "4      259.274601  1177.516152     13.387289             AAA       Medium   \n",
       "\n",
       "  blade_length blade_breadth  windmill_height  windmill_generated_power  \n",
       "0     2.217542      0.314065        24.281689                  6.766521  \n",
       "1     4.210346      0.448494        27.262139                  5.966275  \n",
       "2     2.719475      0.302321        27.366127                  2.874342  \n",
       "3     4.857385      0.367140        24.287767                 14.851089  \n",
       "4          NaN      0.453374        27.971650                  3.519074  \n",
       "\n",
       "[5 rows x 22 columns]"
      ]
     },
     "execution_count": 1,
     "metadata": {},
     "output_type": "execute_result"
    }
   ],
   "source": [
    "import pandas as pd\n",
    "import numpy as np\n",
    "import random\n",
    "\n",
    "df=pd.read_csv('train.csv')\n",
    "df_test=pd.read_csv('test.csv')\n",
    "df.head()"
   ]
  },
  {
   "cell_type": "code",
   "execution_count": 2,
   "id": "ec4ae01b",
   "metadata": {},
   "outputs": [
    {
     "data": {
      "text/plain": [
       "<AxesSubplot:>"
      ]
     },
     "execution_count": 2,
     "metadata": {},
     "output_type": "execute_result"
    },
    {
     "data": {
      "image/png": "[encoded data removed]",
      "text/plain": [
       "<Figure size 432x288 with 2 Axes>"
      ]
     },
     "metadata": {
      "needs_background": "light"
     },
     "output_type": "display_data"
    }
   ],
   "source": [
    "import seaborn as sns\n",
    "import matplotlib.pyplot as plt\n",
    "\n",
    "import seaborn as sns\n",
    "\n",
    "corr=df.corr()\n",
    "sns.heatmap(corr, xticklabels=corr.columns.values, yticklabels=corr.columns.values)"
   ]
  },
  {
   "cell_type": "code",
   "execution_count": 3,
   "id": "7cbd8744",
   "metadata": {},
   "outputs": [
    {
     "name": "stdout",
     "output_type": "stream",
     "text": [
      "<class 'pandas.core.frame.DataFrame'>\n",
      "RangeIndex: 28200 entries, 0 to 28199\n",
      "Data columns (total 22 columns):\n",
      " #   Column                     Non-Null Count  Dtype  \n",
      "---  ------                     --------------  -----  \n",
      " 0   tracking_id                28200 non-null  object \n",
      " 1   datetime                   28200 non-null  object \n",
      " 2   wind_speed                 27927 non-null  float64\n",
      " 3   atmospheric_temperature    24750 non-null  float64\n",
      " 4   shaft_temperature          28198 non-null  float64\n",
      " 5   blades_angle               27984 non-null  float64\n",
      " 6   gearbox_temperature        28199 non-null  float64\n",
      " 7   engine_temperature         28188 non-null  float64\n",
      " 8   motor_torque               28176 non-null  float64\n",
      " 9   generator_temperature      28188 non-null  float64\n",
      " 10  atmospheric_pressure       25493 non-null  float64\n",
      " 11  area_temperature           28200 non-null  float64\n",
      " 12  windmill_body_temperature  25837 non-null  float64\n",
      " 13  wind_direction             23097 non-null  float64\n",
      " 14  resistance                 28199 non-null  float64\n",
      " 15  rotor_torque               27628 non-null  float64\n",
      " 16  turbine_status             26441 non-null  object \n",
      " 17  cloud_level                27924 non-null  object \n",
      " 18  blade_length               23107 non-null  float64\n",
      " 19  blade_breadth              28200 non-null  float64\n",
      " 20  windmill_height            27657 non-null  float64\n",
      " 21  windmill_generated_power   27993 non-null  float64\n",
      "dtypes: float64(18), object(4)\n",
      "memory usage: 4.7+ MB\n"
     ]
    }
   ],
   "source": [
    "df.info()"
   ]
  },
  {
   "cell_type": "code",
   "execution_count": 4,
   "id": "7a46ca02",
   "metadata": {},
   "outputs": [
    {
     "data": {
      "text/plain": [
       "tracking_id                     0\n",
       "datetime                        0\n",
       "wind_speed                    273\n",
       "atmospheric_temperature      3450\n",
       "shaft_temperature               2\n",
       "blades_angle                  216\n",
       "gearbox_temperature             1\n",
       "engine_temperature             12\n",
       "motor_torque                   24\n",
       "generator_temperature          12\n",
       "atmospheric_pressure         2707\n",
       "area_temperature                0\n",
       "windmill_body_temperature    2363\n",
       "wind_direction               5103\n",
       "resistance                      1\n",
       "rotor_torque                  572\n",
       "turbine_status               1759\n",
       "cloud_level                   276\n",
       "blade_length                 5093\n",
       "blade_breadth                   0\n",
       "windmill_height               543\n",
       "windmill_generated_power      207\n",
       "dtype: int64"
      ]
     },
     "execution_count": 4,
     "metadata": {},
     "output_type": "execute_result"
    }
   ],
   "source": [
    "df.isnull().sum()"
   ]
  },
  {
   "cell_type": "code",
   "execution_count": 5,
   "id": "c3744f74",
   "metadata": {},
   "outputs": [
    {
     "data": {
      "text/plain": [
       "tracking_id                     0\n",
       "datetime                        0\n",
       "wind_speed                    126\n",
       "atmospheric_temperature      1427\n",
       "shaft_temperature               1\n",
       "blades_angle                  106\n",
       "gearbox_temperature             1\n",
       "engine_temperature              5\n",
       "motor_torque                   11\n",
       "generator_temperature           5\n",
       "atmospheric_pressure         1151\n",
       "area_temperature                1\n",
       "windmill_body_temperature     926\n",
       "wind_direction               2160\n",
       "resistance                      0\n",
       "rotor_torque                  281\n",
       "turbine_status                797\n",
       "cloud_level                   125\n",
       "blade_length                 2114\n",
       "blade_breadth                   0\n",
       "windmill_height               255\n",
       "dtype: int64"
      ]
     },
     "execution_count": 5,
     "metadata": {},
     "output_type": "execute_result"
    }
   ],
   "source": [
    "df_test.isnull().sum()"
   ]
  },
  {
   "cell_type": "code",
   "execution_count": 6,
   "id": "caf2119d",
   "metadata": {},
   "outputs": [],
   "source": [
    "import matplotlib.pyplot as plt\n",
    "%matplotlib inline"
   ]
  },
  {
   "cell_type": "markdown",
   "id": "20e6c2e0",
   "metadata": {},
   "source": [
    "### wind_speed(m/s)"
   ]
  },
  {
   "cell_type": "code",
   "execution_count": 7,
   "id": "f195c31e",
   "metadata": {},
   "outputs": [
    {
     "data": {
      "text/plain": [
       "(array([   26.,  1488., 24551.,  1810.,    52.]),\n",
       " array([-496.2110289 , -276.67768904,  -57.14434918,  162.38899068,\n",
       "         381.92233054,  601.4556704 ]),\n",
       " <BarContainer object of 5 artists>)"
      ]
     },
     "execution_count": 7,
     "metadata": {},
     "output_type": "execute_result"
    },
    {
     "data": {
      "image/png": "[encoded data removed]",
      "text/plain": [
       "<Figure size 432x288 with 1 Axes>"
      ]
     },
     "metadata": {
      "needs_background": "light"
     },
     "output_type": "display_data"
    }
   ],
   "source": [
    "plt.hist(df['wind_speed'],bins=5)"
   ]
  },
  {
   "cell_type": "code",
   "execution_count": 8,
   "id": "67660ac8",
   "metadata": {},
   "outputs": [
    {
     "data": {
      "text/plain": [
       "count    27927.000000\n",
       "mean        69.037071\n",
       "std         76.275645\n",
       "min       -496.211029\n",
       "25%         20.883502\n",
       "50%         93.302129\n",
       "75%         95.268058\n",
       "max        601.455670\n",
       "Name: wind_speed, dtype: float64"
      ]
     },
     "execution_count": 8,
     "metadata": {},
     "output_type": "execute_result"
    }
   ],
   "source": [
    "df['wind_speed'].describe()"
   ]
  },
  {
   "cell_type": "code",
   "execution_count": 9,
   "id": "009d3ee2",
   "metadata": {},
   "outputs": [],
   "source": [
    "df['wind_speed']=abs(df['wind_speed'])\n",
    "df_test['wind_speed']=abs(df_test['wind_speed'])"
   ]
  },
  {
   "cell_type": "code",
   "execution_count": 10,
   "id": "e054c7d1",
   "metadata": {},
   "outputs": [],
   "source": [
    "df['wind_speed'].fillna(df['wind_speed'].median(),inplace=True)\n",
    "df_test['wind_speed'].fillna(df['wind_speed'].median(),inplace=True)"
   ]
  },
  {
   "cell_type": "code",
   "execution_count": 11,
   "id": "e2f78ffa",
   "metadata": {},
   "outputs": [
    {
     "data": {
      "text/plain": [
       "268"
      ]
     },
     "execution_count": 11,
     "metadata": {},
     "output_type": "execute_result"
    }
   ],
   "source": [
    "df[df['wind_speed']>300].tracking_id.count()"
   ]
  },
  {
   "cell_type": "code",
   "execution_count": 12,
   "id": "3e4ea4b0",
   "metadata": {},
   "outputs": [],
   "source": [
    "df.loc[(df.wind_speed > 300  ),'wind_speed']=300\n",
    "df_test.loc[(df.wind_speed > 300),'wind_speed']=300"
   ]
  },
  {
   "cell_type": "markdown",
   "id": "af5c935e",
   "metadata": {},
   "source": [
    "### atmospheric_temperature"
   ]
  },
  {
   "cell_type": "code",
   "execution_count": 13,
   "id": "5bc31187",
   "metadata": {},
   "outputs": [
    {
     "data": {
      "text/plain": [
       "(array([3.9420e+03, 0.0000e+00, 1.0000e+00, 3.0000e+00, 1.5600e+02,\n",
       "        2.4030e+03, 1.3739e+04, 4.1660e+03, 3.2100e+02, 1.9000e+01]),\n",
       " array([-99.        , -81.07825565, -63.1565113 , -45.23476694,\n",
       "        -27.31302259,  -9.39127824,   8.53046611,  26.45221046,\n",
       "         44.37395482,  62.29569917,  80.21744352]),\n",
       " <BarContainer object of 10 artists>)"
      ]
     },
     "execution_count": 13,
     "metadata": {},
     "output_type": "execute_result"
    },
    {
     "data": {
      "image/png": "[encoded data removed]",
      "text/plain": [
       "<Figure size 432x288 with 1 Axes>"
      ]
     },
     "metadata": {
      "needs_background": "light"
     },
     "output_type": "display_data"
    }
   ],
   "source": [
    "plt.hist(df['atmospheric_temperature'],bins=10)"
   ]
  },
  {
   "cell_type": "code",
   "execution_count": 14,
   "id": "a82f7e40",
   "metadata": {},
   "outputs": [],
   "source": [
    "df['atmospheric_temperature']=abs(df['atmospheric_temperature'])\n",
    "df_test['atmospheric_temperature']=abs(df_test['atmospheric_temperature'])"
   ]
  },
  {
   "cell_type": "code",
   "execution_count": 15,
   "id": "d3128e93",
   "metadata": {},
   "outputs": [],
   "source": [
    "df.loc[(df.atmospheric_temperature > 60),'atmospheric_temperature']=random.randint(7,30)\n",
    "df_test.loc[(df.atmospheric_temperature > 60),'atmospheric_temperature']=random.randint(7,30)"
   ]
  },
  {
   "cell_type": "code",
   "execution_count": 16,
   "id": "4387ea02",
   "metadata": {},
   "outputs": [
    {
     "data": {
      "text/plain": [
       "17.446773044369"
      ]
     },
     "execution_count": 16,
     "metadata": {},
     "output_type": "execute_result"
    }
   ],
   "source": [
    "df['atmospheric_temperature'].mean()"
   ]
  },
  {
   "cell_type": "code",
   "execution_count": 17,
   "id": "15c56b5a",
   "metadata": {},
   "outputs": [
    {
     "data": {
      "text/plain": [
       "(array([1160., 7613., 5243., 4740., 3148., 1682.,  701.,  287.,  137.,\n",
       "          39.]),\n",
       " array([8.78262900e-03, 6.00330061e+00, 1.19978186e+01, 1.79923366e+01,\n",
       "        2.39868545e+01, 2.99813725e+01, 3.59758905e+01, 4.19704085e+01,\n",
       "        4.79649264e+01, 5.39594444e+01, 5.99539624e+01]),\n",
       " <BarContainer object of 10 artists>)"
      ]
     },
     "execution_count": 17,
     "metadata": {},
     "output_type": "execute_result"
    },
    {
     "data": {
      "image/png": "[encoded data removed]",
      "text/plain": [
       "<Figure size 432x288 with 1 Axes>"
      ]
     },
     "metadata": {
      "needs_background": "light"
     },
     "output_type": "display_data"
    }
   ],
   "source": [
    "plt.hist(df['atmospheric_temperature'],bins=10)"
   ]
  },
  {
   "cell_type": "code",
   "execution_count": 18,
   "id": "ee535816",
   "metadata": {},
   "outputs": [],
   "source": [
    "df['atmospheric_temperature'].fillna(df['atmospheric_temperature'].mean(),inplace=True)\n",
    "df_test['atmospheric_temperature'].fillna(df['atmospheric_temperature'].mean(),inplace=True)"
   ]
  },
  {
   "cell_type": "markdown",
   "id": "94ffcdc5",
   "metadata": {},
   "source": [
    "### shaft_temperature"
   ]
  },
  {
   "cell_type": "code",
   "execution_count": 19,
   "id": "fc13d23c",
   "metadata": {},
   "outputs": [
    {
     "data": {
      "text/plain": [
       "(array([  587.,  1369., 23460.,  2704.,    78.]),\n",
       " array([-99.        , -45.23590898,   8.52818204,  62.29227306,\n",
       "        116.05636408, 169.8204551 ]),\n",
       " <BarContainer object of 5 artists>)"
      ]
     },
     "execution_count": 19,
     "metadata": {},
     "output_type": "execute_result"
    },
    {
     "data": {
      "image/png": "[encoded data removed]",
      "text/plain": [
       "<Figure size 432x288 with 1 Axes>"
      ]
     },
     "metadata": {
      "needs_background": "light"
     },
     "output_type": "display_data"
    }
   ],
   "source": [
    "plt.hist(df['shaft_temperature'],bins=5)"
   ]
  },
  {
   "cell_type": "code",
   "execution_count": 20,
   "id": "6227e1a2",
   "metadata": {},
   "outputs": [],
   "source": [
    "df['shaft_temperature']=abs(df['shaft_temperature'])\n",
    "df_test['shaft_temperature']=abs(df_test['shaft_temperature'])"
   ]
  },
  {
   "cell_type": "code",
   "execution_count": 21,
   "id": "be9038d7",
   "metadata": {},
   "outputs": [
    {
     "data": {
      "text/plain": [
       "(array([3.7480e+03, 2.1672e+04, 2.6200e+03, 1.4800e+02, 1.0000e+01]),\n",
       " array([2.65869120e-02, 3.39853605e+01, 6.79441342e+01, 1.01902908e+02,\n",
       "        1.35861681e+02, 1.69820455e+02]),\n",
       " <BarContainer object of 5 artists>)"
      ]
     },
     "execution_count": 21,
     "metadata": {},
     "output_type": "execute_result"
    },
    {
     "data": {
      "image/png": "[encoded data removed]",
      "text/plain": [
       "<Figure size 432x288 with 1 Axes>"
      ]
     },
     "metadata": {
      "needs_background": "light"
     },
     "output_type": "display_data"
    }
   ],
   "source": [
    "plt.hist(df['shaft_temperature'],bins=5)"
   ]
  },
  {
   "cell_type": "code",
   "execution_count": 22,
   "id": "7867b769",
   "metadata": {},
   "outputs": [],
   "source": [
    "df.loc[(df.shaft_temperature > 80),'shaft_temperature']=random.randint(30,50)\n",
    "df_test.loc[(df.shaft_temperature > 80),'shaft_temperature']=random.randint(30,50)"
   ]
  },
  {
   "cell_type": "code",
   "execution_count": 23,
   "id": "1933dd15",
   "metadata": {},
   "outputs": [
    {
     "data": {
      "text/plain": [
       "41.42035336362746"
      ]
     },
     "execution_count": 23,
     "metadata": {},
     "output_type": "execute_result"
    }
   ],
   "source": [
    "df['shaft_temperature'].mean()"
   ]
  },
  {
   "cell_type": "code",
   "execution_count": 24,
   "id": "bdb21c5a",
   "metadata": {},
   "outputs": [],
   "source": [
    "df['shaft_temperature'].fillna(df['shaft_temperature'].mean(),inplace=True)\n",
    "df_test['shaft_temperature'].fillna(df['shaft_temperature'].mean(),inplace=True)"
   ]
  },
  {
   "cell_type": "markdown",
   "id": "8a94b8a7",
   "metadata": {},
   "source": [
    "### blades_angle"
   ]
  },
  {
   "cell_type": "code",
   "execution_count": 25,
   "id": "fc94fd23",
   "metadata": {},
   "outputs": [
    {
     "data": {
      "text/plain": [
       "(array([2.0000e+00, 5.1510e+03, 1.8600e+02, 2.4000e+01, 1.7159e+04,\n",
       "        2.8610e+03, 1.5060e+03, 9.9000e+02, 9.0000e+01, 1.5000e+01]),\n",
       " array([-146.2595427 , -115.04037611,  -83.82120952,  -52.60204293,\n",
       "         -21.38287634,    9.83629025,   41.05545684,   72.27462343,\n",
       "         103.49379002,  134.71295661,  165.9321232 ]),\n",
       " <BarContainer object of 10 artists>)"
      ]
     },
     "execution_count": 25,
     "metadata": {},
     "output_type": "execute_result"
    },
    {
     "data": {
      "image/png": "[encoded data removed]",
      "text/plain": [
       "<Figure size 432x288 with 1 Axes>"
      ]
     },
     "metadata": {
      "needs_background": "light"
     },
     "output_type": "display_data"
    }
   ],
   "source": [
    "plt.hist(df['blades_angle'],bins=10)"
   ]
  },
  {
   "cell_type": "code",
   "execution_count": 26,
   "id": "2ed9e727",
   "metadata": {},
   "outputs": [],
   "source": [
    "df['blades_angle']=abs(df['blades_angle'])\n",
    "df_test['blades_angle']=abs(df_test['blades_angle'])"
   ]
  },
  {
   "cell_type": "code",
   "execution_count": 27,
   "id": "4881bac5",
   "metadata": {},
   "outputs": [
    {
     "data": {
      "text/plain": [
       "(array([1.8564e+04, 6.7000e+02, 1.6140e+03, 4.5400e+02, 7.3100e+02,\n",
       "        5.7320e+03, 1.9400e+02, 8.0000e+00, 1.0000e+01, 7.0000e+00]),\n",
       " array([  0.        ,  16.59321232,  33.18642464,  49.77963696,\n",
       "         66.37284928,  82.9660616 ,  99.55927392, 116.15248624,\n",
       "        132.74569856, 149.33891088, 165.9321232 ]),\n",
       " <BarContainer object of 10 artists>)"
      ]
     },
     "execution_count": 27,
     "metadata": {},
     "output_type": "execute_result"
    },
    {
     "data": {
      "image/png": "[encoded data removed]",
      "text/plain": [
       "<Figure size 432x288 with 1 Axes>"
      ]
     },
     "metadata": {
      "needs_background": "light"
     },
     "output_type": "display_data"
    }
   ],
   "source": [
    "plt.hist(df['blades_angle'],bins=10)"
   ]
  },
  {
   "cell_type": "code",
   "execution_count": 28,
   "id": "f253bf3c",
   "metadata": {},
   "outputs": [
    {
     "data": {
      "text/plain": [
       "count    27984.000000\n",
       "mean        28.450640\n",
       "std         39.747781\n",
       "min          0.000000\n",
       "25%          1.021088\n",
       "50%          1.896679\n",
       "75%         53.480830\n",
       "max        165.932123\n",
       "Name: blades_angle, dtype: float64"
      ]
     },
     "execution_count": 28,
     "metadata": {},
     "output_type": "execute_result"
    }
   ],
   "source": [
    "df['blades_angle'].describe()"
   ]
  },
  {
   "cell_type": "code",
   "execution_count": 29,
   "id": "37a5b11e",
   "metadata": {},
   "outputs": [],
   "source": [
    "df.loc[(df.blades_angle > 90),'blades_angle']=random.randint(0,50)\n",
    "df_test.loc[(df.blades_angle > 90),'blades_angle']=random.randint(0,50)"
   ]
  },
  {
   "cell_type": "code",
   "execution_count": 30,
   "id": "9d081f00",
   "metadata": {},
   "outputs": [],
   "source": [
    "df['blades_angle'].fillna(df['blades_angle'].mean(),inplace=True)\n",
    "df_test['blades_angle'].fillna(df['blades_angle'].mean(),inplace=True)"
   ]
  },
  {
   "cell_type": "markdown",
   "id": "a049f6fd",
   "metadata": {},
   "source": [
    "### gearbox_temperature"
   ]
  },
  {
   "cell_type": "code",
   "execution_count": 31,
   "id": "b78ad964",
   "metadata": {},
   "outputs": [
    {
     "data": {
      "text/plain": [
       "(array([3.3110e+03, 2.4869e+04, 1.6000e+01, 0.0000e+00, 3.0000e+00]),\n",
       " array([-244.9740978 ,    3.82072176,  252.61554132,  501.41036088,\n",
       "         750.20518044,  999.        ]),\n",
       " <BarContainer object of 5 artists>)"
      ]
     },
     "execution_count": 31,
     "metadata": {},
     "output_type": "execute_result"
    },
    {
     "data": {
      "image/png": "[encoded data removed]",
      "text/plain": [
       "<Figure size 432x288 with 1 Axes>"
      ]
     },
     "metadata": {
      "needs_background": "light"
     },
     "output_type": "display_data"
    }
   ],
   "source": [
    "plt.hist(df['gearbox_temperature'],bins=5)"
   ]
  },
  {
   "cell_type": "code",
   "execution_count": 32,
   "id": "ec0c0262",
   "metadata": {},
   "outputs": [
    {
     "data": {
      "text/plain": [
       "count    28199.000000\n",
       "mean        41.027755\n",
       "std         43.663605\n",
       "min       -244.974098\n",
       "25%         40.557952\n",
       "50%         43.221735\n",
       "75%         45.879425\n",
       "max        999.000000\n",
       "Name: gearbox_temperature, dtype: float64"
      ]
     },
     "execution_count": 32,
     "metadata": {},
     "output_type": "execute_result"
    }
   ],
   "source": [
    "df['gearbox_temperature'].describe()"
   ]
  },
  {
   "cell_type": "code",
   "execution_count": 33,
   "id": "7462b348",
   "metadata": {},
   "outputs": [],
   "source": [
    "df['gearbox_temperature']=abs(df['gearbox_temperature'])\n",
    "df_test['gearbox_temperature']=abs(df_test['gearbox_temperature'])"
   ]
  },
  {
   "cell_type": "code",
   "execution_count": 34,
   "id": "e618b3da",
   "metadata": {},
   "outputs": [],
   "source": [
    "df.loc[(df.gearbox_temperature > 120),'gearbox_temperature']=random.randint(0,50)\n",
    "df_test.loc[(df.gearbox_temperature > 120),'gearbox_temperature']=random.randint(0,50)"
   ]
  },
  {
   "cell_type": "code",
   "execution_count": 35,
   "id": "8ee7d180",
   "metadata": {},
   "outputs": [],
   "source": [
    "df['gearbox_temperature'].fillna(df['gearbox_temperature'].mean(),inplace=True)\n",
    "df_test['gearbox_temperature'].fillna(df['gearbox_temperature'].mean(),inplace=True)"
   ]
  },
  {
   "cell_type": "markdown",
   "id": "7d6350dd",
   "metadata": {},
   "source": [
    "### engine_temperature"
   ]
  },
  {
   "cell_type": "code",
   "execution_count": 36,
   "id": "4575987d",
   "metadata": {},
   "outputs": [
    {
     "data": {
      "text/plain": [
       "(array([  330.,   719.,     0.,  1921., 25218.]),\n",
       " array([ 3.16715102, 12.53372082, 21.90029061, 31.26686041, 40.6334302 ,\n",
       "        50.        ]),\n",
       " <BarContainer object of 5 artists>)"
      ]
     },
     "execution_count": 36,
     "metadata": {},
     "output_type": "execute_result"
    },
    {
     "data": {
      "image/png": "[encoded data removed]",
      "text/plain": [
       "<Figure size 432x288 with 1 Axes>"
      ]
     },
     "metadata": {
      "needs_background": "light"
     },
     "output_type": "display_data"
    }
   ],
   "source": [
    "plt.hist(df['engine_temperature'],bins=5)"
   ]
  },
  {
   "cell_type": "code",
   "execution_count": 37,
   "id": "da155b93",
   "metadata": {},
   "outputs": [
    {
     "data": {
      "text/plain": [
       "count    28188.000000\n",
       "mean        42.614239\n",
       "std          6.124546\n",
       "min          3.167151\n",
       "25%         41.911365\n",
       "50%         43.525297\n",
       "75%         45.174246\n",
       "max         50.000000\n",
       "Name: engine_temperature, dtype: float64"
      ]
     },
     "execution_count": 37,
     "metadata": {},
     "output_type": "execute_result"
    }
   ],
   "source": [
    "df['engine_temperature'].describe()"
   ]
  },
  {
   "cell_type": "code",
   "execution_count": 38,
   "id": "20e699dc",
   "metadata": {},
   "outputs": [],
   "source": [
    "df['engine_temperature']=abs(df['engine_temperature'])\n",
    "df_test['engine_temperature']=abs(df_test['engine_temperature'])"
   ]
  },
  {
   "cell_type": "code",
   "execution_count": 39,
   "id": "39bb2444",
   "metadata": {},
   "outputs": [],
   "source": [
    "df['engine_temperature'].fillna(df['engine_temperature'].mean(),inplace=True)\n",
    "df_test['engine_temperature'].fillna(df['engine_temperature'].mean(),inplace=True)"
   ]
  },
  {
   "cell_type": "markdown",
   "id": "f68271a2",
   "metadata": {},
   "source": [
    "### motor_torque"
   ]
  },
  {
   "cell_type": "code",
   "execution_count": 40,
   "id": "3d971d5d",
   "metadata": {},
   "outputs": [
    {
     "data": {
      "text/plain": [
       "(array([1646., 8303., 2610.,  296.,  436.,  533., 5273., 2357., 2598.,\n",
       "        4124.]),\n",
       " array([ 500.,  750., 1000., 1250., 1500., 1750., 2000., 2250., 2500.,\n",
       "        2750., 3000.]),\n",
       " <BarContainer object of 10 artists>)"
      ]
     },
     "execution_count": 40,
     "metadata": {},
     "output_type": "execute_result"
    },
    {
     "data": {
      "image/png": "[encoded data removed]",
      "text/plain": [
       "<Figure size 432x288 with 1 Axes>"
      ]
     },
     "metadata": {
      "needs_background": "light"
     },
     "output_type": "display_data"
    }
   ],
   "source": [
    "plt.hist(df['motor_torque'],bins=10)"
   ]
  },
  {
   "cell_type": "code",
   "execution_count": 41,
   "id": "65a99e35",
   "metadata": {},
   "outputs": [
    {
     "data": {
      "text/plain": [
       "count    28176.000000\n",
       "mean      1710.819803\n",
       "std        827.205537\n",
       "min        500.000000\n",
       "25%        870.340239\n",
       "50%       2031.849540\n",
       "75%       2462.585729\n",
       "max       3000.000000\n",
       "Name: motor_torque, dtype: float64"
      ]
     },
     "execution_count": 41,
     "metadata": {},
     "output_type": "execute_result"
    }
   ],
   "source": [
    "df['motor_torque'].describe()"
   ]
  },
  {
   "cell_type": "code",
   "execution_count": 42,
   "id": "a0865af9",
   "metadata": {},
   "outputs": [],
   "source": [
    "df['motor_torque'].fillna(df['motor_torque'].mean(),inplace=True)\n",
    "df_test['motor_torque'].fillna(df['motor_torque'].mean(),inplace=True)"
   ]
  },
  {
   "cell_type": "markdown",
   "id": "589620e8",
   "metadata": {},
   "source": [
    "### generator_temperature"
   ]
  },
  {
   "cell_type": "code",
   "execution_count": 43,
   "id": "f795b897",
   "metadata": {},
   "outputs": [
    {
     "data": {
      "text/plain": [
       "(array([9479.,  485., 7174., 6548., 4502.]),\n",
       " array([ 33.89377879,  47.11502303,  60.33626727,  73.55751152,\n",
       "         86.77875576, 100.        ]),\n",
       " <BarContainer object of 5 artists>)"
      ]
     },
     "execution_count": 43,
     "metadata": {},
     "output_type": "execute_result"
    },
    {
     "data": {
      "image/png": "[encoded data removed]",
      "text/plain": [
       "<Figure size 432x288 with 1 Axes>"
      ]
     },
     "metadata": {
      "needs_background": "light"
     },
     "output_type": "display_data"
    }
   ],
   "source": [
    "plt.hist(df['generator_temperature'],bins=5)"
   ]
  },
  {
   "cell_type": "code",
   "execution_count": 44,
   "id": "c042dde1",
   "metadata": {},
   "outputs": [
    {
     "data": {
      "text/plain": [
       "count    28188.000000\n",
       "mean        65.027857\n",
       "std         19.816499\n",
       "min         33.893779\n",
       "25%         41.198509\n",
       "50%         70.729533\n",
       "75%         78.945849\n",
       "max        100.000000\n",
       "Name: generator_temperature, dtype: float64"
      ]
     },
     "execution_count": 44,
     "metadata": {},
     "output_type": "execute_result"
    }
   ],
   "source": [
    "df['generator_temperature'].describe()"
   ]
  },
  {
   "cell_type": "code",
   "execution_count": 45,
   "id": "1bac08dc",
   "metadata": {},
   "outputs": [],
   "source": [
    "df['generator_temperature'].fillna(df['generator_temperature'].mean(),inplace=True)\n",
    "df_test['generator_temperature'].fillna(df['generator_temperature'].mean(),inplace=True)"
   ]
  },
  {
   "cell_type": "markdown",
   "id": "0f945c77",
   "metadata": {},
   "source": [
    "### atmospheric_pressure"
   ]
  },
  {
   "cell_type": "code",
   "execution_count": 46,
   "id": "32c7e924",
   "metadata": {},
   "outputs": [
    {
     "data": {
      "text/plain": [
       "(array([   55.,  1911., 21349.,  2100.,    78.]),\n",
       " array([-1188624.131 ,  -696388.9258,  -204153.7206,   288081.4846,\n",
       "          780316.6898,  1272551.895 ]),\n",
       " <BarContainer object of 5 artists>)"
      ]
     },
     "execution_count": 46,
     "metadata": {},
     "output_type": "execute_result"
    },
    {
     "data": {
      "image/png": "[encoded data removed]",
      "text/plain": [
       "<Figure size 432x288 with 1 Axes>"
      ]
     },
     "metadata": {
      "needs_background": "light"
     },
     "output_type": "display_data"
    }
   ],
   "source": [
    "plt.hist(df['atmospheric_pressure'],bins=5)"
   ]
  },
  {
   "cell_type": "code",
   "execution_count": 47,
   "id": "503f1eb2",
   "metadata": {},
   "outputs": [],
   "source": [
    "df['atmospheric_pressure']=abs(df['atmospheric_pressure'])\n",
    "df_test['atmospheric_pressure']=abs(df_test['atmospheric_pressure'])"
   ]
  },
  {
   "cell_type": "code",
   "execution_count": 48,
   "id": "de857018",
   "metadata": {},
   "outputs": [
    {
     "data": {
      "text/plain": [
       "count    2.549300e+04\n",
       "mean     1.226744e+05\n",
       "std      1.514489e+05\n",
       "min      2.109124e+02\n",
       "25%      1.730865e+04\n",
       "50%      1.043500e+05\n",
       "75%      1.358935e+05\n",
       "max      1.272552e+06\n",
       "Name: atmospheric_pressure, dtype: float64"
      ]
     },
     "execution_count": 48,
     "metadata": {},
     "output_type": "execute_result"
    }
   ],
   "source": [
    "df['atmospheric_pressure'].describe()"
   ]
  },
  {
   "cell_type": "code",
   "execution_count": 49,
   "id": "7ed87cd1",
   "metadata": {},
   "outputs": [],
   "source": [
    "df['atmospheric_pressure'].fillna(df['atmospheric_pressure'].mean(),inplace=True)\n",
    "df_test['atmospheric_pressure'].fillna(df['atmospheric_pressure'].mean(),inplace=True)"
   ]
  },
  {
   "cell_type": "markdown",
   "id": "d0c441e0",
   "metadata": {},
   "source": [
    "### area_temperature"
   ]
  },
  {
   "cell_type": "code",
   "execution_count": 50,
   "id": "ade386a3",
   "metadata": {},
   "outputs": [
    {
     "data": {
      "text/plain": [
       "(array([3.4000e+01, 1.5000e+01, 1.1240e+03, 1.9726e+04, 7.3010e+03]),\n",
       " array([-30., -13.,   4.,  21.,  38.,  55.]),\n",
       " <BarContainer object of 5 artists>)"
      ]
     },
     "execution_count": 50,
     "metadata": {},
     "output_type": "execute_result"
    },
    {
     "data": {
      "image/png": "[encoded data removed]",
      "text/plain": [
       "<Figure size 432x288 with 1 Axes>"
      ]
     },
     "metadata": {
      "needs_background": "light"
     },
     "output_type": "display_data"
    }
   ],
   "source": [
    "plt.hist(df['area_temperature'],bins=5)"
   ]
  },
  {
   "cell_type": "code",
   "execution_count": 51,
   "id": "08302db4",
   "metadata": {},
   "outputs": [
    {
     "data": {
      "text/plain": [
       "count    28200.000000\n",
       "mean        32.735091\n",
       "std          7.703391\n",
       "min        -30.000000\n",
       "25%         27.311644\n",
       "50%         32.605195\n",
       "75%         38.232387\n",
       "max         55.000000\n",
       "Name: area_temperature, dtype: float64"
      ]
     },
     "execution_count": 51,
     "metadata": {},
     "output_type": "execute_result"
    }
   ],
   "source": [
    "df['area_temperature'].describe()"
   ]
  },
  {
   "cell_type": "code",
   "execution_count": 52,
   "id": "b1e247f0",
   "metadata": {},
   "outputs": [],
   "source": [
    "df['area_temperature']=abs(df['area_temperature'])\n",
    "df_test['area_temperature']=abs(df_test['area_temperature'])"
   ]
  },
  {
   "cell_type": "code",
   "execution_count": 53,
   "id": "f66c5511",
   "metadata": {},
   "outputs": [],
   "source": [
    "df['area_temperature'].fillna(df['area_temperature'].mean(),inplace=True)\n",
    "df_test['area_temperature'].fillna(df['area_temperature'].mean(),inplace=True)"
   ]
  },
  {
   "cell_type": "markdown",
   "id": "237d1d6b",
   "metadata": {},
   "source": [
    "### windmill_body_temperature"
   ]
  },
  {
   "cell_type": "code",
   "execution_count": 54,
   "id": "e9de4f98",
   "metadata": {},
   "outputs": [
    {
     "data": {
      "text/plain": [
       "(array([3.0000e+00, 0.0000e+00, 0.0000e+00, 2.4644e+04, 1.1900e+03]),\n",
       " array([-999. , -734.6, -470.2, -205.8,   58.6,  323. ]),\n",
       " <BarContainer object of 5 artists>)"
      ]
     },
     "execution_count": 54,
     "metadata": {},
     "output_type": "execute_result"
    },
    {
     "data": {
      "image/png": "[encoded data removed]",
      "text/plain": [
       "<Figure size 432x288 with 1 Axes>"
      ]
     },
     "metadata": {
      "needs_background": "light"
     },
     "output_type": "display_data"
    }
   ],
   "source": [
    "plt.hist(df['windmill_body_temperature'],bins=5)"
   ]
  },
  {
   "cell_type": "code",
   "execution_count": 55,
   "id": "0e4c0916",
   "metadata": {},
   "outputs": [
    {
     "data": {
      "text/plain": [
       "count    25837.000000\n",
       "mean        20.799761\n",
       "std         54.356431\n",
       "min       -999.000000\n",
       "25%         40.448386\n",
       "50%         42.786832\n",
       "75%         44.494543\n",
       "max        323.000000\n",
       "Name: windmill_body_temperature, dtype: float64"
      ]
     },
     "execution_count": 55,
     "metadata": {},
     "output_type": "execute_result"
    }
   ],
   "source": [
    "df['windmill_body_temperature'].describe()"
   ]
  },
  {
   "cell_type": "code",
   "execution_count": 56,
   "id": "78c139e0",
   "metadata": {},
   "outputs": [],
   "source": [
    "df.loc[(df.windmill_body_temperature > 55  ),'windmill_body_temperature']=random.randint(40,50)\n",
    "df_test.loc[(df.windmill_body_temperature > 55),'windmill_body_temperature']=random.randint(40,50)\n",
    "\n",
    "df.loc[(df.windmill_body_temperature < -30 ),'windmill_body_temperature']=-30\n",
    "df_test.loc[(df.windmill_body_temperature < -30),'windmill_body_temperature']=-30"
   ]
  },
  {
   "cell_type": "code",
   "execution_count": 57,
   "id": "13476a94",
   "metadata": {},
   "outputs": [],
   "source": [
    "df['windmill_body_temperature'].fillna(42.786832,inplace=True)\n",
    "df_test['windmill_body_temperature'].fillna(42.786832,inplace=True)"
   ]
  },
  {
   "cell_type": "markdown",
   "id": "4cd07d10",
   "metadata": {},
   "source": [
    "### wind_direction"
   ]
  },
  {
   "cell_type": "code",
   "execution_count": 58,
   "id": "b807154e",
   "metadata": {},
   "outputs": [
    {
     "data": {
      "text/plain": [
       "(array([ 1597.,  2886., 11818.,  1556.,  5240.]),\n",
       " array([  0.        , 113.99329576, 227.98659152, 341.97988728,\n",
       "        455.97318304, 569.9664788 ]),\n",
       " <BarContainer object of 5 artists>)"
      ]
     },
     "execution_count": 58,
     "metadata": {},
     "output_type": "execute_result"
    },
    {
     "data": {
      "image/png": "[encoded data removed]",
      "text/plain": [
       "<Figure size 432x288 with 1 Axes>"
      ]
     },
     "metadata": {
      "needs_background": "light"
     },
     "output_type": "display_data"
    }
   ],
   "source": [
    "plt.hist(df['wind_direction'],bins=5)"
   ]
  },
  {
   "cell_type": "code",
   "execution_count": 59,
   "id": "a411fbc3",
   "metadata": {},
   "outputs": [
    {
     "data": {
      "text/plain": [
       "count    23097.000000\n",
       "mean       306.888883\n",
       "std        134.055900\n",
       "min          0.000000\n",
       "25%        238.627752\n",
       "50%        271.427656\n",
       "75%        404.153517\n",
       "max        569.966479\n",
       "Name: wind_direction, dtype: float64"
      ]
     },
     "execution_count": 59,
     "metadata": {},
     "output_type": "execute_result"
    }
   ],
   "source": [
    "df['wind_direction'].describe()"
   ]
  },
  {
   "cell_type": "code",
   "execution_count": 60,
   "id": "e4296c05",
   "metadata": {},
   "outputs": [],
   "source": [
    "df['wind_direction'].fillna(df['wind_direction'].mean(),inplace=True)\n",
    "df_test['wind_direction'].fillna(df['wind_direction'].mean(),inplace=True)"
   ]
  },
  {
   "cell_type": "markdown",
   "id": "731ac883",
   "metadata": {},
   "source": [
    "### resistance"
   ]
  },
  {
   "cell_type": "code",
   "execution_count": 61,
   "id": "418c6d78",
   "metadata": {},
   "outputs": [
    {
     "data": {
      "text/plain": [
       "(array([  691.,  6505., 20039.,   943.,    21.]),\n",
       " array([-1005.222988 ,   134.5179962,  1274.2589804,  2413.9999646,\n",
       "         3553.7409488,  4693.481933 ]),\n",
       " <BarContainer object of 5 artists>)"
      ]
     },
     "execution_count": 61,
     "metadata": {},
     "output_type": "execute_result"
    },
    {
     "data": {
      "image/png": "[encoded data removed]",
      "text/plain": [
       "<Figure size 432x288 with 1 Axes>"
      ]
     },
     "metadata": {
      "needs_background": "light"
     },
     "output_type": "display_data"
    }
   ],
   "source": [
    "plt.hist(df['resistance'],bins=5)"
   ]
  },
  {
   "cell_type": "code",
   "execution_count": 62,
   "id": "4731ed29",
   "metadata": {},
   "outputs": [
    {
     "data": {
      "text/plain": [
       "count    28199.000000\n",
       "mean      1575.560011\n",
       "std        483.326394\n",
       "min      -1005.222988\n",
       "25%       1268.134042\n",
       "50%       1678.238404\n",
       "75%       1829.054007\n",
       "max       4693.481933\n",
       "Name: resistance, dtype: float64"
      ]
     },
     "execution_count": 62,
     "metadata": {},
     "output_type": "execute_result"
    }
   ],
   "source": [
    "df['resistance'].describe()"
   ]
  },
  {
   "cell_type": "code",
   "execution_count": 63,
   "id": "c4a4e581",
   "metadata": {},
   "outputs": [],
   "source": [
    "df['resistance']=abs(df['resistance'])\n",
    "df_test['resistance']=abs(df_test['resistance'])"
   ]
  },
  {
   "cell_type": "code",
   "execution_count": 64,
   "id": "16fdb44b",
   "metadata": {},
   "outputs": [],
   "source": [
    "df['resistance'].fillna(df['resistance'].mean(),inplace=True)\n",
    "df_test['resistance'].fillna(df['resistance'].mean(),inplace=True)"
   ]
  },
  {
   "cell_type": "markdown",
   "id": "5e0ee5c6",
   "metadata": {},
   "source": [
    "### rotor_torque"
   ]
  },
  {
   "cell_type": "code",
   "execution_count": 65,
   "id": "b2795a1c",
   "metadata": {},
   "outputs": [
    {
     "data": {
      "text/plain": [
       "(array([  711.,  4634., 21370.,   887.,    26.]),\n",
       " array([-136.7322169 ,  -62.00912068,   12.71397554,   87.43707176,\n",
       "         162.16016798,  236.8832642 ]),\n",
       " <BarContainer object of 5 artists>)"
      ]
     },
     "execution_count": 65,
     "metadata": {},
     "output_type": "execute_result"
    },
    {
     "data": {
      "image/png": "[encoded data removed]",
      "text/plain": [
       "<Figure size 432x288 with 1 Axes>"
      ]
     },
     "metadata": {
      "needs_background": "light"
     },
     "output_type": "display_data"
    }
   ],
   "source": [
    "plt.hist(df['rotor_torque'],bins=5)"
   ]
  },
  {
   "cell_type": "code",
   "execution_count": 66,
   "id": "308b8c3d",
   "metadata": {},
   "outputs": [
    {
     "data": {
      "text/plain": [
       "count    27628.000000\n",
       "mean        25.849894\n",
       "std         32.423943\n",
       "min       -136.732217\n",
       "25%         13.722808\n",
       "50%         32.977192\n",
       "75%         41.550520\n",
       "max        236.883264\n",
       "Name: rotor_torque, dtype: float64"
      ]
     },
     "execution_count": 66,
     "metadata": {},
     "output_type": "execute_result"
    }
   ],
   "source": [
    "df['rotor_torque'].describe()"
   ]
  },
  {
   "cell_type": "code",
   "execution_count": 67,
   "id": "a0ec2935",
   "metadata": {},
   "outputs": [],
   "source": [
    "df['rotor_torque']=abs(df['rotor_torque'])\n",
    "df_test['rotor_torque']=abs(df_test['rotor_torque'])\n"
   ]
  },
  {
   "cell_type": "code",
   "execution_count": 68,
   "id": "daea4d05",
   "metadata": {},
   "outputs": [],
   "source": [
    "df['rotor_torque'].fillna(df['rotor_torque'].median(),inplace=True)\n",
    "df_test['rotor_torque'].fillna(df['rotor_torque'].median(),inplace=True)"
   ]
  },
  {
   "cell_type": "code",
   "execution_count": 69,
   "id": "3d9234cf",
   "metadata": {},
   "outputs": [
    {
     "data": {
      "text/plain": [
       "529"
      ]
     },
     "execution_count": 69,
     "metadata": {},
     "output_type": "execute_result"
    }
   ],
   "source": [
    "df[df['rotor_torque']>100].tracking_id.count()"
   ]
  },
  {
   "cell_type": "code",
   "execution_count": 70,
   "id": "5a515b3a",
   "metadata": {},
   "outputs": [],
   "source": [
    "df.loc[(df.rotor_torque > 100  ),'rotor_torque']=random.randint(80,100)\n",
    "df_test.loc[(df.rotor_torque > 100),'rotor_torque']=random.randint(80,100)"
   ]
  },
  {
   "cell_type": "markdown",
   "id": "43cc3dde",
   "metadata": {},
   "source": [
    "### blade_length"
   ]
  },
  {
   "cell_type": "code",
   "execution_count": 71,
   "id": "7d5289dd",
   "metadata": {},
   "outputs": [
    {
     "data": {
      "text/plain": [
       "(array([  275.,     0.,     0.,    27., 22805.]),\n",
       " array([-99.        , -75.55803997, -52.11607994, -28.67411992,\n",
       "         -5.23215989,  18.20980014]),\n",
       " <BarContainer object of 5 artists>)"
      ]
     },
     "execution_count": 71,
     "metadata": {},
     "output_type": "execute_result"
    },
    {
     "data": {
      "image/png": "[encoded data removed]",
      "text/plain": [
       "<Figure size 432x288 with 1 Axes>"
      ]
     },
     "metadata": {
      "needs_background": "light"
     },
     "output_type": "display_data"
    }
   ],
   "source": [
    "plt.hist(df['blade_length'],bins=5)"
   ]
  },
  {
   "cell_type": "code",
   "execution_count": 72,
   "id": "4318a32a",
   "metadata": {},
   "outputs": [],
   "source": [
    "df['blade_length']=abs(df['blade_length'])\n",
    "df_test['blade_length']=abs(df_test['blade_length'])"
   ]
  },
  {
   "cell_type": "code",
   "execution_count": 73,
   "id": "7777d9d4",
   "metadata": {},
   "outputs": [
    {
     "data": {
      "text/plain": [
       "count    23107.000000\n",
       "mean         4.757761\n",
       "std         10.468181\n",
       "min          0.000569\n",
       "25%          2.607250\n",
       "50%          3.506035\n",
       "75%          4.409620\n",
       "max         99.000000\n",
       "Name: blade_length, dtype: float64"
      ]
     },
     "execution_count": 73,
     "metadata": {},
     "output_type": "execute_result"
    }
   ],
   "source": [
    "df['blade_length'].describe()"
   ]
  },
  {
   "cell_type": "code",
   "execution_count": 74,
   "id": "f7cef824",
   "metadata": {},
   "outputs": [
    {
     "data": {
      "text/plain": [
       "1405"
      ]
     },
     "execution_count": 74,
     "metadata": {},
     "output_type": "execute_result"
    }
   ],
   "source": [
    "df[df['blade_length']>7].tracking_id.count()"
   ]
  },
  {
   "cell_type": "code",
   "execution_count": 75,
   "id": "c05e6693",
   "metadata": {},
   "outputs": [],
   "source": [
    "df.loc[(df.blade_length > 7  ),'blade_length']=7\n",
    "df_test.loc[(df.blade_length > 7),'blade_length']=7"
   ]
  },
  {
   "cell_type": "code",
   "execution_count": 76,
   "id": "302265fc",
   "metadata": {},
   "outputs": [],
   "source": [
    "df['blade_length'].fillna(df['blade_length'].mean(),inplace=True)\n",
    "df_test['blade_length'].fillna(df['blade_length'].mean(),inplace=True)"
   ]
  },
  {
   "cell_type": "markdown",
   "id": "527465d9",
   "metadata": {},
   "source": [
    "### blade_breadth"
   ]
  },
  {
   "cell_type": "code",
   "execution_count": 77,
   "id": "aa66685b",
   "metadata": {},
   "outputs": [
    {
     "data": {
      "text/plain": [
       "(array([ 345., 3033., 8161., 8288., 8373.]),\n",
       " array([0.200111  , 0.26008385, 0.32005671, 0.38002956, 0.44000241,\n",
       "        0.49997527]),\n",
       " <BarContainer object of 5 artists>)"
      ]
     },
     "execution_count": 77,
     "metadata": {},
     "output_type": "execute_result"
    },
    {
     "data": {
      "image/png": "[encoded data removed]",
      "text/plain": [
       "<Figure size 432x288 with 1 Axes>"
      ]
     },
     "metadata": {
      "needs_background": "light"
     },
     "output_type": "display_data"
    }
   ],
   "source": [
    "plt.hist(df['blade_breadth'],bins=5)"
   ]
  },
  {
   "cell_type": "code",
   "execution_count": 78,
   "id": "13fce5fd",
   "metadata": {},
   "outputs": [
    {
     "data": {
      "text/plain": [
       "count    28200.000000\n",
       "mean         0.397249\n",
       "std          0.061158\n",
       "min          0.200111\n",
       "25%          0.347445\n",
       "50%          0.398591\n",
       "75%          0.449354\n",
       "max          0.499975\n",
       "Name: blade_breadth, dtype: float64"
      ]
     },
     "execution_count": 78,
     "metadata": {},
     "output_type": "execute_result"
    }
   ],
   "source": [
    "df['blade_breadth'].describe()"
   ]
  },
  {
   "cell_type": "code",
   "execution_count": 79,
   "id": "112caa53",
   "metadata": {},
   "outputs": [],
   "source": [
    "df['blade_breadth'].fillna(df['blade_breadth'].mean(),inplace=True)\n",
    "df_test['blade_breadth'].fillna(df['blade_breadth'].mean(),inplace=True)"
   ]
  },
  {
   "cell_type": "markdown",
   "id": "369b0df5",
   "metadata": {},
   "source": [
    "### windmill_height"
   ]
  },
  {
   "cell_type": "code",
   "execution_count": 80,
   "id": "70cc2954",
   "metadata": {},
   "outputs": [
    {
     "data": {
      "text/plain": [
       "(array([   56.,  1622., 23485.,  2435.,    59.]),\n",
       " array([-30.29525292,  -8.56593528,  13.16338236,  34.8927    ,\n",
       "         56.62201764,  78.35133528]),\n",
       " <BarContainer object of 5 artists>)"
      ]
     },
     "execution_count": 80,
     "metadata": {},
     "output_type": "execute_result"
    },
    {
     "data": {
      "image/png": "[encoded data removed]",
      "text/plain": [
       "<Figure size 432x288 with 1 Axes>"
      ]
     },
     "metadata": {
      "needs_background": "light"
     },
     "output_type": "display_data"
    }
   ],
   "source": [
    "plt.hist(df['windmill_height'],bins=5)"
   ]
  },
  {
   "cell_type": "code",
   "execution_count": 81,
   "id": "efb4bad4",
   "metadata": {},
   "outputs": [
    {
     "data": {
      "text/plain": [
       "count    27657.000000\n",
       "mean        25.887052\n",
       "std          7.773609\n",
       "min        -30.295253\n",
       "25%         24.447658\n",
       "50%         25.957739\n",
       "75%         27.477854\n",
       "max         78.351335\n",
       "Name: windmill_height, dtype: float64"
      ]
     },
     "execution_count": 81,
     "metadata": {},
     "output_type": "execute_result"
    }
   ],
   "source": [
    "df['windmill_height'].describe()"
   ]
  },
  {
   "cell_type": "code",
   "execution_count": 82,
   "id": "59a2783f",
   "metadata": {},
   "outputs": [],
   "source": [
    "df['windmill_height']=abs(df['windmill_height'])\n",
    "df_test['windmill_height']=abs(df_test['windmill_height'])"
   ]
  },
  {
   "cell_type": "code",
   "execution_count": 83,
   "id": "3f1130e4",
   "metadata": {},
   "outputs": [
    {
     "data": {
      "text/plain": [
       "168"
      ]
     },
     "execution_count": 83,
     "metadata": {},
     "output_type": "execute_result"
    }
   ],
   "source": [
    "df[df['windmill_height']>50].tracking_id.count()"
   ]
  },
  {
   "cell_type": "code",
   "execution_count": 84,
   "id": "5472619a",
   "metadata": {},
   "outputs": [],
   "source": [
    "df.loc[(df.windmill_height > 50  ),'windmill_height']=50\n",
    "df_test.loc[(df.windmill_height > 50),'windmill_height']=50"
   ]
  },
  {
   "cell_type": "code",
   "execution_count": 85,
   "id": "d28d5bac",
   "metadata": {},
   "outputs": [],
   "source": [
    "df['windmill_height'].fillna(df['windmill_height'].mean(),inplace=True)\n",
    "df_test['windmill_height'].fillna(df['windmill_height'].mean(),inplace=True)"
   ]
  },
  {
   "cell_type": "markdown",
   "id": "c9eeb383",
   "metadata": {},
   "source": [
    "### turbine_status"
   ]
  },
  {
   "cell_type": "code",
   "execution_count": 86,
   "id": "7f165d2b",
   "metadata": {},
   "outputs": [
    {
     "data": {
      "text/plain": [
       "<AxesSubplot:xlabel='turbine_status', ylabel='count'>"
      ]
     },
     "execution_count": 86,
     "metadata": {},
     "output_type": "execute_result"
    },
    {
     "data": {
      "image/png": "[encoded data removed]",
      "text/plain": [
       "<Figure size 432x288 with 1 Axes>"
      ]
     },
     "metadata": {
      "needs_background": "light"
     },
     "output_type": "display_data"
    }
   ],
   "source": [
    "sns.countplot(x=\"turbine_status\", data=df)"
   ]
  },
  {
   "cell_type": "code",
   "execution_count": 87,
   "id": "73d27bfd",
   "metadata": {},
   "outputs": [
    {
     "data": {
      "text/plain": [
       "array(['BA', 'A2', 'ABC', 'AAA', 'BD', 'AC', 'BB', 'BCB', 'B', 'AB', nan,\n",
       "       'B2', 'BBB', 'A', 'D'], dtype=object)"
      ]
     },
     "execution_count": 87,
     "metadata": {},
     "output_type": "execute_result"
    }
   ],
   "source": [
    "df['turbine_status'].unique()"
   ]
  },
  {
   "cell_type": "code",
   "execution_count": 88,
   "id": "a5f7a1ea",
   "metadata": {},
   "outputs": [],
   "source": [
    "df['turbine_status'].fillna(df['turbine_status'].mode(),inplace=True)\n",
    "df_test['turbine_status'].fillna(df['turbine_status'].mode(),inplace=True)"
   ]
  },
  {
   "cell_type": "markdown",
   "id": "c3bb46a4",
   "metadata": {},
   "source": [
    "### cloud_level"
   ]
  },
  {
   "cell_type": "code",
   "execution_count": 89,
   "id": "b5c7d94f",
   "metadata": {},
   "outputs": [
    {
     "data": {
      "text/plain": [
       "<AxesSubplot:xlabel='cloud_level', ylabel='count'>"
      ]
     },
     "execution_count": 89,
     "metadata": {},
     "output_type": "execute_result"
    },
    {
     "data": {
      "image/png": "[encoded data removed]",
      "text/plain": [
       "<Figure size 432x288 with 1 Axes>"
      ]
     },
     "metadata": {
      "needs_background": "light"
     },
     "output_type": "display_data"
    }
   ],
   "source": [
    "sns.countplot(x=\"cloud_level\", data=df)"
   ]
  },
  {
   "cell_type": "code",
   "execution_count": 90,
   "id": "4672bbeb",
   "metadata": {},
   "outputs": [
    {
     "data": {
      "text/plain": [
       "array(['Medium', nan, 'Low', 'Extremely Low'], dtype=object)"
      ]
     },
     "execution_count": 90,
     "metadata": {},
     "output_type": "execute_result"
    }
   ],
   "source": [
    "df['cloud_level'].unique()"
   ]
  },
  {
   "cell_type": "code",
   "execution_count": 91,
   "id": "caace3ab",
   "metadata": {},
   "outputs": [],
   "source": [
    "df['cloud_level'].fillna(df['cloud_level'].mode(),inplace=True)\n",
    "df_test['cloud_level'].fillna(df['cloud_level'].mode(),inplace=True)"
   ]
  },
  {
   "cell_type": "code",
   "execution_count": 92,
   "id": "75c0321d",
   "metadata": {},
   "outputs": [],
   "source": [
    "dummies_train_cost  = pd.get_dummies(df['cloud_level'])\n",
    "dummies_train_cost.drop(['Extremely Low'],axis=1,inplace=True)\n",
    "\n",
    "dummies_test_cost  = pd.get_dummies(df_test['cloud_level'])\n",
    "dummies_test_cost.drop(['Extremely Low'],axis=1,inplace=True)\n",
    "\n",
    "df = df.join(dummies_train_cost)\n",
    "df_test = df_test.join(dummies_test_cost)\n",
    "\n",
    "df_test.drop(['cloud_level'],axis=1,inplace=True)\n",
    "df.drop(['cloud_level'],axis=1,inplace=True)\n"
   ]
  },
  {
   "cell_type": "markdown",
   "id": "86ee4d34",
   "metadata": {},
   "source": [
    "### windmill_generated_power"
   ]
  },
  {
   "cell_type": "code",
   "execution_count": 93,
   "id": "678bd1e4",
   "metadata": {},
   "outputs": [
    {
     "data": {
      "text/plain": [
       "(array([ 9908., 13035.,  4459.,   550.,    41.]),\n",
       " array([ 0.96230495,  4.80491554,  8.64752614, 12.49013673, 16.33274733,\n",
       "        20.17535792]),\n",
       " <BarContainer object of 5 artists>)"
      ]
     },
     "execution_count": 93,
     "metadata": {},
     "output_type": "execute_result"
    },
    {
     "data": {
      "image/png": "[encoded data removed]",
      "text/plain": [
       "<Figure size 432x288 with 1 Axes>"
      ]
     },
     "metadata": {
      "needs_background": "light"
     },
     "output_type": "display_data"
    }
   ],
   "source": [
    "plt.hist(df['windmill_generated_power'],bins=5)"
   ]
  },
  {
   "cell_type": "code",
   "execution_count": 94,
   "id": "734f86c2",
   "metadata": {},
   "outputs": [
    {
     "data": {
      "text/plain": [
       "count    27993.000000\n",
       "mean         6.130529\n",
       "std          2.697520\n",
       "min          0.962305\n",
       "25%          4.059505\n",
       "50%          5.764710\n",
       "75%          7.947195\n",
       "max         20.175358\n",
       "Name: windmill_generated_power, dtype: float64"
      ]
     },
     "execution_count": 94,
     "metadata": {},
     "output_type": "execute_result"
    }
   ],
   "source": [
    "df['windmill_generated_power'].describe()"
   ]
  },
  {
   "cell_type": "code",
   "execution_count": 95,
   "id": "00656516",
   "metadata": {},
   "outputs": [],
   "source": [
    "df['windmill_generated_power'].fillna(df['windmill_generated_power'].mean(),inplace=True)\n"
   ]
  },
  {
   "cell_type": "code",
   "execution_count": 96,
   "id": "36bc27b9",
   "metadata": {},
   "outputs": [
    {
     "name": "stdout",
     "output_type": "stream",
     "text": [
      "<class 'pandas.core.frame.DataFrame'>\n",
      "RangeIndex: 12086 entries, 0 to 12085\n",
      "Data columns (total 22 columns):\n",
      " #   Column                     Non-Null Count  Dtype  \n",
      "---  ------                     --------------  -----  \n",
      " 0   tracking_id                12086 non-null  object \n",
      " 1   datetime                   12086 non-null  object \n",
      " 2   wind_speed                 12086 non-null  float64\n",
      " 3   atmospheric_temperature    12086 non-null  float64\n",
      " 4   shaft_temperature          12086 non-null  float64\n",
      " 5   blades_angle               12086 non-null  float64\n",
      " 6   gearbox_temperature        12086 non-null  float64\n",
      " 7   engine_temperature         12086 non-null  float64\n",
      " 8   motor_torque               12086 non-null  float64\n",
      " 9   generator_temperature      12086 non-null  float64\n",
      " 10  atmospheric_pressure       12086 non-null  float64\n",
      " 11  area_temperature           12086 non-null  float64\n",
      " 12  windmill_body_temperature  12086 non-null  float64\n",
      " 13  wind_direction             12086 non-null  float64\n",
      " 14  resistance                 12086 non-null  float64\n",
      " 15  rotor_torque               12086 non-null  float64\n",
      " 16  turbine_status             11289 non-null  object \n",
      " 17  blade_length               12086 non-null  float64\n",
      " 18  blade_breadth              12086 non-null  float64\n",
      " 19  windmill_height            12086 non-null  float64\n",
      " 20  Low                        12086 non-null  uint8  \n",
      " 21  Medium                     12086 non-null  uint8  \n",
      "dtypes: float64(17), object(3), uint8(2)\n",
      "memory usage: 1.9+ MB\n"
     ]
    }
   ],
   "source": [
    "df_test.info()"
   ]
  },
  {
   "cell_type": "code",
   "execution_count": 97,
   "id": "d23a37ba",
   "metadata": {},
   "outputs": [
    {
     "name": "stdout",
     "output_type": "stream",
     "text": [
      "<class 'pandas.core.frame.DataFrame'>\n",
      "RangeIndex: 28200 entries, 0 to 28199\n",
      "Data columns (total 23 columns):\n",
      " #   Column                     Non-Null Count  Dtype  \n",
      "---  ------                     --------------  -----  \n",
      " 0   tracking_id                28200 non-null  object \n",
      " 1   datetime                   28200 non-null  object \n",
      " 2   wind_speed                 28200 non-null  float64\n",
      " 3   atmospheric_temperature    28200 non-null  float64\n",
      " 4   shaft_temperature          28200 non-null  float64\n",
      " 5   blades_angle               28200 non-null  float64\n",
      " 6   gearbox_temperature        28200 non-null  float64\n",
      " 7   engine_temperature         28200 non-null  float64\n",
      " 8   motor_torque               28200 non-null  float64\n",
      " 9   generator_temperature      28200 non-null  float64\n",
      " 10  atmospheric_pressure       28200 non-null  float64\n",
      " 11  area_temperature           28200 non-null  float64\n",
      " 12  windmill_body_temperature  28200 non-null  float64\n",
      " 13  wind_direction             28200 non-null  float64\n",
      " 14  resistance                 28200 non-null  float64\n",
      " 15  rotor_torque               28200 non-null  float64\n",
      " 16  turbine_status             26441 non-null  object \n",
      " 17  blade_length               28200 non-null  float64\n",
      " 18  blade_breadth              28200 non-null  float64\n",
      " 19  windmill_height            28200 non-null  float64\n",
      " 20  windmill_generated_power   28200 non-null  float64\n",
      " 21  Low                        28200 non-null  uint8  \n",
      " 22  Medium                     28200 non-null  uint8  \n",
      "dtypes: float64(18), object(3), uint8(2)\n",
      "memory usage: 4.6+ MB\n"
     ]
    }
   ],
   "source": [
    "df.info()"
   ]
  },
  {
   "cell_type": "code",
   "execution_count": 98,
   "id": "ffb7b941",
   "metadata": {},
   "outputs": [
    {
     "data": {
      "text/html": [
       "<div>\n",
       "<style scoped>\n",
       "    .dataframe tbody tr th:only-of-type {\n",
       "        vertical-align: middle;\n",
       "    }\n",
       "\n",
       "    .dataframe tbody tr th {\n",
       "        vertical-align: top;\n",
       "    }\n",
       "\n",
       "    .dataframe thead th {\n",
       "        text-align: right;\n",
       "    }\n",
       "</style>\n",
       "<table border=\"1\" class=\"dataframe\">\n",
       "  <thead>\n",
       "    <tr style=\"text-align: right;\">\n",
       "      <th></th>\n",
       "      <th>tracking_id</th>\n",
       "      <th>datetime</th>\n",
       "      <th>wind_speed</th>\n",
       "      <th>atmospheric_temperature</th>\n",
       "      <th>shaft_temperature</th>\n",
       "      <th>blades_angle</th>\n",
       "      <th>gearbox_temperature</th>\n",
       "      <th>engine_temperature</th>\n",
       "      <th>motor_torque</th>\n",
       "      <th>generator_temperature</th>\n",
       "      <th>...</th>\n",
       "      <th>wind_direction</th>\n",
       "      <th>resistance</th>\n",
       "      <th>rotor_torque</th>\n",
       "      <th>turbine_status</th>\n",
       "      <th>blade_length</th>\n",
       "      <th>blade_breadth</th>\n",
       "      <th>windmill_height</th>\n",
       "      <th>windmill_generated_power</th>\n",
       "      <th>Low</th>\n",
       "      <th>Medium</th>\n",
       "    </tr>\n",
       "  </thead>\n",
       "  <tbody>\n",
       "    <tr>\n",
       "      <th>0</th>\n",
       "      <td>WM_33725</td>\n",
       "      <td>04-08-2019 14:33</td>\n",
       "      <td>94.820023</td>\n",
       "      <td>7.000000</td>\n",
       "      <td>41.723019</td>\n",
       "      <td>0.903423</td>\n",
       "      <td>82.410573</td>\n",
       "      <td>42.523015</td>\n",
       "      <td>2563.124522</td>\n",
       "      <td>76.665560</td>\n",
       "      <td>...</td>\n",
       "      <td>239.836388</td>\n",
       "      <td>2730.310605</td>\n",
       "      <td>42.084666</td>\n",
       "      <td>BA</td>\n",
       "      <td>2.217542</td>\n",
       "      <td>0.314065</td>\n",
       "      <td>24.281689</td>\n",
       "      <td>6.766521</td>\n",
       "      <td>0</td>\n",
       "      <td>1</td>\n",
       "    </tr>\n",
       "    <tr>\n",
       "      <th>1</th>\n",
       "      <td>WM_698</td>\n",
       "      <td>05-11-2018 10:13</td>\n",
       "      <td>241.832734</td>\n",
       "      <td>27.764785</td>\n",
       "      <td>44.000000</td>\n",
       "      <td>32.000000</td>\n",
       "      <td>44.104919</td>\n",
       "      <td>46.258870</td>\n",
       "      <td>2372.384119</td>\n",
       "      <td>78.129803</td>\n",
       "      <td>...</td>\n",
       "      <td>337.944723</td>\n",
       "      <td>1780.207200</td>\n",
       "      <td>89.000000</td>\n",
       "      <td>A2</td>\n",
       "      <td>4.210346</td>\n",
       "      <td>0.448494</td>\n",
       "      <td>27.262139</td>\n",
       "      <td>5.966275</td>\n",
       "      <td>0</td>\n",
       "      <td>1</td>\n",
       "    </tr>\n",
       "    <tr>\n",
       "      <th>2</th>\n",
       "      <td>WM_39146</td>\n",
       "      <td>14-09-2019 14:03</td>\n",
       "      <td>95.484724</td>\n",
       "      <td>17.446773</td>\n",
       "      <td>41.855473</td>\n",
       "      <td>12.652763</td>\n",
       "      <td>42.322098</td>\n",
       "      <td>42.878552</td>\n",
       "      <td>1657.169646</td>\n",
       "      <td>67.654469</td>\n",
       "      <td>...</td>\n",
       "      <td>227.850294</td>\n",
       "      <td>1666.049900</td>\n",
       "      <td>42.931459</td>\n",
       "      <td>ABC</td>\n",
       "      <td>2.719475</td>\n",
       "      <td>0.302321</td>\n",
       "      <td>27.366127</td>\n",
       "      <td>2.874342</td>\n",
       "      <td>0</td>\n",
       "      <td>1</td>\n",
       "    </tr>\n",
       "    <tr>\n",
       "      <th>3</th>\n",
       "      <td>WM_6757</td>\n",
       "      <td>25-12-2018 15:33</td>\n",
       "      <td>238.819424</td>\n",
       "      <td>7.000000</td>\n",
       "      <td>45.443914</td>\n",
       "      <td>15.115323</td>\n",
       "      <td>44.759643</td>\n",
       "      <td>47.282101</td>\n",
       "      <td>2888.134079</td>\n",
       "      <td>95.389974</td>\n",
       "      <td>...</td>\n",
       "      <td>492.081520</td>\n",
       "      <td>1964.502895</td>\n",
       "      <td>42.744596</td>\n",
       "      <td>ABC</td>\n",
       "      <td>4.857385</td>\n",
       "      <td>0.367140</td>\n",
       "      <td>24.287767</td>\n",
       "      <td>14.851089</td>\n",
       "      <td>0</td>\n",
       "      <td>0</td>\n",
       "    </tr>\n",
       "    <tr>\n",
       "      <th>4</th>\n",
       "      <td>WM_21521</td>\n",
       "      <td>04-05-2019 03:13</td>\n",
       "      <td>10.722890</td>\n",
       "      <td>17.446773</td>\n",
       "      <td>41.981183</td>\n",
       "      <td>1.715696</td>\n",
       "      <td>17.616459</td>\n",
       "      <td>43.469852</td>\n",
       "      <td>781.695419</td>\n",
       "      <td>37.423065</td>\n",
       "      <td>...</td>\n",
       "      <td>259.274601</td>\n",
       "      <td>1177.516152</td>\n",
       "      <td>13.387289</td>\n",
       "      <td>AAA</td>\n",
       "      <td>3.590606</td>\n",
       "      <td>0.453374</td>\n",
       "      <td>27.971650</td>\n",
       "      <td>3.519074</td>\n",
       "      <td>0</td>\n",
       "      <td>1</td>\n",
       "    </tr>\n",
       "  </tbody>\n",
       "</table>\n",
       "<p>5 rows × 23 columns</p>\n",
       "</div>"
      ],
      "text/plain": [
       "  tracking_id          datetime  wind_speed  atmospheric_temperature  \\\n",
       "0    WM_33725  04-08-2019 14:33   94.820023                 7.000000   \n",
       "1      WM_698  05-11-2018 10:13  241.832734                27.764785   \n",
       "2    WM_39146  14-09-2019 14:03   95.484724                17.446773   \n",
       "3     WM_6757  25-12-2018 15:33  238.819424                 7.000000   \n",
       "4    WM_21521  04-05-2019 03:13   10.722890                17.446773   \n",
       "\n",
       "   shaft_temperature  blades_angle  gearbox_temperature  engine_temperature  \\\n",
       "0          41.723019      0.903423            82.410573           42.523015   \n",
       "1          44.000000     32.000000            44.104919           46.258870   \n",
       "2          41.855473     12.652763            42.322098           42.878552   \n",
       "3          45.443914     15.115323            44.759643           47.282101   \n",
       "4          41.981183      1.715696            17.616459           43.469852   \n",
       "\n",
       "   motor_torque  generator_temperature  ...  wind_direction   resistance  \\\n",
       "0   2563.124522              76.665560  ...      239.836388  2730.310605   \n",
       "1   2372.384119              78.129803  ...      337.944723  1780.207200   \n",
       "2   1657.169646              67.654469  ...      227.850294  1666.049900   \n",
       "3   2888.134079              95.389974  ...      492.081520  1964.502895   \n",
       "4    781.695419              37.423065  ...      259.274601  1177.516152   \n",
       "\n",
       "   rotor_torque  turbine_status  blade_length  blade_breadth windmill_height  \\\n",
       "0     42.084666              BA      2.217542       0.314065       24.281689   \n",
       "1     89.000000              A2      4.210346       0.448494       27.262139   \n",
       "2     42.931459             ABC      2.719475       0.302321       27.366127   \n",
       "3     42.744596             ABC      4.857385       0.367140       24.287767   \n",
       "4     13.387289             AAA      3.590606       0.453374       27.971650   \n",
       "\n",
       "   windmill_generated_power  Low  Medium  \n",
       "0                  6.766521    0       1  \n",
       "1                  5.966275    0       1  \n",
       "2                  2.874342    0       1  \n",
       "3                 14.851089    0       0  \n",
       "4                  3.519074    0       1  \n",
       "\n",
       "[5 rows x 23 columns]"
      ]
     },
     "execution_count": 98,
     "metadata": {},
     "output_type": "execute_result"
    }
   ],
   "source": [
    "df.head()"
   ]
  },
  {
   "cell_type": "code",
   "execution_count": 99,
   "id": "0ec64488",
   "metadata": {},
   "outputs": [],
   "source": [
    "train = df.drop( ['tracking_id','datetime','turbine_status'] ,axis=1)\n",
    "test = df_test.drop( ['tracking_id','datetime','turbine_status'] ,axis=1)"
   ]
  },
  {
   "cell_type": "markdown",
   "id": "a841612b",
   "metadata": {},
   "source": [
    "### Scaling "
   ]
  },
  {
   "cell_type": "code",
   "execution_count": 100,
   "id": "bc56a192",
   "metadata": {},
   "outputs": [],
   "source": [
    "train['wind_speed']=(train['wind_speed']-train['wind_speed'].mean())/train['wind_speed'].std()\n",
    "test['wind_speed']=(test['wind_speed']-test['wind_speed'].mean())/test['wind_speed'].std()\n",
    "\n",
    "train['atmospheric_temperature']=(train['atmospheric_temperature']-train['atmospheric_temperature'].mean())/train['atmospheric_temperature'].std()\n",
    "test['atmospheric_temperature']=(test['atmospheric_temperature']-test['atmospheric_temperature'].mean())/test['atmospheric_temperature'].std()\n",
    "\n",
    "train['shaft_temperature']=(train['shaft_temperature']-train['shaft_temperature'].mean())/train['shaft_temperature'].std()\n",
    "test['shaft_temperature']=(test['shaft_temperature']-test['shaft_temperature'].mean())/test['shaft_temperature'].std()\n",
    "\n",
    "train['blades_angle']=(train['blades_angle']-train['blades_angle'].mean())/train['blades_angle'].std()\n",
    "test['blades_angle']=(test['blades_angle']-test['blades_angle'].mean())/test['blades_angle'].std()\n",
    "\n",
    "train['gearbox_temperature']=(train['gearbox_temperature']-train['gearbox_temperature'].mean())/train['gearbox_temperature'].std()\n",
    "test['gearbox_temperature']=(test['gearbox_temperature']-test['gearbox_temperature'].mean())/test['gearbox_temperature'].std()\n",
    "\n",
    "train['engine_temperature']=(train['engine_temperature']-train['engine_temperature'].mean())/train['engine_temperature'].std()\n",
    "test['engine_temperature']=(test['engine_temperature']-test['engine_temperature'].mean())/test['engine_temperature'].std()\n",
    "\n",
    "train['motor_torque']=(train['motor_torque']-train['motor_torque'].mean())/train['motor_torque'].std()\n",
    "test['motor_torque']=(test['motor_torque']-test['motor_torque'].mean())/test['motor_torque'].std()\n",
    "\n",
    "train['generator_temperature']=(train['generator_temperature']-train['generator_temperature'].mean())/train['generator_temperature'].std()\n",
    "test['generator_temperature']=(test['generator_temperature']-test['generator_temperature'].mean())/test['generator_temperature'].std()\n",
    "\n",
    "train['atmospheric_pressure']=(train['atmospheric_pressure']-train['atmospheric_pressure'].mean())/train['atmospheric_pressure'].std()\n",
    "test['atmospheric_pressure']=(test['atmospheric_pressure']-test['atmospheric_pressure'].mean())/test['atmospheric_pressure'].std()\n",
    "\n",
    "train['area_temperature']=(train['area_temperature']-train['area_temperature'].mean())/train['area_temperature'].std()\n",
    "test['area_temperature']=(test['area_temperature']-test['area_temperature'].mean())/test['area_temperature'].std()\n",
    "\n",
    "train['resistance']=(train['resistance']-train['resistance'].mean())/train['resistance'].std()\n",
    "test['resistance']=(test['resistance']-test['resistance'].mean())/test['resistance'].std()\n",
    "\n",
    "train['rotor_torque']=(train['rotor_torque']-train['rotor_torque'].mean())/train['rotor_torque'].std()\n",
    "test['rotor_torque']=(test['rotor_torque']-test['rotor_torque'].mean())/test['rotor_torque'].std()\n",
    "\n",
    "train['blade_length']=(train['blade_length']-train['blade_length'].mean())/train['blade_length'].std()\n",
    "test['blade_length']=(test['blade_length']-test['blade_length'].mean())/test['blade_length'].std()\n",
    "\n",
    "train['blade_breadth']=(train['blade_breadth']-train['blade_breadth'].mean())/train['blade_breadth'].std()\n",
    "test['blade_breadth']=(test['blade_breadth']-test['blade_breadth'].mean())/test['blade_breadth'].std()\n",
    "\n",
    "train['windmill_body_temperature']=(train['windmill_body_temperature']-train['windmill_body_temperature'].mean())/train['windmill_body_temperature'].std()\n",
    "test['windmill_body_temperature']=(test['windmill_body_temperature']-test['windmill_body_temperature'].mean())/test['windmill_body_temperature'].std()\n",
    "\n",
    "train['wind_direction']=(train['wind_direction']-train['wind_direction'].mean())/train['wind_direction'].std()\n",
    "test['wind_direction']=(test['wind_direction']-test['wind_direction'].mean())/test['wind_direction'].std()\n",
    "\n",
    "train['windmill_height']=(train['windmill_height']-train['windmill_height'].mean())/train['windmill_height'].std()\n",
    "test['windmill_height']=(test['windmill_height']-test['windmill_height'].mean())/test['windmill_height'].std()\n",
    "\n"
   ]
  },
  {
   "cell_type": "code",
   "execution_count": 101,
   "id": "fa19080f",
   "metadata": {},
   "outputs": [],
   "source": [
    "from sklearn.model_selection import train_test_split\n",
    "\n",
    "X = train.drop(['windmill_generated_power'], axis = 1)\n",
    "Y = train['windmill_generated_power']\n"
   ]
  },
  {
   "cell_type": "code",
   "execution_count": 102,
   "id": "23a3fc3c",
   "metadata": {},
   "outputs": [],
   "source": [
    "x_train,x_test,y_train,y_test  = train_test_split(X, Y, test_size = 0.20, random_state = 0)"
   ]
  },
  {
   "cell_type": "code",
   "execution_count": 103,
   "id": "50721ac3",
   "metadata": {},
   "outputs": [
    {
     "name": "stdout",
     "output_type": "stream",
     "text": [
      "(22560, 19) (22560,)\n",
      "(5640, 19) (5640,)\n"
     ]
    }
   ],
   "source": [
    "print(x_train.shape,y_train.shape)\n",
    "print(x_test.shape,y_test.shape)"
   ]
  },
  {
   "cell_type": "code",
   "execution_count": 104,
   "id": "7f7ace27",
   "metadata": {},
   "outputs": [
    {
     "name": "stdout",
     "output_type": "stream",
     "text": [
      "0.4533343304087304\n",
      "0.4329003834071309\n"
     ]
    }
   ],
   "source": [
    "from sklearn.linear_model import LinearRegression, Lasso\n",
    "from sklearn.metrics import r2_score\n",
    "lr = LinearRegression()\n",
    "lr.fit(x_train,y_train)\n",
    "y_train_pred = lr.predict(x_train)\n",
    "y_test_pred = lr.predict(x_test)\n",
    "print(r2_score(y_true=y_train,y_pred=y_train_pred))\n",
    "print(r2_score(y_true=y_test,y_pred=y_test_pred))"
   ]
  },
  {
   "cell_type": "code",
   "execution_count": 105,
   "id": "6af85bcf",
   "metadata": {},
   "outputs": [
    {
     "name": "stdout",
     "output_type": "stream",
     "text": [
      "0.4533343295133767\n",
      "0.43290059507876766\n"
     ]
    }
   ],
   "source": [
    "from sklearn.linear_model import RidgeCV\n",
    "ridge_model = RidgeCV(scoring=\"r2\",\n",
    "                          alphas=[0.0001,0.0005,0.001,0.005,0.01,0.1,1.0,10],cv=5)\n",
    "ridge_model.fit(x_train,y_train)\n",
    "y_train_pred = ridge_model.predict(x_train)\n",
    "y_test_pred = ridge_model.predict(x_test)\n",
    "print(r2_score(y_true=y_train,y_pred=y_train_pred))\n",
    "print(r2_score(y_true=y_test,y_pred=y_test_pred))"
   ]
  },
  {
   "cell_type": "code",
   "execution_count": 106,
   "id": "d42c2912",
   "metadata": {},
   "outputs": [
    {
     "name": "stdout",
     "output_type": "stream",
     "text": [
      "0.4533258863900359\n",
      "0.43292154083011414\n"
     ]
    }
   ],
   "source": [
    "from sklearn.linear_model import LassoCV\n",
    "lasso_model = LassoCV(alphas=[0.0001,0.0005,0.001,0.005,0.01,0.1,1.0,10],cv=5)\n",
    "lasso_model.fit(x_train,y_train)\n",
    "y_train_pred = lasso_model.predict(x_train)\n",
    "y_test_pred = lasso_model.predict(x_test)\n",
    "print(r2_score(y_true=y_train,y_pred=y_train_pred))\n",
    "print(r2_score(y_true=y_test,y_pred=y_test_pred))\n"
   ]
  },
  {
   "cell_type": "code",
   "execution_count": 107,
   "id": "7e99884c",
   "metadata": {},
   "outputs": [
    {
     "name": "stdout",
     "output_type": "stream",
     "text": [
      "0.4533258863900359\n",
      "0.43292154083011414\n"
     ]
    }
   ],
   "source": [
    "from sklearn.linear_model import ElasticNetCV\n",
    "enet_model = ElasticNetCV(l1_ratio = [0.1, 0.5, 0.7, 0.9, 0.95, 0.99, 1],\n",
    "                    alphas = [1, 0.1, 0.01, 0.001, 0.0005], cv=5)\n",
    "enet_model.fit(x_train, y_train)\n",
    "\n",
    "# predict\n",
    "y_train_pred = enet_model.predict(x_train)\n",
    "y_test_pred = enet_model.predict(x_test)\n",
    "print(r2_score(y_train,y_train_pred))\n",
    "print(r2_score(y_test,y_test_pred))"
   ]
  },
  {
   "cell_type": "code",
   "execution_count": 108,
   "id": "605054d5",
   "metadata": {},
   "outputs": [
    {
     "name": "stdout",
     "output_type": "stream",
     "text": [
      "0.9977869346757341\n",
      "0.9463917639871888\n"
     ]
    }
   ],
   "source": [
    "from sklearn.ensemble import ExtraTreesRegressor\n",
    "extra_model = ExtraTreesRegressor(criterion='mse', random_state=0, n_jobs=-1, \n",
    "                                min_samples_leaf=1, max_depth=20, \n",
    "                                min_samples_split=3, n_estimators=1000\n",
    "                               )\n",
    "\n",
    "extra_model.fit(x_train, y_train)\n",
    "\n",
    "# predict\n",
    "y_train_pred = extra_model.predict(x_train)\n",
    "y_test_pred = extra_model.predict(x_test)\n",
    "print(r2_score(y_train,y_train_pred))\n",
    "print(r2_score(y_test,y_test_pred))"
   ]
  },
  {
   "cell_type": "code",
   "execution_count": 109,
   "id": "f90caf6e",
   "metadata": {},
   "outputs": [
    {
     "name": "stdout",
     "output_type": "stream",
     "text": [
      "0.9937177014789261\n",
      "0.94861377780776\n"
     ]
    }
   ],
   "source": [
    "from sklearn.ensemble import RandomForestRegressor\n",
    "rf = RandomForestRegressor()\n",
    "rf.fit(x_train,y_train)\n",
    "y_train_pred = rf.predict(x_train)\n",
    "y_test_pred = rf.predict(x_test)\n",
    "print(r2_score(y_train,y_train_pred))\n",
    "print(r2_score(y_test,y_test_pred))"
   ]
  },
  {
   "cell_type": "code",
   "execution_count": 110,
   "id": "75de0f21",
   "metadata": {},
   "outputs": [
    {
     "name": "stdout",
     "output_type": "stream",
     "text": [
      "0.9840346762884791\n",
      "0.9449161319065051\n"
     ]
    }
   ],
   "source": [
    "from sklearn.ensemble import GradientBoostingRegressor\n",
    "gb_model = GradientBoostingRegressor(criterion='mse',random_state=0,max_depth=5,\n",
    "                                     n_estimators=500,min_samples_split=2,min_samples_leaf=2)\n",
    "gb_model.fit(x_train,y_train)\n",
    "y_train_pred = gb_model.predict(x_train)\n",
    "y_test_pred = gb_model.predict(x_test)\n",
    "print(r2_score(y_train,y_train_pred))\n",
    "print(r2_score(y_test,y_test_pred))"
   ]
  },
  {
   "cell_type": "code",
   "execution_count": 111,
   "id": "1080bfb2",
   "metadata": {},
   "outputs": [
    {
     "name": "stdout",
     "output_type": "stream",
     "text": [
      "0.9856493125123108\n",
      "0.9462095771719774\n"
     ]
    }
   ],
   "source": [
    "from xgboost import XGBRegressor\n",
    "xgb = XGBRegressor(n_estimators=500,max_depth=5,booster='gbtree',n_jobs=-1,learning_rate=0.1,reg_lambda=0.01,reg_alpha=0.3)\n",
    "xgb.fit(x_train,y_train)\n",
    "y_train_pred = xgb.predict(x_train)\n",
    "y_test_pred = xgb.predict(x_test)\n",
    "print(r2_score(y_train,y_train_pred))\n",
    "print(r2_score(y_test,y_test_pred))"
   ]
  },
  {
   "cell_type": "code",
   "execution_count": 112,
   "id": "d922a5f2",
   "metadata": {},
   "outputs": [],
   "source": [
    "import sklearn.base as skb\n",
    "class MixModel(skb.BaseEstimator,skb.RegressorMixin,skb.TransformerMixin):\n",
    "    def __init__(self,algs):\n",
    "        self.algs = algs\n",
    "    def fit(self,X,y):\n",
    "        self.algs_ = [skb.clone(x) for x in self.algs]\n",
    "        for alg in self.algs_:\n",
    "            alg.fit(X,y)\n",
    "        return self\n",
    "    def predict(self,X):\n",
    "        predictions = np.column_stack([\n",
    "            stacked_model.predict(X) for stacked_model in self.algs_\n",
    "        ])\n",
    "        return np.mean(predictions,axis=1)"
   ]
  },
  {
   "cell_type": "code",
   "execution_count": 113,
   "id": "52f88435",
   "metadata": {},
   "outputs": [
    {
     "name": "stdout",
     "output_type": "stream",
     "text": [
      "0.9893485081571429\n",
      "0.9495630547655074\n"
     ]
    }
   ],
   "source": [
    "mixed_model = MixModel(algs = [xgb,rf,gb_model])\n",
    "mixed_model.fit(x_train, y_train)\n",
    "y_train_pred = mixed_model.predict(x_train)\n",
    "y_test_pred = mixed_model.predict(x_test)\n",
    "print(r2_score(y_train,y_train_pred))\n",
    "print(r2_score(y_test,y_test_pred))"
   ]
  },
  {
   "cell_type": "code",
   "execution_count": 114,
   "id": "d3d3266d",
   "metadata": {},
   "outputs": [],
   "source": [
    "df_sub = df_test[['tracking_id','datetime']]"
   ]
  },
  {
   "cell_type": "code",
   "execution_count": 115,
   "id": "21e7a2b9",
   "metadata": {},
   "outputs": [],
   "source": [
    "results = mixed_model.predict(test)"
   ]
  },
  {
   "cell_type": "code",
   "execution_count": 116,
   "id": "5c222210",
   "metadata": {},
   "outputs": [
    {
     "data": {
      "text/plain": [
       "array([2.72483407, 3.41499301, 3.4555845 , ..., 5.51339362, 5.02778245,\n",
       "       9.68490887])"
      ]
     },
     "execution_count": 116,
     "metadata": {},
     "output_type": "execute_result"
    }
   ],
   "source": [
    "results"
   ]
  },
  {
   "cell_type": "code",
   "execution_count": 117,
   "id": "45eb4296",
   "metadata": {},
   "outputs": [
    {
     "name": "stderr",
     "output_type": "stream",
     "text": [
      "<ipython-input-117-b2c3b3e3f1a8>:1: SettingWithCopyWarning: \n",
      "A value is trying to be set on a copy of a slice from a DataFrame.\n",
      "Try using .loc[row_indexer,col_indexer] = value instead\n",
      "\n",
      "See the caveats in the documentation: https://pandas.pydata.org/pandas-docs/stable/user_guide/indexing.html#returning-a-view-versus-a-copy\n",
      "  df_sub['windmill_generated_power(kW/h)'] = results\n"
     ]
    }
   ],
   "source": [
    "df_sub['windmill_generated_power(kW/h)'] = results"
   ]
  },
  {
   "cell_type": "code",
   "execution_count": 118,
   "id": "ea015e3d",
   "metadata": {},
   "outputs": [
    {
     "data": {
      "text/html": [
       "<div>\n",
       "<style scoped>\n",
       "    .dataframe tbody tr th:only-of-type {\n",
       "        vertical-align: middle;\n",
       "    }\n",
       "\n",
       "    .dataframe tbody tr th {\n",
       "        vertical-align: top;\n",
       "    }\n",
       "\n",
       "    .dataframe thead th {\n",
       "        text-align: right;\n",
       "    }\n",
       "</style>\n",
       "<table border=\"1\" class=\"dataframe\">\n",
       "  <thead>\n",
       "    <tr style=\"text-align: right;\">\n",
       "      <th></th>\n",
       "      <th>tracking_id</th>\n",
       "      <th>datetime</th>\n",
       "      <th>windmill_generated_power(kW/h)</th>\n",
       "    </tr>\n",
       "  </thead>\n",
       "  <tbody>\n",
       "    <tr>\n",
       "      <th>0</th>\n",
       "      <td>WM_19817</td>\n",
       "      <td>17-04-2019 08:53</td>\n",
       "      <td>2.724834</td>\n",
       "    </tr>\n",
       "    <tr>\n",
       "      <th>1</th>\n",
       "      <td>WM_18723</td>\n",
       "      <td>30-03-2019 07:43</td>\n",
       "      <td>3.414993</td>\n",
       "    </tr>\n",
       "    <tr>\n",
       "      <th>2</th>\n",
       "      <td>WM_34552</td>\n",
       "      <td>10-08-2019 11:33</td>\n",
       "      <td>3.455584</td>\n",
       "    </tr>\n",
       "    <tr>\n",
       "      <th>3</th>\n",
       "      <td>WM_28570</td>\n",
       "      <td>26-06-2019 03:53</td>\n",
       "      <td>5.703127</td>\n",
       "    </tr>\n",
       "    <tr>\n",
       "      <th>4</th>\n",
       "      <td>WM_36934</td>\n",
       "      <td>27-08-2019 16:43</td>\n",
       "      <td>3.521737</td>\n",
       "    </tr>\n",
       "    <tr>\n",
       "      <th>...</th>\n",
       "      <td>...</td>\n",
       "      <td>...</td>\n",
       "      <td>...</td>\n",
       "    </tr>\n",
       "    <tr>\n",
       "      <th>12081</th>\n",
       "      <td>WM_13376</td>\n",
       "      <td>12-02-2019 11:33</td>\n",
       "      <td>6.626661</td>\n",
       "    </tr>\n",
       "    <tr>\n",
       "      <th>12082</th>\n",
       "      <td>WM_1630</td>\n",
       "      <td>12-11-2018 17:33</td>\n",
       "      <td>2.995231</td>\n",
       "    </tr>\n",
       "    <tr>\n",
       "      <th>12083</th>\n",
       "      <td>WM_24703</td>\n",
       "      <td>27-05-2019 11:53</td>\n",
       "      <td>5.513394</td>\n",
       "    </tr>\n",
       "    <tr>\n",
       "      <th>12084</th>\n",
       "      <td>WM_22893</td>\n",
       "      <td>13-05-2019 21:53</td>\n",
       "      <td>5.027782</td>\n",
       "    </tr>\n",
       "    <tr>\n",
       "      <th>12085</th>\n",
       "      <td>WM_14513</td>\n",
       "      <td>20-02-2019 23:43</td>\n",
       "      <td>9.684909</td>\n",
       "    </tr>\n",
       "  </tbody>\n",
       "</table>\n",
       "<p>12086 rows × 3 columns</p>\n",
       "</div>"
      ],
      "text/plain": [
       "      tracking_id          datetime  windmill_generated_power(kW/h)\n",
       "0        WM_19817  17-04-2019 08:53                        2.724834\n",
       "1        WM_18723  30-03-2019 07:43                        3.414993\n",
       "2        WM_34552  10-08-2019 11:33                        3.455584\n",
       "3        WM_28570  26-06-2019 03:53                        5.703127\n",
       "4        WM_36934  27-08-2019 16:43                        3.521737\n",
       "...           ...               ...                             ...\n",
       "12081    WM_13376  12-02-2019 11:33                        6.626661\n",
       "12082     WM_1630  12-11-2018 17:33                        2.995231\n",
       "12083    WM_24703  27-05-2019 11:53                        5.513394\n",
       "12084    WM_22893  13-05-2019 21:53                        5.027782\n",
       "12085    WM_14513  20-02-2019 23:43                        9.684909\n",
       "\n",
       "[12086 rows x 3 columns]"
      ]
     },
     "execution_count": 118,
     "metadata": {},
     "output_type": "execute_result"
    }
   ],
   "source": [
    "df_sub.to_csv('sub1.csv',header=True,index=False)\n",
    "df_sub"
   ]
  },
  {
   "cell_type": "code",
   "execution_count": 119,
   "id": "6c308fd9",
   "metadata": {},
   "outputs": [
    {
     "name": "stdout",
     "output_type": "stream",
     "text": [
      "<class 'pandas.core.frame.DataFrame'>\n",
      "RangeIndex: 12086 entries, 0 to 12085\n",
      "Data columns (total 3 columns):\n",
      " #   Column                          Non-Null Count  Dtype  \n",
      "---  ------                          --------------  -----  \n",
      " 0   tracking_id                     12086 non-null  object \n",
      " 1   datetime                        12086 non-null  object \n",
      " 2   windmill_generated_power(kW/h)  12086 non-null  float64\n",
      "dtypes: float64(1), object(2)\n",
      "memory usage: 283.4+ KB\n"
     ]
    }
   ],
   "source": [
    "df_sub.info()"
   ]
  },
  {
   "cell_type": "code",
   "execution_count": null,
   "id": "aa66bf95",
   "metadata": {},
   "outputs": [],
   "source": []
  }
 ],
 "metadata": {
  "kernelspec": {
   "display_name": "Python 3",
   "language": "python",
   "name": "python3"
  },
  "language_info": {
   "codemirror_mode": {
    "name": "ipython",
    "version": 3
   },
   "file_extension": ".py",
   "mimetype": "text/x-python",
   "name": "python",
   "nbconvert_exporter": "python",
   "pygments_lexer": "ipython3",
   "version": "3.8.8"
  }
 },
 "nbformat": 4,
 "nbformat_minor": 5
}
