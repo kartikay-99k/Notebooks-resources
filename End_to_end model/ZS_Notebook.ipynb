{
 "cells": [
  {
   "cell_type": "markdown",
   "id": "963580b0",
   "metadata": {},
   "source": [
    "## Note:\n",
    "#### To do exploratory data analysis i used semi-auto ML utilility application made by me  \n",
    "####  APP Link https://share.streamlit.io/kartikay-99k/eda-and-data-preprocessing-app/main/app.py\n",
    "#### Repo Link   https://github.com/kartikay-99k/EDA-and-Data-Preprocessing-app      \n",
    "\n",
    "\n",
    "#### Please go through Comments above codes for better understanding"
   ]
  },
  {
   "cell_type": "code",
   "execution_count": 1,
   "id": "46ee8045",
   "metadata": {},
   "outputs": [
    {
     "data": {
      "text/html": [
       "<div>\n",
       "<style scoped>\n",
       "    .dataframe tbody tr th:only-of-type {\n",
       "        vertical-align: middle;\n",
       "    }\n",
       "\n",
       "    .dataframe tbody tr th {\n",
       "        vertical-align: top;\n",
       "    }\n",
       "\n",
       "    .dataframe thead th {\n",
       "        text-align: right;\n",
       "    }\n",
       "</style>\n",
       "<table border=\"1\" class=\"dataframe\">\n",
       "  <thead>\n",
       "    <tr style=\"text-align: right;\">\n",
       "      <th></th>\n",
       "      <th>ID</th>\n",
       "      <th>LICENSE_ID</th>\n",
       "      <th>ACCOUNT_NUMBER</th>\n",
       "      <th>SITE_NUMBER</th>\n",
       "      <th>LEGAL_NAME</th>\n",
       "      <th>DOING_BUSINESS_AS_NAME</th>\n",
       "      <th>ADDRESS</th>\n",
       "      <th>CITY</th>\n",
       "      <th>STATE</th>\n",
       "      <th>ZIP_CODE</th>\n",
       "      <th>...</th>\n",
       "      <th>LICENSE_TERM_START_DATE</th>\n",
       "      <th>LICENSE_TERM_EXPIRATION_DATE</th>\n",
       "      <th>LICENSE_APPROVED_FOR_ISSUANCE</th>\n",
       "      <th>DATE_ISSUED</th>\n",
       "      <th>LICENSE_STATUS_CHANGE_DATE</th>\n",
       "      <th>SSA</th>\n",
       "      <th>LATITUDE</th>\n",
       "      <th>LONGITUDE</th>\n",
       "      <th>LOCATION</th>\n",
       "      <th>LICENSE_STATUS</th>\n",
       "    </tr>\n",
       "  </thead>\n",
       "  <tbody>\n",
       "    <tr>\n",
       "      <th>0</th>\n",
       "      <td>35342-20020816</td>\n",
       "      <td>1256593</td>\n",
       "      <td>32811</td>\n",
       "      <td>1</td>\n",
       "      <td>CARMEN CAHUE</td>\n",
       "      <td>CLAUDIA'S BRIDAL SHOP</td>\n",
       "      <td>2625 S CENTRAL PARK AVE  1</td>\n",
       "      <td>CHICAGO</td>\n",
       "      <td>IL</td>\n",
       "      <td>60623</td>\n",
       "      <td>...</td>\n",
       "      <td>2002-08-16T00:00:00</td>\n",
       "      <td>2003-08-15T00:00:00</td>\n",
       "      <td>2002-08-21T00:00:00</td>\n",
       "      <td>2006-04-11T00:00:00</td>\n",
       "      <td>NaN</td>\n",
       "      <td>25.0</td>\n",
       "      <td>41.843613</td>\n",
       "      <td>-87.714618</td>\n",
       "      <td>{'latitude': '41.843612879431845', 'longitude'...</td>\n",
       "      <td>AAI</td>\n",
       "    </tr>\n",
       "    <tr>\n",
       "      <th>1</th>\n",
       "      <td>1358463-20051116</td>\n",
       "      <td>1639294</td>\n",
       "      <td>262311</td>\n",
       "      <td>29</td>\n",
       "      <td>ISLA_TROPICAL,_INC.</td>\n",
       "      <td>ISLA TROPICAL</td>\n",
       "      <td>2825 W MONTROSE AVE</td>\n",
       "      <td>CHICAGO</td>\n",
       "      <td>IL</td>\n",
       "      <td>60618</td>\n",
       "      <td>...</td>\n",
       "      <td>2005-11-16T00:00:00</td>\n",
       "      <td>2006-11-15T00:00:00</td>\n",
       "      <td>2006-04-05T00:00:00</td>\n",
       "      <td>2006-06-12T00:00:00</td>\n",
       "      <td>2006-06-15T00:00:00</td>\n",
       "      <td>60.0</td>\n",
       "      <td>41.961132</td>\n",
       "      <td>-87.699626</td>\n",
       "      <td>{'latitude': '41.96113244107215', 'longitude':...</td>\n",
       "      <td>AAC</td>\n",
       "    </tr>\n",
       "    <tr>\n",
       "      <th>2</th>\n",
       "      <td>1980233-20090722</td>\n",
       "      <td>1980233</td>\n",
       "      <td>345008</td>\n",
       "      <td>1</td>\n",
       "      <td>DJS REMODELING</td>\n",
       "      <td>DJS REMODELING, INC.</td>\n",
       "      <td>1605  CLAVEY RD 1</td>\n",
       "      <td>HIGHLAND</td>\n",
       "      <td>IL</td>\n",
       "      <td>60035</td>\n",
       "      <td>...</td>\n",
       "      <td>2009-07-22T00:00:00</td>\n",
       "      <td>2011-07-15T00:00:00</td>\n",
       "      <td>2009-07-22T00:00:00</td>\n",
       "      <td>2009-07-22T00:00:00</td>\n",
       "      <td>NaN</td>\n",
       "      <td>NaN</td>\n",
       "      <td>NaN</td>\n",
       "      <td>NaN</td>\n",
       "      <td>NaN</td>\n",
       "      <td>AAI</td>\n",
       "    </tr>\n",
       "    <tr>\n",
       "      <th>3</th>\n",
       "      <td>1476582-20040211</td>\n",
       "      <td>1476582</td>\n",
       "      <td>273121</td>\n",
       "      <td>1</td>\n",
       "      <td>ALL-BRY CONSTRUCTION CO.</td>\n",
       "      <td>ALL-BRY CONSTRUCTION CO.</td>\n",
       "      <td>8  NORTH TRAIL</td>\n",
       "      <td>LEMONT</td>\n",
       "      <td>IL</td>\n",
       "      <td>60439</td>\n",
       "      <td>...</td>\n",
       "      <td>2004-02-11T00:00:00</td>\n",
       "      <td>2005-02-15T00:00:00</td>\n",
       "      <td>2004-02-10T00:00:00</td>\n",
       "      <td>2004-02-11T00:00:00</td>\n",
       "      <td>NaN</td>\n",
       "      <td>NaN</td>\n",
       "      <td>NaN</td>\n",
       "      <td>NaN</td>\n",
       "      <td>NaN</td>\n",
       "      <td>AAI</td>\n",
       "    </tr>\n",
       "    <tr>\n",
       "      <th>4</th>\n",
       "      <td>1141408-20080516</td>\n",
       "      <td>1896750</td>\n",
       "      <td>213785</td>\n",
       "      <td>1</td>\n",
       "      <td>MCDONOUGH MECHANICAL SERVICE</td>\n",
       "      <td>MCDONOUGH MECHANICAL SERVICE</td>\n",
       "      <td>4081  JOSEPH DR</td>\n",
       "      <td>WAUKEGAN</td>\n",
       "      <td>IL</td>\n",
       "      <td>60087</td>\n",
       "      <td>...</td>\n",
       "      <td>2008-05-16T00:00:00</td>\n",
       "      <td>2010-05-15T00:00:00</td>\n",
       "      <td>2008-06-04T00:00:00</td>\n",
       "      <td>2008-06-05T00:00:00</td>\n",
       "      <td>NaN</td>\n",
       "      <td>NaN</td>\n",
       "      <td>NaN</td>\n",
       "      <td>NaN</td>\n",
       "      <td>NaN</td>\n",
       "      <td>AAI</td>\n",
       "    </tr>\n",
       "  </tbody>\n",
       "</table>\n",
       "<p>5 rows × 32 columns</p>\n",
       "</div>"
      ],
      "text/plain": [
       "                 ID  LICENSE_ID  ACCOUNT_NUMBER  SITE_NUMBER  \\\n",
       "0    35342-20020816     1256593           32811            1   \n",
       "1  1358463-20051116     1639294          262311           29   \n",
       "2  1980233-20090722     1980233          345008            1   \n",
       "3  1476582-20040211     1476582          273121            1   \n",
       "4  1141408-20080516     1896750          213785            1   \n",
       "\n",
       "                     LEGAL_NAME        DOING_BUSINESS_AS_NAME  \\\n",
       "0                  CARMEN CAHUE         CLAUDIA'S BRIDAL SHOP   \n",
       "1           ISLA_TROPICAL,_INC.                 ISLA TROPICAL   \n",
       "2                DJS REMODELING          DJS REMODELING, INC.   \n",
       "3      ALL-BRY CONSTRUCTION CO.      ALL-BRY CONSTRUCTION CO.   \n",
       "4  MCDONOUGH MECHANICAL SERVICE  MCDONOUGH MECHANICAL SERVICE   \n",
       "\n",
       "                      ADDRESS      CITY STATE ZIP_CODE  ...  \\\n",
       "0  2625 S CENTRAL PARK AVE  1   CHICAGO    IL    60623  ...   \n",
       "1         2825 W MONTROSE AVE   CHICAGO    IL    60618  ...   \n",
       "2           1605  CLAVEY RD 1  HIGHLAND    IL    60035  ...   \n",
       "3              8  NORTH TRAIL    LEMONT    IL    60439  ...   \n",
       "4             4081  JOSEPH DR  WAUKEGAN    IL    60087  ...   \n",
       "\n",
       "   LICENSE_TERM_START_DATE  LICENSE_TERM_EXPIRATION_DATE  \\\n",
       "0      2002-08-16T00:00:00           2003-08-15T00:00:00   \n",
       "1      2005-11-16T00:00:00           2006-11-15T00:00:00   \n",
       "2      2009-07-22T00:00:00           2011-07-15T00:00:00   \n",
       "3      2004-02-11T00:00:00           2005-02-15T00:00:00   \n",
       "4      2008-05-16T00:00:00           2010-05-15T00:00:00   \n",
       "\n",
       "  LICENSE_APPROVED_FOR_ISSUANCE          DATE_ISSUED  \\\n",
       "0           2002-08-21T00:00:00  2006-04-11T00:00:00   \n",
       "1           2006-04-05T00:00:00  2006-06-12T00:00:00   \n",
       "2           2009-07-22T00:00:00  2009-07-22T00:00:00   \n",
       "3           2004-02-10T00:00:00  2004-02-11T00:00:00   \n",
       "4           2008-06-04T00:00:00  2008-06-05T00:00:00   \n",
       "\n",
       "   LICENSE_STATUS_CHANGE_DATE   SSA   LATITUDE  LONGITUDE  \\\n",
       "0                         NaN  25.0  41.843613 -87.714618   \n",
       "1         2006-06-15T00:00:00  60.0  41.961132 -87.699626   \n",
       "2                         NaN   NaN        NaN        NaN   \n",
       "3                         NaN   NaN        NaN        NaN   \n",
       "4                         NaN   NaN        NaN        NaN   \n",
       "\n",
       "                                            LOCATION LICENSE_STATUS  \n",
       "0  {'latitude': '41.843612879431845', 'longitude'...            AAI  \n",
       "1  {'latitude': '41.96113244107215', 'longitude':...            AAC  \n",
       "2                                                NaN            AAI  \n",
       "3                                                NaN            AAI  \n",
       "4                                                NaN            AAI  \n",
       "\n",
       "[5 rows x 32 columns]"
      ]
     },
     "execution_count": 1,
     "metadata": {},
     "output_type": "execute_result"
    }
   ],
   "source": [
    "import pandas as pd\n",
    "import numpy as np\n",
    "import random\n",
    "import matplotlib.pyplot as plt\n",
    "%matplotlib inline\n",
    "import seaborn as sns\n",
    "from sklearn.metrics import classification_report,confusion_matrix\n",
    "import warnings\n",
    "warnings.filterwarnings('ignore')\n",
    "\n",
    "df=pd.read_csv('train.csv')\n",
    "df_test=pd.read_csv('test.csv')\n",
    "df.head()"
   ]
  },
  {
   "cell_type": "code",
   "execution_count": 2,
   "id": "c3c38096",
   "metadata": {},
   "outputs": [
    {
     "name": "stdout",
     "output_type": "stream",
     "text": [
      "<class 'pandas.core.frame.DataFrame'>\n",
      "RangeIndex: 85895 entries, 0 to 85894\n",
      "Data columns (total 32 columns):\n",
      " #   Column                             Non-Null Count  Dtype  \n",
      "---  ------                             --------------  -----  \n",
      " 0   ID                                 85895 non-null  object \n",
      " 1   LICENSE_ID                         85895 non-null  int64  \n",
      " 2   ACCOUNT_NUMBER                     85895 non-null  int64  \n",
      " 3   SITE_NUMBER                        85895 non-null  int64  \n",
      " 4   LEGAL_NAME                         85895 non-null  object \n",
      " 5   DOING_BUSINESS_AS_NAME             85894 non-null  object \n",
      " 6   ADDRESS                            85895 non-null  object \n",
      " 7   CITY                               85895 non-null  object \n",
      " 8   STATE                              85895 non-null  object \n",
      " 9   ZIP_CODE                           85864 non-null  object \n",
      " 10  WARD                               36194 non-null  float64\n",
      " 11  PRECINCT                           29194 non-null  float64\n",
      " 12  WARD_PRECINCT                      36195 non-null  object \n",
      " 13  POLICE_DISTRICT                    31883 non-null  float64\n",
      " 14  LICENSE_CODE                       85895 non-null  int64  \n",
      " 15  LICENSE_DESCRIPTION                85895 non-null  object \n",
      " 16  LICENSE_NUMBER                     85894 non-null  float64\n",
      " 17  APPLICATION_TYPE                   85895 non-null  object \n",
      " 18  APPLICATION_CREATED_DATE           21235 non-null  object \n",
      " 19  APPLICATION_REQUIREMENTS_COMPLETE  85895 non-null  object \n",
      " 20  PAYMENT_DATE                       84606 non-null  object \n",
      " 21  CONDITIONAL_APPROVAL               85895 non-null  object \n",
      " 22  LICENSE_TERM_START_DATE            85667 non-null  object \n",
      " 23  LICENSE_TERM_EXPIRATION_DATE       85877 non-null  object \n",
      " 24  LICENSE_APPROVED_FOR_ISSUANCE      79106 non-null  object \n",
      " 25  DATE_ISSUED                        85895 non-null  object \n",
      " 26  LICENSE_STATUS_CHANGE_DATE         30495 non-null  object \n",
      " 27  SSA                                9449 non-null   float64\n",
      " 28  LATITUDE                           38649 non-null  float64\n",
      " 29  LONGITUDE                          38649 non-null  float64\n",
      " 30  LOCATION                           38649 non-null  object \n",
      " 31  LICENSE_STATUS                     85895 non-null  object \n",
      "dtypes: float64(7), int64(4), object(21)\n",
      "memory usage: 21.0+ MB\n"
     ]
    }
   ],
   "source": [
    "df.info()"
   ]
  },
  {
   "cell_type": "code",
   "execution_count": 3,
   "id": "aa8e92b7",
   "metadata": {},
   "outputs": [
    {
     "name": "stdout",
     "output_type": "stream",
     "text": [
      "<class 'pandas.core.frame.DataFrame'>\n",
      "RangeIndex: 57239 entries, 0 to 57238\n",
      "Data columns (total 31 columns):\n",
      " #   Column                             Non-Null Count  Dtype  \n",
      "---  ------                             --------------  -----  \n",
      " 0   ID                                 57239 non-null  object \n",
      " 1   LICENSE_ID                         57239 non-null  int64  \n",
      " 2   ACCOUNT_NUMBER                     57239 non-null  int64  \n",
      " 3   SITE_NUMBER                        57239 non-null  int64  \n",
      " 4   LEGAL_NAME                         57239 non-null  object \n",
      " 5   DOING_BUSINESS_AS_NAME             57237 non-null  object \n",
      " 6   ADDRESS                            57239 non-null  object \n",
      " 7   CITY                               57239 non-null  object \n",
      " 8   STATE                              57239 non-null  object \n",
      " 9   ZIP_CODE                           57227 non-null  float64\n",
      " 10  WARD                               56613 non-null  float64\n",
      " 11  PRECINCT                           55661 non-null  float64\n",
      " 12  WARD_PRECINCT                      56623 non-null  object \n",
      " 13  POLICE_DISTRICT                    55764 non-null  float64\n",
      " 14  LICENSE_CODE                       57239 non-null  int64  \n",
      " 15  LICENSE_DESCRIPTION                57239 non-null  object \n",
      " 16  LICENSE_NUMBER                     57239 non-null  int64  \n",
      " 17  APPLICATION_TYPE                   57239 non-null  object \n",
      " 18  APPLICATION_CREATED_DATE           12652 non-null  object \n",
      " 19  APPLICATION_REQUIREMENTS_COMPLETE  57239 non-null  object \n",
      " 20  PAYMENT_DATE                       56188 non-null  object \n",
      " 21  CONDITIONAL_APPROVAL               57239 non-null  object \n",
      " 22  LICENSE_TERM_START_DATE            57121 non-null  object \n",
      " 23  LICENSE_TERM_EXPIRATION_DATE       57233 non-null  object \n",
      " 24  LICENSE_APPROVED_FOR_ISSUANCE      54860 non-null  object \n",
      " 25  DATE_ISSUED                        57239 non-null  object \n",
      " 26  LICENSE_STATUS_CHANGE_DATE         33993 non-null  object \n",
      " 27  SSA                                15908 non-null  float64\n",
      " 28  LATITUDE                           56329 non-null  float64\n",
      " 29  LONGITUDE                          56329 non-null  float64\n",
      " 30  LOCATION                           56329 non-null  object \n",
      "dtypes: float64(7), int64(5), object(19)\n",
      "memory usage: 13.5+ MB\n"
     ]
    }
   ],
   "source": [
    "df_test.info()"
   ]
  },
  {
   "cell_type": "code",
   "execution_count": 4,
   "id": "fb71639f",
   "metadata": {},
   "outputs": [
    {
     "data": {
      "text/plain": [
       "ID                                       0\n",
       "LICENSE_ID                               0\n",
       "ACCOUNT_NUMBER                           0\n",
       "SITE_NUMBER                              0\n",
       "LEGAL_NAME                               0\n",
       "DOING_BUSINESS_AS_NAME                   1\n",
       "ADDRESS                                  0\n",
       "CITY                                     0\n",
       "STATE                                    0\n",
       "ZIP_CODE                                31\n",
       "WARD                                 49701\n",
       "PRECINCT                             56701\n",
       "WARD_PRECINCT                        49700\n",
       "POLICE_DISTRICT                      54012\n",
       "LICENSE_CODE                             0\n",
       "LICENSE_DESCRIPTION                      0\n",
       "LICENSE_NUMBER                           1\n",
       "APPLICATION_TYPE                         0\n",
       "APPLICATION_CREATED_DATE             64660\n",
       "APPLICATION_REQUIREMENTS_COMPLETE        0\n",
       "PAYMENT_DATE                          1289\n",
       "CONDITIONAL_APPROVAL                     0\n",
       "LICENSE_TERM_START_DATE                228\n",
       "LICENSE_TERM_EXPIRATION_DATE            18\n",
       "LICENSE_APPROVED_FOR_ISSUANCE         6789\n",
       "DATE_ISSUED                              0\n",
       "LICENSE_STATUS_CHANGE_DATE           55400\n",
       "SSA                                  76446\n",
       "LATITUDE                             47246\n",
       "LONGITUDE                            47246\n",
       "LOCATION                             47246\n",
       "LICENSE_STATUS                           0\n",
       "dtype: int64"
      ]
     },
     "execution_count": 4,
     "metadata": {},
     "output_type": "execute_result"
    }
   ],
   "source": [
    "df.isnull().sum()"
   ]
  },
  {
   "cell_type": "code",
   "execution_count": 5,
   "id": "d5295ec0",
   "metadata": {},
   "outputs": [
    {
     "data": {
      "text/plain": [
       "ID                                       0\n",
       "LICENSE_ID                               0\n",
       "ACCOUNT_NUMBER                           0\n",
       "SITE_NUMBER                              0\n",
       "LEGAL_NAME                               0\n",
       "DOING_BUSINESS_AS_NAME                   2\n",
       "ADDRESS                                  0\n",
       "CITY                                     0\n",
       "STATE                                    0\n",
       "ZIP_CODE                                12\n",
       "WARD                                   626\n",
       "PRECINCT                              1578\n",
       "WARD_PRECINCT                          616\n",
       "POLICE_DISTRICT                       1475\n",
       "LICENSE_CODE                             0\n",
       "LICENSE_DESCRIPTION                      0\n",
       "LICENSE_NUMBER                           0\n",
       "APPLICATION_TYPE                         0\n",
       "APPLICATION_CREATED_DATE             44587\n",
       "APPLICATION_REQUIREMENTS_COMPLETE        0\n",
       "PAYMENT_DATE                          1051\n",
       "CONDITIONAL_APPROVAL                     0\n",
       "LICENSE_TERM_START_DATE                118\n",
       "LICENSE_TERM_EXPIRATION_DATE             6\n",
       "LICENSE_APPROVED_FOR_ISSUANCE         2379\n",
       "DATE_ISSUED                              0\n",
       "LICENSE_STATUS_CHANGE_DATE           23246\n",
       "SSA                                  41331\n",
       "LATITUDE                               910\n",
       "LONGITUDE                              910\n",
       "LOCATION                               910\n",
       "dtype: int64"
      ]
     },
     "execution_count": 5,
     "metadata": {},
     "output_type": "execute_result"
    }
   ],
   "source": [
    "df_test.isnull().sum()"
   ]
  },
  {
   "cell_type": "markdown",
   "id": "34fe2a84",
   "metadata": {},
   "source": [
    "## Dropping the columns which are having **High Cardinality**  and other irrelevant columns    \n"
   ]
  },
  {
   "cell_type": "code",
   "execution_count": 6,
   "id": "18c49dd9",
   "metadata": {},
   "outputs": [],
   "source": [
    "df.drop( ['LICENSE_ID','ACCOUNT_NUMBER','SITE_NUMBER','LEGAL_NAME','DOING_BUSINESS_AS_NAME','ADDRESS','CITY','ZIP_CODE','WARD','WARD_PRECINCT','PRECINCT','POLICE_DISTRICT','LOCATION','LICENSE_NUMBER','SSA','LATITUDE','LONGITUDE'] ,axis=1,inplace=True)\n",
    "df_test.drop( ['LICENSE_ID','ACCOUNT_NUMBER','SITE_NUMBER','LEGAL_NAME','DOING_BUSINESS_AS_NAME','ADDRESS','CITY','ZIP_CODE','WARD','WARD_PRECINCT','PRECINCT','POLICE_DISTRICT','LOCATION','LICENSE_NUMBER','SSA','LATITUDE','LONGITUDE'] ,axis=1, inplace=True)"
   ]
  },
  {
   "cell_type": "code",
   "execution_count": 7,
   "id": "35205303",
   "metadata": {},
   "outputs": [
    {
     "name": "stdout",
     "output_type": "stream",
     "text": [
      "<class 'pandas.core.frame.DataFrame'>\n",
      "RangeIndex: 85895 entries, 0 to 85894\n",
      "Data columns (total 15 columns):\n",
      " #   Column                             Non-Null Count  Dtype \n",
      "---  ------                             --------------  ----- \n",
      " 0   ID                                 85895 non-null  object\n",
      " 1   STATE                              85895 non-null  object\n",
      " 2   LICENSE_CODE                       85895 non-null  int64 \n",
      " 3   LICENSE_DESCRIPTION                85895 non-null  object\n",
      " 4   APPLICATION_TYPE                   85895 non-null  object\n",
      " 5   APPLICATION_CREATED_DATE           21235 non-null  object\n",
      " 6   APPLICATION_REQUIREMENTS_COMPLETE  85895 non-null  object\n",
      " 7   PAYMENT_DATE                       84606 non-null  object\n",
      " 8   CONDITIONAL_APPROVAL               85895 non-null  object\n",
      " 9   LICENSE_TERM_START_DATE            85667 non-null  object\n",
      " 10  LICENSE_TERM_EXPIRATION_DATE       85877 non-null  object\n",
      " 11  LICENSE_APPROVED_FOR_ISSUANCE      79106 non-null  object\n",
      " 12  DATE_ISSUED                        85895 non-null  object\n",
      " 13  LICENSE_STATUS_CHANGE_DATE         30495 non-null  object\n",
      " 14  LICENSE_STATUS                     85895 non-null  object\n",
      "dtypes: int64(1), object(14)\n",
      "memory usage: 9.8+ MB\n"
     ]
    }
   ],
   "source": [
    "df.info()"
   ]
  },
  {
   "cell_type": "markdown",
   "id": "e5c76ec6",
   "metadata": {},
   "source": [
    "##  Now taking remaining features and dealing with them individually"
   ]
  },
  {
   "cell_type": "markdown",
   "id": "0474fc1a",
   "metadata": {},
   "source": [
    "###  STATE"
   ]
  },
  {
   "cell_type": "code",
   "execution_count": 8,
   "id": "3ff3f29d",
   "metadata": {},
   "outputs": [
    {
     "data": {
      "text/plain": [
       "count     85895\n",
       "unique       54\n",
       "top          IL\n",
       "freq      80546\n",
       "Name: STATE, dtype: object"
      ]
     },
     "execution_count": 8,
     "metadata": {},
     "output_type": "execute_result"
    }
   ],
   "source": [
    "df['STATE'].describe()"
   ]
  },
  {
   "cell_type": "code",
   "execution_count": 9,
   "id": "b1429f85",
   "metadata": {},
   "outputs": [
    {
     "data": {
      "text/plain": [
       "IL    80546\n",
       "IN     1749\n",
       "WI      547\n",
       "CA      354\n",
       "MI      350\n",
       "NY      218\n",
       "OH      191\n",
       "TX      167\n",
       "MO      165\n",
       "MN      141\n",
       "FL      136\n",
       "PA      127\n",
       "GA      115\n",
       "NJ      107\n",
       "VA       81\n",
       "CO       77\n",
       "AZ       76\n",
       "CT       63\n",
       "MA       62\n",
       "MD       60\n",
       "TN       54\n",
       "IA       54\n",
       "WA       48\n",
       "NC       45\n",
       "NE       42\n",
       "AL       30\n",
       "KS       27\n",
       "LA       26\n",
       "KY       25\n",
       "UT       22\n",
       "OR       19\n",
       "QC       18\n",
       "OK       17\n",
       "SC       17\n",
       "NV       16\n",
       "DC       14\n",
       "RI       14\n",
       "MS       12\n",
       "SD       11\n",
       "AR        9\n",
       "DE        7\n",
       "ID        7\n",
       "MT        6\n",
       "ON        5\n",
       "NH        4\n",
       "HI        3\n",
       "NM        3\n",
       "VT        2\n",
       "AK        1\n",
       "CN        1\n",
       "WV        1\n",
       "ME        1\n",
       "GB        1\n",
       "WY        1\n",
       "Name: STATE, dtype: int64"
      ]
     },
     "execution_count": 9,
     "metadata": {},
     "output_type": "execute_result"
    }
   ],
   "source": [
    "df['STATE'].value_counts()"
   ]
  },
  {
   "cell_type": "code",
   "execution_count": 10,
   "id": "c7a0cb0c",
   "metadata": {},
   "outputs": [],
   "source": [
    "# Converting it into 2 categories [IL , Other] as \"IL\" is majority\n",
    "\n",
    "df.loc[(df.STATE != \"IL\"),'STATE']=\"Other\"\n",
    "df_test.loc[(df_test.STATE != \"IL\"),'STATE']=\"Other\""
   ]
  },
  {
   "cell_type": "code",
   "execution_count": 11,
   "id": "882be041",
   "metadata": {},
   "outputs": [],
   "source": [
    "# Using get_dummies to take care of categorical values\n",
    "\n",
    "dummies_train  = pd.get_dummies(df['STATE'])\n",
    "dummies_train.drop(['Other'],axis=1,inplace=True)\n",
    "\n",
    "dummies_test  = pd.get_dummies(df_test['STATE'])\n",
    "dummies_test.drop(['Other'],axis=1,inplace=True)\n",
    "\n",
    "df = df.join(dummies_train)\n",
    "df_test = df_test.join(dummies_test)\n",
    "\n",
    "df_test.drop(['STATE'],axis=1,inplace=True)\n",
    "df.drop(['STATE'],axis=1,inplace=True)"
   ]
  },
  {
   "cell_type": "markdown",
   "id": "c3e26a19",
   "metadata": {},
   "source": [
    "### LICENSE_CODE"
   ]
  },
  {
   "cell_type": "code",
   "execution_count": 12,
   "id": "03154752",
   "metadata": {},
   "outputs": [
    {
     "data": {
      "text/plain": [
       "(array([8.586e+04, 0.000e+00, 1.200e+01, 0.000e+00, 2.300e+01]),\n",
       " array([1002. , 2469.6, 3937.2, 5404.8, 6872.4, 8340. ]),\n",
       " <BarContainer object of 5 artists>)"
      ]
     },
     "execution_count": 12,
     "metadata": {},
     "output_type": "execute_result"
    },
    {
     "data": {
      "image/png": "[encoded data removed]",
      "text/plain": [
       "<Figure size 432x288 with 1 Axes>"
      ]
     },
     "metadata": {
      "needs_background": "light"
     },
     "output_type": "display_data"
    }
   ],
   "source": [
    "plt.hist(df['LICENSE_CODE'],bins=5)"
   ]
  },
  {
   "cell_type": "code",
   "execution_count": 13,
   "id": "f1fd9fdd",
   "metadata": {},
   "outputs": [
    {
     "data": {
      "text/plain": [
       "1010    50078\n",
       "1011    10633\n",
       "1604     2812\n",
       "1012     2809\n",
       "1006     2321\n",
       "        ...  \n",
       "1058        1\n",
       "1070        1\n",
       "1686        1\n",
       "1473        1\n",
       "8340        1\n",
       "Name: LICENSE_CODE, Length: 106, dtype: int64"
      ]
     },
     "execution_count": 13,
     "metadata": {},
     "output_type": "execute_result"
    }
   ],
   "source": [
    "df['LICENSE_CODE'].value_counts()"
   ]
  },
  {
   "cell_type": "code",
   "execution_count": 14,
   "id": "b11ddcfb",
   "metadata": {},
   "outputs": [],
   "source": [
    "# Converting it into 3 categories [1010 , 1011 , 0] as \"1010\" and \"1011\" are majority \n",
    "# and putting remaining in values in separate category \"0\".\n",
    "\n",
    "df['LICENSE_CODE'] = np.where((df['LICENSE_CODE'] != 1010) & (df['LICENSE_CODE'] != 1011) , 0, df['LICENSE_CODE'])\n",
    "df_test['LICENSE_CODE'] = np.where((df_test['LICENSE_CODE'] != 1010) & (df_test['LICENSE_CODE'] != 1011) , 0, df_test['LICENSE_CODE'])"
   ]
  },
  {
   "cell_type": "code",
   "execution_count": 15,
   "id": "2d88bda3",
   "metadata": {},
   "outputs": [],
   "source": [
    "df['LICENSE_CODE']=df['LICENSE_CODE'].astype(object)\n",
    "df_test['LICENSE_CODE']=df_test['LICENSE_CODE'].astype(object)"
   ]
  },
  {
   "cell_type": "code",
   "execution_count": 16,
   "id": "b3097e70",
   "metadata": {},
   "outputs": [],
   "source": [
    "dummies_train  = pd.get_dummies(df['LICENSE_CODE'])\n",
    "dummies_train.drop([0],axis=1,inplace=True)\n",
    "\n",
    "dummies_test  = pd.get_dummies(df_test['LICENSE_CODE'])\n",
    "dummies_test.drop([0],axis=1,inplace=True)\n",
    "\n",
    "df = df.join(dummies_train)\n",
    "df_test = df_test.join(dummies_test)\n",
    "\n",
    "df_test.drop(['LICENSE_CODE'],axis=1,inplace=True)\n",
    "df.drop(['LICENSE_CODE'],axis=1,inplace=True)\n"
   ]
  },
  {
   "cell_type": "markdown",
   "id": "3339c2e1",
   "metadata": {},
   "source": [
    "### LICENSE_DESCRIPTION"
   ]
  },
  {
   "cell_type": "code",
   "execution_count": 17,
   "id": "0efeb384",
   "metadata": {},
   "outputs": [
    {
     "data": {
      "text/plain": [
       "count                        85895\n",
       "unique                         106\n",
       "top       Limited Business License\n",
       "freq                         50078\n",
       "Name: LICENSE_DESCRIPTION, dtype: object"
      ]
     },
     "execution_count": 17,
     "metadata": {},
     "output_type": "execute_result"
    }
   ],
   "source": [
    "df['LICENSE_DESCRIPTION'].describe()"
   ]
  },
  {
   "cell_type": "code",
   "execution_count": 18,
   "id": "da54d924",
   "metadata": {},
   "outputs": [
    {
     "data": {
      "text/plain": [
       "Limited Business License                    50078\n",
       "Home Repair                                 10633\n",
       "Peddler, non-food                            2812\n",
       "Home Occupation                              2809\n",
       "Retail Food Establishment                    2321\n",
       "                                            ...  \n",
       "Indoor Special Event                            1\n",
       "Affiliation                                     1\n",
       "Airport Pushcart Liquor Midway - Class A        1\n",
       "Not-For-Profit Club                             1\n",
       "Motor Vehicle Services License                  1\n",
       "Name: LICENSE_DESCRIPTION, Length: 106, dtype: int64"
      ]
     },
     "execution_count": 18,
     "metadata": {},
     "output_type": "execute_result"
    }
   ],
   "source": [
    "df['LICENSE_DESCRIPTION'].value_counts()"
   ]
  },
  {
   "cell_type": "code",
   "execution_count": 19,
   "id": "01408348",
   "metadata": {},
   "outputs": [],
   "source": [
    "# Taking top 2 frequent categories and putting remaining to \"Other\" category\n",
    "\n",
    "df['LICENSE_DESCRIPTION'] = np.where((df['LICENSE_DESCRIPTION'] != \"Limited Business License\") & (df['LICENSE_DESCRIPTION'] != \"Home Repair\") , \"Other\", df['LICENSE_DESCRIPTION'])\n",
    "df_test['LICENSE_DESCRIPTION'] = np.where((df_test['LICENSE_DESCRIPTION'] != \"Limited Business License\") & (df_test['LICENSE_DESCRIPTION'] != \"Home Repair\") , \"Other\", df_test['LICENSE_DESCRIPTION'])"
   ]
  },
  {
   "cell_type": "code",
   "execution_count": 20,
   "id": "3ccd6509",
   "metadata": {},
   "outputs": [],
   "source": [
    "dummies_train  = pd.get_dummies(df['LICENSE_DESCRIPTION'])\n",
    "dummies_train.drop(['Other'],axis=1,inplace=True)\n",
    "\n",
    "dummies_test  = pd.get_dummies(df_test['LICENSE_DESCRIPTION'])\n",
    "dummies_test.drop(['Other'],axis=1,inplace=True)\n",
    "\n",
    "df = df.join(dummies_train)\n",
    "df_test = df_test.join(dummies_test)\n",
    "\n",
    "df_test.drop(['LICENSE_DESCRIPTION'],axis=1,inplace=True)\n",
    "df.drop(['LICENSE_DESCRIPTION'],axis=1,inplace=True)"
   ]
  },
  {
   "cell_type": "markdown",
   "id": "f4b61af3",
   "metadata": {},
   "source": [
    "### APPLICATION_TYPE"
   ]
  },
  {
   "cell_type": "code",
   "execution_count": 21,
   "id": "69aeb8fd",
   "metadata": {},
   "outputs": [
    {
     "data": {
      "text/plain": [
       "count     85895\n",
       "unique        5\n",
       "top       RENEW\n",
       "freq      61085\n",
       "Name: APPLICATION_TYPE, dtype: object"
      ]
     },
     "execution_count": 21,
     "metadata": {},
     "output_type": "execute_result"
    }
   ],
   "source": [
    "df['APPLICATION_TYPE'].describe()"
   ]
  },
  {
   "cell_type": "code",
   "execution_count": 22,
   "id": "909530ea",
   "metadata": {},
   "outputs": [
    {
     "data": {
      "text/plain": [
       "RENEW     61085\n",
       "ISSUE     23398\n",
       "C_LOC      1400\n",
       "C_CAPA        7\n",
       "C_EXPA        5\n",
       "Name: APPLICATION_TYPE, dtype: int64"
      ]
     },
     "execution_count": 22,
     "metadata": {},
     "output_type": "execute_result"
    }
   ],
   "source": [
    "df['APPLICATION_TYPE'].value_counts()"
   ]
  },
  {
   "cell_type": "code",
   "execution_count": 23,
   "id": "92a2c58a",
   "metadata": {},
   "outputs": [],
   "source": [
    "# Taking top 2 frequent categories and putting remaining to \"Other\" category\n",
    "\n",
    "df['APPLICATION_TYPE'] = np.where((df['APPLICATION_TYPE'] != \"RENEW\") & (df['APPLICATION_TYPE'] != \"ISSUE\") , \"Other\", df['APPLICATION_TYPE'])\n",
    "df_test['APPLICATION_TYPE'] = np.where((df_test['APPLICATION_TYPE'] != \"RENEW\") & (df_test['APPLICATION_TYPE'] != \"ISSUE\") , \"Other\", df_test['APPLICATION_TYPE'])"
   ]
  },
  {
   "cell_type": "code",
   "execution_count": 24,
   "id": "8fb038ad",
   "metadata": {},
   "outputs": [],
   "source": [
    "dummies_train  = pd.get_dummies(df['APPLICATION_TYPE'])\n",
    "dummies_train.drop(['Other'],axis=1,inplace=True)\n",
    "\n",
    "dummies_test  = pd.get_dummies(df_test['APPLICATION_TYPE'])\n",
    "dummies_test.drop(['Other'],axis=1,inplace=True)\n",
    "\n",
    "df = df.join(dummies_train)\n",
    "df_test = df_test.join(dummies_test)\n",
    "\n",
    "df_test.drop(['APPLICATION_TYPE'],axis=1,inplace=True)\n",
    "df.drop(['APPLICATION_TYPE'],axis=1,inplace=True)"
   ]
  },
  {
   "cell_type": "markdown",
   "id": "e95b2f42",
   "metadata": {},
   "source": [
    "### CONDITIONAL_APPROVAL"
   ]
  },
  {
   "cell_type": "code",
   "execution_count": 25,
   "id": "c446f001",
   "metadata": {},
   "outputs": [
    {
     "data": {
      "text/plain": [
       "<AxesSubplot:xlabel='CONDITIONAL_APPROVAL', ylabel='count'>"
      ]
     },
     "execution_count": 25,
     "metadata": {},
     "output_type": "execute_result"
    },
    {
     "data": {
      "image/png": "[encoded data removed]",
      "text/plain": [
       "<Figure size 432x288 with 1 Axes>"
      ]
     },
     "metadata": {
      "needs_background": "light"
     },
     "output_type": "display_data"
    }
   ],
   "source": [
    "sns.countplot(x=\"CONDITIONAL_APPROVAL\", data=df)"
   ]
  },
  {
   "cell_type": "code",
   "execution_count": 26,
   "id": "c7f1b0f0",
   "metadata": {},
   "outputs": [],
   "source": [
    "dummies_train  = pd.get_dummies(df['CONDITIONAL_APPROVAL'])\n",
    "dummies_train.drop(['Y'],axis=1,inplace=True)\n",
    "\n",
    "dummies_test  = pd.get_dummies(df_test['CONDITIONAL_APPROVAL'])\n",
    "dummies_test.drop(['Y'],axis=1,inplace=True)\n",
    "\n",
    "df = df.join(dummies_train)\n",
    "df_test = df_test.join(dummies_test)\n",
    "\n",
    "df_test.drop(['CONDITIONAL_APPROVAL'],axis=1,inplace=True)\n",
    "df.drop(['CONDITIONAL_APPROVAL'],axis=1,inplace=True)"
   ]
  },
  {
   "cell_type": "markdown",
   "id": "3b274ab5",
   "metadata": {},
   "source": [
    "### APPLICATION_CREATED_DATE / APPLICATION_REQUIREMENTS_COMPLETE / PAYMENT_DATE"
   ]
  },
  {
   "cell_type": "code",
   "execution_count": 27,
   "id": "d9f45f20",
   "metadata": {},
   "outputs": [],
   "source": [
    "# Filling missing values with MODE\n",
    "\n",
    "df['APPLICATION_REQUIREMENTS_COMPLETE']=df['APPLICATION_REQUIREMENTS_COMPLETE'].fillna(df['APPLICATION_REQUIREMENTS_COMPLETE'].mode())\n",
    "df_test['APPLICATION_REQUIREMENTS_COMPLETE']=df_test['APPLICATION_REQUIREMENTS_COMPLETE'].fillna(df_test['APPLICATION_REQUIREMENTS_COMPLETE'].mode())"
   ]
  },
  {
   "cell_type": "code",
   "execution_count": 28,
   "id": "44df686d",
   "metadata": {},
   "outputs": [],
   "source": [
    "# According to problem statement APPLICATION_CREATED_DATE = APPLICATION_REQUIREMENTS_COMPLETE when\n",
    "# APPLICATION_TYPE = RENEW\n",
    "\n",
    "df['APPLICATION_CREATED_DATE'].fillna(df.loc[df['RENEW']==1,'APPLICATION_REQUIREMENTS_COMPLETE'],inplace=True)\n",
    "df_test['APPLICATION_CREATED_DATE'].fillna(df_test.loc[df_test['RENEW']==1,'APPLICATION_REQUIREMENTS_COMPLETE'],inplace=True)"
   ]
  },
  {
   "cell_type": "code",
   "execution_count": 29,
   "id": "271495b2",
   "metadata": {},
   "outputs": [],
   "source": [
    "# Assuming missing PAYMENT_DATE is same as APPLICATION_REQUIREMENTS_COMPLETE\n",
    "# So Filling missing values with APPLICATION_REQUIREMENTS_COMPLETE\n",
    "\n",
    "\n",
    "df['PAYMENT_DATE'].fillna(df['APPLICATION_REQUIREMENTS_COMPLETE'],inplace=True)\n",
    "df_test['PAYMENT_DATE'].fillna(df_test['APPLICATION_REQUIREMENTS_COMPLETE'],inplace=True)"
   ]
  },
  {
   "cell_type": "code",
   "execution_count": 30,
   "id": "f854c8f7",
   "metadata": {},
   "outputs": [],
   "source": [
    "# Assuming missing APPLICATION_CREATED_DATE is same as APPLICATION_REQUIREMENTS_COMPLETE\n",
    "# So Filling missing values with APPLICATION_REQUIREMENTS_COMPLETE\n",
    "\n",
    "\n",
    "df['APPLICATION_CREATED_DATE'].fillna(df['APPLICATION_REQUIREMENTS_COMPLETE'],inplace=True)\n",
    "df_test['APPLICATION_CREATED_DATE'].fillna(df_test['APPLICATION_REQUIREMENTS_COMPLETE'],inplace=True)"
   ]
  },
  {
   "cell_type": "code",
   "execution_count": 31,
   "id": "d838c5e9",
   "metadata": {},
   "outputs": [],
   "source": [
    "# Coverting to date time format\n",
    "\n",
    "df['APPLICATION_CREATED_DATE']=pd.to_datetime(df['APPLICATION_CREATED_DATE'])\n",
    "df['PAYMENT_DATE']=pd.to_datetime(df['PAYMENT_DATE'])\n",
    "df['APPLICATION_REQUIREMENTS_COMPLETE']=pd.to_datetime(df['APPLICATION_REQUIREMENTS_COMPLETE'])\n",
    "df_test['PAYMENT_DATE']=pd.to_datetime(df_test['PAYMENT_DATE'])\n",
    "df_test['APPLICATION_CREATED_DATE']=pd.to_datetime(df_test['APPLICATION_CREATED_DATE'])\n",
    "df_test['APPLICATION_REQUIREMENTS_COMPLETE']=pd.to_datetime(df_test['APPLICATION_REQUIREMENTS_COMPLETE'])"
   ]
  },
  {
   "cell_type": "code",
   "execution_count": 32,
   "id": "275bc0af",
   "metadata": {},
   "outputs": [],
   "source": [
    "# Creating new column for Application_complete_time = APPLICATION_REQUIREMENTS_COMPLETE - APPLICATION_REQUIREMENTS_COMPLETE\n",
    "# df['Application_complete_time'] denotes time taken to complete application\n",
    "\n",
    "df['Application_complete_time']=pd.Series(delta.days for delta in (df[\"APPLICATION_REQUIREMENTS_COMPLETE\"] - df[\"APPLICATION_REQUIREMENTS_COMPLETE\"]))\n",
    "df_test['Application_complete_time']=pd.Series(delta.days for delta in (df_test[\"APPLICATION_REQUIREMENTS_COMPLETE\"] - df_test[\"APPLICATION_CREATED_DATE\"]))"
   ]
  },
  {
   "cell_type": "code",
   "execution_count": 33,
   "id": "4110bd81",
   "metadata": {},
   "outputs": [],
   "source": [
    "# Creating new column for Payment_time = PAYMENT_DATE - APPLICATION_REQUIREMENTS_COMPLETE \n",
    "# df['Payment_time'] denotes time taken to complete payment\n",
    "\n",
    "df['Payment_time']=pd.Series(delta.days for delta in (df[\"PAYMENT_DATE\"] - df[\"APPLICATION_REQUIREMENTS_COMPLETE\"]))\n",
    "df_test['Payment_time']=pd.Series(delta.days for delta in (df_test[\"PAYMENT_DATE\"] - df_test[\"APPLICATION_REQUIREMENTS_COMPLETE\"]))"
   ]
  },
  {
   "cell_type": "code",
   "execution_count": 34,
   "id": "f831773c",
   "metadata": {},
   "outputs": [],
   "source": [
    "# dropping the above 3 date columns \n",
    "\n",
    "df.drop( ['APPLICATION_REQUIREMENTS_COMPLETE','APPLICATION_CREATED_DATE','PAYMENT_DATE'] ,axis=1,inplace=True)\n",
    "df_test.drop( ['APPLICATION_REQUIREMENTS_COMPLETE','APPLICATION_CREATED_DATE','PAYMENT_DATE'] ,axis=1,inplace=True)"
   ]
  },
  {
   "cell_type": "markdown",
   "id": "e5e1ae14",
   "metadata": {},
   "source": [
    "### LICENSE_TERM_START_DATE / LICENSE_TERM_EXPIRATION_DATE / LICENSE_APPROVED_FOR_ISSUANCE / DATE_ISSUED / LICENSE_STATUS_CHANGE_DATE"
   ]
  },
  {
   "cell_type": "code",
   "execution_count": 35,
   "id": "f7a3b4fc",
   "metadata": {},
   "outputs": [],
   "source": [
    "# Creating Boolean values for other date columns.\n",
    "# If particular date is present \"TRUE\" otherwise \"FALSE\"\n",
    "# This is done to get information about wheather License is issued/expired/created/changed or not.\n",
    "\n",
    "\n",
    "df['LICENSE_TERM_START_DATE']=df['LICENSE_TERM_START_DATE'].fillna(0)\n",
    "df_test['LICENSE_TERM_START_DATE']=df_test['LICENSE_TERM_START_DATE'].fillna(0)\n",
    "df.loc[(df.LICENSE_TERM_START_DATE  !='0'),'LICENSE_TERM_START_DATE']= 1\n",
    "df_test.loc[(df.LICENSE_TERM_START_DATE != '0'),'LICENSE_TERM_START_DATE']= 1\n",
    "\n",
    "\n",
    "df['LICENSE_TERM_EXPIRATION_DATE']=df['LICENSE_TERM_EXPIRATION_DATE'].fillna(0)\n",
    "df_test['LICENSE_TERM_EXPIRATION_DATE']=df_test['LICENSE_TERM_EXPIRATION_DATE'].fillna(0)\n",
    "df.loc[(df.LICENSE_TERM_EXPIRATION_DATE  !='0'),'LICENSE_TERM_EXPIRATION_DATE']= 1\n",
    "df_test.loc[(df.LICENSE_TERM_EXPIRATION_DATE != '0'),'LICENSE_TERM_EXPIRATION_DATE']= 1\n",
    "\n",
    "\n",
    "df['LICENSE_APPROVED_FOR_ISSUANCE']=df['LICENSE_APPROVED_FOR_ISSUANCE'].fillna(0)\n",
    "df_test['LICENSE_APPROVED_FOR_ISSUANCE']=df_test['LICENSE_APPROVED_FOR_ISSUANCE'].fillna(0)\n",
    "df.loc[(df.LICENSE_APPROVED_FOR_ISSUANCE  !='0'),'LICENSE_APPROVED_FOR_ISSUANCE']= 1\n",
    "df_test.loc[(df.LICENSE_APPROVED_FOR_ISSUANCE != '0'),'LICENSE_APPROVED_FOR_ISSUANCE']= 1\n",
    "\n",
    "\n",
    "df['DATE_ISSUED']=df['DATE_ISSUED'].fillna(0)\n",
    "df_test['DATE_ISSUED']=df_test['DATE_ISSUED'].fillna(0)\n",
    "df.loc[(df.DATE_ISSUED  !='0'),'DATE_ISSUED']= 1\n",
    "df_test.loc[(df.DATE_ISSUED != '0'),'DATE_ISSUED']= 1\n",
    "\n",
    "\n",
    "df['LICENSE_STATUS_CHANGE_DATE']=df['LICENSE_STATUS_CHANGE_DATE'].fillna(0)\n",
    "df_test['LICENSE_STATUS_CHANGE_DATE']=df_test['LICENSE_STATUS_CHANGE_DATE'].fillna(0)\n",
    "df.loc[(df.LICENSE_STATUS_CHANGE_DATE  !='0'),'LICENSE_STATUS_CHANGE_DATE']= 1\n",
    "df_test.loc[(df.LICENSE_STATUS_CHANGE_DATE != '0'),'LICENSE_STATUS_CHANGE_DATE']= 1"
   ]
  },
  {
   "cell_type": "code",
   "execution_count": 36,
   "id": "7c8956e7",
   "metadata": {},
   "outputs": [],
   "source": [
    "# Changing datatype\n",
    "\n",
    "df['LICENSE_STATUS_CHANGE_DATE']=df['LICENSE_STATUS_CHANGE_DATE'].astype(int)\n",
    "df['LICENSE_TERM_START_DATE']=df['LICENSE_TERM_START_DATE'].astype(int)\n",
    "df['LICENSE_TERM_EXPIRATION_DATE']=df['LICENSE_TERM_EXPIRATION_DATE'].astype(int)\n",
    "df['DATE_ISSUED']=df['DATE_ISSUED'].astype(int)\n",
    "df['LICENSE_APPROVED_FOR_ISSUANCE']=df['LICENSE_APPROVED_FOR_ISSUANCE'].astype(int)\n",
    "\n",
    "\n",
    "df_test['LICENSE_STATUS_CHANGE_DATE']=df_test['LICENSE_STATUS_CHANGE_DATE'].astype(int)\n",
    "df_test['LICENSE_TERM_START_DATE']=df_test['LICENSE_TERM_START_DATE'].astype(int)\n",
    "df_test['LICENSE_TERM_EXPIRATION_DATE']=df_test['LICENSE_TERM_EXPIRATION_DATE'].astype(int)\n",
    "df_test['DATE_ISSUED']=df_test['DATE_ISSUED'].astype(int)\n",
    "df_test['LICENSE_APPROVED_FOR_ISSUANCE']=df_test['LICENSE_APPROVED_FOR_ISSUANCE'].astype(int)"
   ]
  },
  {
   "cell_type": "code",
   "execution_count": 37,
   "id": "b77e44be",
   "metadata": {
    "scrolled": true
   },
   "outputs": [
    {
     "data": {
      "text/html": [
       "<div>\n",
       "<style scoped>\n",
       "    .dataframe tbody tr th:only-of-type {\n",
       "        vertical-align: middle;\n",
       "    }\n",
       "\n",
       "    .dataframe tbody tr th {\n",
       "        vertical-align: top;\n",
       "    }\n",
       "\n",
       "    .dataframe thead th {\n",
       "        text-align: right;\n",
       "    }\n",
       "</style>\n",
       "<table border=\"1\" class=\"dataframe\">\n",
       "  <thead>\n",
       "    <tr style=\"text-align: right;\">\n",
       "      <th></th>\n",
       "      <th>LICENSE_TERM_START_DATE</th>\n",
       "      <th>LICENSE_TERM_EXPIRATION_DATE</th>\n",
       "      <th>LICENSE_APPROVED_FOR_ISSUANCE</th>\n",
       "      <th>DATE_ISSUED</th>\n",
       "      <th>LICENSE_STATUS_CHANGE_DATE</th>\n",
       "      <th>LICENSE_STATUS</th>\n",
       "      <th>IL</th>\n",
       "      <th>1010</th>\n",
       "      <th>1011</th>\n",
       "      <th>Home Repair</th>\n",
       "      <th>Limited Business License</th>\n",
       "      <th>ISSUE</th>\n",
       "      <th>RENEW</th>\n",
       "      <th>N</th>\n",
       "      <th>Application_complete_time</th>\n",
       "      <th>Payment_time</th>\n",
       "    </tr>\n",
       "  </thead>\n",
       "  <tbody>\n",
       "    <tr>\n",
       "      <th>0</th>\n",
       "      <td>1</td>\n",
       "      <td>1</td>\n",
       "      <td>1</td>\n",
       "      <td>1</td>\n",
       "      <td>1</td>\n",
       "      <td>AAI</td>\n",
       "      <td>1</td>\n",
       "      <td>1</td>\n",
       "      <td>0</td>\n",
       "      <td>0</td>\n",
       "      <td>1</td>\n",
       "      <td>0</td>\n",
       "      <td>1</td>\n",
       "      <td>1</td>\n",
       "      <td>0</td>\n",
       "      <td>54</td>\n",
       "    </tr>\n",
       "    <tr>\n",
       "      <th>1</th>\n",
       "      <td>1</td>\n",
       "      <td>1</td>\n",
       "      <td>1</td>\n",
       "      <td>1</td>\n",
       "      <td>1</td>\n",
       "      <td>AAC</td>\n",
       "      <td>1</td>\n",
       "      <td>0</td>\n",
       "      <td>0</td>\n",
       "      <td>0</td>\n",
       "      <td>0</td>\n",
       "      <td>0</td>\n",
       "      <td>1</td>\n",
       "      <td>1</td>\n",
       "      <td>0</td>\n",
       "      <td>42</td>\n",
       "    </tr>\n",
       "    <tr>\n",
       "      <th>2</th>\n",
       "      <td>1</td>\n",
       "      <td>1</td>\n",
       "      <td>1</td>\n",
       "      <td>1</td>\n",
       "      <td>1</td>\n",
       "      <td>AAI</td>\n",
       "      <td>1</td>\n",
       "      <td>0</td>\n",
       "      <td>1</td>\n",
       "      <td>1</td>\n",
       "      <td>0</td>\n",
       "      <td>1</td>\n",
       "      <td>0</td>\n",
       "      <td>1</td>\n",
       "      <td>0</td>\n",
       "      <td>0</td>\n",
       "    </tr>\n",
       "    <tr>\n",
       "      <th>3</th>\n",
       "      <td>1</td>\n",
       "      <td>1</td>\n",
       "      <td>1</td>\n",
       "      <td>1</td>\n",
       "      <td>1</td>\n",
       "      <td>AAI</td>\n",
       "      <td>1</td>\n",
       "      <td>1</td>\n",
       "      <td>0</td>\n",
       "      <td>0</td>\n",
       "      <td>1</td>\n",
       "      <td>1</td>\n",
       "      <td>0</td>\n",
       "      <td>1</td>\n",
       "      <td>0</td>\n",
       "      <td>0</td>\n",
       "    </tr>\n",
       "    <tr>\n",
       "      <th>4</th>\n",
       "      <td>1</td>\n",
       "      <td>1</td>\n",
       "      <td>1</td>\n",
       "      <td>1</td>\n",
       "      <td>1</td>\n",
       "      <td>AAI</td>\n",
       "      <td>1</td>\n",
       "      <td>1</td>\n",
       "      <td>0</td>\n",
       "      <td>0</td>\n",
       "      <td>1</td>\n",
       "      <td>0</td>\n",
       "      <td>1</td>\n",
       "      <td>1</td>\n",
       "      <td>0</td>\n",
       "      <td>72</td>\n",
       "    </tr>\n",
       "    <tr>\n",
       "      <th>5</th>\n",
       "      <td>1</td>\n",
       "      <td>1</td>\n",
       "      <td>1</td>\n",
       "      <td>1</td>\n",
       "      <td>1</td>\n",
       "      <td>AAI</td>\n",
       "      <td>1</td>\n",
       "      <td>1</td>\n",
       "      <td>0</td>\n",
       "      <td>0</td>\n",
       "      <td>1</td>\n",
       "      <td>1</td>\n",
       "      <td>0</td>\n",
       "      <td>1</td>\n",
       "      <td>0</td>\n",
       "      <td>0</td>\n",
       "    </tr>\n",
       "    <tr>\n",
       "      <th>6</th>\n",
       "      <td>1</td>\n",
       "      <td>1</td>\n",
       "      <td>1</td>\n",
       "      <td>1</td>\n",
       "      <td>1</td>\n",
       "      <td>AAI</td>\n",
       "      <td>1</td>\n",
       "      <td>1</td>\n",
       "      <td>0</td>\n",
       "      <td>0</td>\n",
       "      <td>1</td>\n",
       "      <td>0</td>\n",
       "      <td>1</td>\n",
       "      <td>1</td>\n",
       "      <td>0</td>\n",
       "      <td>428</td>\n",
       "    </tr>\n",
       "  </tbody>\n",
       "</table>\n",
       "</div>"
      ],
      "text/plain": [
       "   LICENSE_TERM_START_DATE  LICENSE_TERM_EXPIRATION_DATE  \\\n",
       "0                        1                             1   \n",
       "1                        1                             1   \n",
       "2                        1                             1   \n",
       "3                        1                             1   \n",
       "4                        1                             1   \n",
       "5                        1                             1   \n",
       "6                        1                             1   \n",
       "\n",
       "   LICENSE_APPROVED_FOR_ISSUANCE  DATE_ISSUED  LICENSE_STATUS_CHANGE_DATE  \\\n",
       "0                              1            1                           1   \n",
       "1                              1            1                           1   \n",
       "2                              1            1                           1   \n",
       "3                              1            1                           1   \n",
       "4                              1            1                           1   \n",
       "5                              1            1                           1   \n",
       "6                              1            1                           1   \n",
       "\n",
       "  LICENSE_STATUS  IL  1010  1011  Home Repair  Limited Business License  \\\n",
       "0            AAI   1     1     0            0                         1   \n",
       "1            AAC   1     0     0            0                         0   \n",
       "2            AAI   1     0     1            1                         0   \n",
       "3            AAI   1     1     0            0                         1   \n",
       "4            AAI   1     1     0            0                         1   \n",
       "5            AAI   1     1     0            0                         1   \n",
       "6            AAI   1     1     0            0                         1   \n",
       "\n",
       "   ISSUE  RENEW  N  Application_complete_time  Payment_time  \n",
       "0      0      1  1                          0            54  \n",
       "1      0      1  1                          0            42  \n",
       "2      1      0  1                          0             0  \n",
       "3      1      0  1                          0             0  \n",
       "4      0      1  1                          0            72  \n",
       "5      1      0  1                          0             0  \n",
       "6      0      1  1                          0           428  "
      ]
     },
     "execution_count": 37,
     "metadata": {},
     "output_type": "execute_result"
    }
   ],
   "source": [
    "train = df.drop( ['ID'] ,axis=1)\n",
    "test = df_test.drop( ['ID'] ,axis=1)\n",
    "\n",
    "train.head(7)"
   ]
  },
  {
   "cell_type": "markdown",
   "id": "0c0e6c0a",
   "metadata": {},
   "source": [
    "## Model Building"
   ]
  },
  {
   "cell_type": "code",
   "execution_count": 38,
   "id": "19bfa8c2",
   "metadata": {},
   "outputs": [],
   "source": [
    "from sklearn.model_selection import train_test_split\n",
    "\n",
    "X = train.drop(['LICENSE_STATUS'], axis = 1)\n",
    "Y = train['LICENSE_STATUS']\n",
    "\n",
    "X_Train, X_Test, Y_Train, Y_Test = train_test_split(X, Y, test_size = 0.25, random_state = 10,stratify=Y)"
   ]
  },
  {
   "cell_type": "markdown",
   "id": "16748b71",
   "metadata": {},
   "source": [
    "### RidgeClassifier"
   ]
  },
  {
   "cell_type": "code",
   "execution_count": 39,
   "id": "48de809b",
   "metadata": {},
   "outputs": [
    {
     "name": "stdout",
     "output_type": "stream",
     "text": [
      "[[ 3762  3788     0     0]\n",
      " [ 2164 11686     0     0]\n",
      " [    1     0     0     0]\n",
      " [   58    15     0     0]]\n",
      "              precision    recall  f1-score   support\n",
      "\n",
      "         AAC       0.63      0.50      0.56      7550\n",
      "         AAI       0.75      0.84      0.80     13850\n",
      "         REA       1.00      0.00      0.00         1\n",
      "         REV       1.00      0.00      0.00        73\n",
      "\n",
      "    accuracy                           0.72     21474\n",
      "   macro avg       0.85      0.34      0.34     21474\n",
      "weighted avg       0.71      0.72      0.71     21474\n",
      "\n"
     ]
    }
   ],
   "source": [
    "from sklearn.linear_model import RidgeClassifier\n",
    "Ridge_classifier = RidgeClassifier(alpha=10,solver='svd').fit(X_Train, Y_Train)\n",
    "predictions =Ridge_classifier.predict(X_Test)\n",
    "print(confusion_matrix(Y_Test,predictions))\n",
    "print(classification_report(Y_Test,predictions,zero_division=1))"
   ]
  },
  {
   "cell_type": "markdown",
   "id": "5e373c67",
   "metadata": {},
   "source": [
    "### RidgeClassifierCV"
   ]
  },
  {
   "cell_type": "code",
   "execution_count": 40,
   "id": "1968647e",
   "metadata": {},
   "outputs": [
    {
     "name": "stdout",
     "output_type": "stream",
     "text": [
      "[[ 3762  3788     0     0]\n",
      " [ 2164 11686     0     0]\n",
      " [    1     0     0     0]\n",
      " [   58    15     0     0]]\n",
      "              precision    recall  f1-score   support\n",
      "\n",
      "         AAC       0.63      0.50      0.56      7550\n",
      "         AAI       0.75      0.84      0.80     13850\n",
      "         REA       1.00      0.00      0.00         1\n",
      "         REV       1.00      0.00      0.00        73\n",
      "\n",
      "    accuracy                           0.72     21474\n",
      "   macro avg       0.85      0.34      0.34     21474\n",
      "weighted avg       0.71      0.72      0.71     21474\n",
      "\n"
     ]
    }
   ],
   "source": [
    "from sklearn.linear_model import RidgeClassifierCV\n",
    "Ridge_cv = RidgeClassifierCV(alphas=[1e-3, 1e-2, 1e-1, 1,10]).fit(X_Train, Y_Train)\n",
    "predictions1 =Ridge_cv.predict(X_Test)\n",
    "print(confusion_matrix(Y_Test,predictions1))\n",
    "print(classification_report(Y_Test,predictions1,zero_division=1))"
   ]
  },
  {
   "cell_type": "markdown",
   "id": "f7b5e2a5",
   "metadata": {},
   "source": [
    "### LogisticRegression"
   ]
  },
  {
   "cell_type": "code",
   "execution_count": 41,
   "id": "3c1a9970",
   "metadata": {},
   "outputs": [
    {
     "name": "stdout",
     "output_type": "stream",
     "text": [
      "[[    0  7541     9     0     0]\n",
      " [    0 13841     9     0     0]\n",
      " [    0     0     0     0     0]\n",
      " [    0     1     0     0     0]\n",
      " [    0    73     0     0     0]]\n",
      "              precision    recall  f1-score   support\n",
      "\n",
      "         AAC       1.00      0.00      0.00      7550\n",
      "         AAI       0.65      1.00      0.78     13850\n",
      "         INQ       0.00      1.00      0.00         0\n",
      "         REA       1.00      0.00      0.00         1\n",
      "         REV       1.00      0.00      0.00        73\n",
      "\n",
      "    accuracy                           0.64     21474\n",
      "   macro avg       0.73      0.40      0.16     21474\n",
      "weighted avg       0.77      0.64      0.51     21474\n",
      "\n"
     ]
    }
   ],
   "source": [
    "from sklearn.linear_model import LogisticRegression\n",
    "trainedmodel = LogisticRegression(penalty='l2',C=1.0,solver='sag').fit(X_Train,Y_Train)\n",
    "predictions6 =trainedmodel.predict(X_Test)\n",
    "print(confusion_matrix(Y_Test,predictions6))\n",
    "print(classification_report(Y_Test,predictions6,zero_division=1))"
   ]
  },
  {
   "cell_type": "markdown",
   "id": "2b085da5",
   "metadata": {},
   "source": [
    "### KNeighborsClassifier"
   ]
  },
  {
   "cell_type": "code",
   "execution_count": 42,
   "id": "b79b7034",
   "metadata": {},
   "outputs": [
    {
     "name": "stdout",
     "output_type": "stream",
     "text": [
      "[[ 3897  3653     0     0]\n",
      " [ 3315 10535     0     0]\n",
      " [    0     1     0     0]\n",
      " [   42    31     0     0]]\n",
      "              precision    recall  f1-score   support\n",
      "\n",
      "         AAC       0.54      0.52      0.53      7550\n",
      "         AAI       0.74      0.76      0.75     13850\n",
      "         REA       1.00      0.00      0.00         1\n",
      "         REV       1.00      0.00      0.00        73\n",
      "\n",
      "    accuracy                           0.67     21474\n",
      "   macro avg       0.82      0.32      0.32     21474\n",
      "weighted avg       0.67      0.67      0.67     21474\n",
      "\n"
     ]
    }
   ],
   "source": [
    "from sklearn.neighbors import KNeighborsClassifier\n",
    "knn = KNeighborsClassifier(n_neighbors = 4,algorithm='auto')\n",
    "knn.fit(X_Train, Y_Train)\n",
    "Y_pred = knn.predict(X_Test)\n",
    "print(confusion_matrix(Y_Test,Y_pred))\n",
    "print(classification_report(Y_Test,Y_pred,zero_division=1))"
   ]
  },
  {
   "cell_type": "markdown",
   "id": "afcd137b",
   "metadata": {},
   "source": [
    "### DecisionTreeClassifier"
   ]
  },
  {
   "cell_type": "code",
   "execution_count": 43,
   "id": "51695c2b",
   "metadata": {},
   "outputs": [
    {
     "name": "stdout",
     "output_type": "stream",
     "text": [
      "[[ 3767  3783     0     0]\n",
      " [ 2168 11682     0     0]\n",
      " [    1     0     0     0]\n",
      " [   58    15     0     0]]\n",
      "              precision    recall  f1-score   support\n",
      "\n",
      "         AAC       0.63      0.50      0.56      7550\n",
      "         AAI       0.75      0.84      0.80     13850\n",
      "         REA       1.00      0.00      0.00         1\n",
      "         REV       1.00      0.00      0.00        73\n",
      "\n",
      "    accuracy                           0.72     21474\n",
      "   macro avg       0.85      0.34      0.34     21474\n",
      "weighted avg       0.71      0.72      0.71     21474\n",
      "\n"
     ]
    }
   ],
   "source": [
    "from sklearn.model_selection import cross_val_score\n",
    "from sklearn.tree import DecisionTreeClassifier\n",
    "DT_clf = DecisionTreeClassifier(random_state=10,max_features=10,max_depth=3)\n",
    "DT_clf.fit(X_Train, Y_Train)\n",
    "predictionDT = DT_clf.predict(X_Test)\n",
    "print(confusion_matrix(Y_Test,predictionDT))\n",
    "print(classification_report(Y_Test,predictionDT,zero_division=1))"
   ]
  },
  {
   "cell_type": "markdown",
   "id": "c4092125",
   "metadata": {},
   "source": [
    "### GradientBoostingClassifier"
   ]
  },
  {
   "cell_type": "code",
   "execution_count": 44,
   "id": "a0fa8029",
   "metadata": {},
   "outputs": [],
   "source": [
    "# from sklearn.ensemble import GradientBoostingClassifier\n",
    "# from sklearn.metrics import classification_report, confusion_matrix, roc_curve, auc\n",
    "# learning_rates = [0.05, 0.1, 0.25,]\n",
    "# for learning_rate in learning_rates:\n",
    "#     gb = GradientBoostingClassifier(n_estimators=900, learning_rate = learning_rate, max_features=10, max_depth = 2, random_state = 10)\n",
    "#     gb.fit(X_Train, Y_Train)\n",
    "#     print(\"Learning rate: \", learning_rate)\n",
    "#     print(\"Accuracy score (training): {0:.3f}\".format(gb.score(X_Train, Y_Train)))\n",
    "#     print(\"Accuracy score (validation): {0:.3f}\".format(gb.score(X_Test, Y_Test)))\n",
    "#     print()"
   ]
  },
  {
   "cell_type": "markdown",
   "id": "de9a13b4",
   "metadata": {},
   "source": [
    "### GradientBoostingClassifier with best learning rate"
   ]
  },
  {
   "cell_type": "code",
   "execution_count": 45,
   "id": "a273c24a",
   "metadata": {},
   "outputs": [
    {
     "name": "stdout",
     "output_type": "stream",
     "text": [
      "[[ 3714  3836     0     0]\n",
      " [ 2071 11779     0     0]\n",
      " [    1     0     0     0]\n",
      " [   58    15     0     0]]\n",
      "              precision    recall  f1-score   support\n",
      "\n",
      "         AAC       0.64      0.49      0.55      7550\n",
      "         AAI       0.75      0.85      0.80     13850\n",
      "         REA       1.00      0.00      0.00         1\n",
      "         REV       1.00      0.00      0.00        73\n",
      "\n",
      "    accuracy                           0.72     21474\n",
      "   macro avg       0.85      0.34      0.34     21474\n",
      "weighted avg       0.71      0.72      0.71     21474\n",
      "\n"
     ]
    }
   ],
   "source": [
    "from sklearn.ensemble import GradientBoostingClassifier\n",
    "from sklearn.metrics import classification_report, confusion_matrix, roc_curve, auc\n",
    "learning_rates = 0.05\n",
    "gb = GradientBoostingClassifier(n_estimators=900, learning_rate = learning_rates, max_features=10, max_depth = 2, random_state = 10)\n",
    "gb.fit(X_Train, Y_Train)\n",
    "predictiongb = gb.predict(X_Test)\n",
    "print(confusion_matrix(Y_Test,predictiongb))\n",
    "print(classification_report(Y_Test,predictiongb,zero_division=1))"
   ]
  },
  {
   "cell_type": "markdown",
   "id": "f941204c",
   "metadata": {},
   "source": [
    "### BaggingClassifier"
   ]
  },
  {
   "cell_type": "code",
   "execution_count": 46,
   "id": "f3b95cda",
   "metadata": {},
   "outputs": [
    {
     "name": "stdout",
     "output_type": "stream",
     "text": [
      "[[  562  6988     0     0]\n",
      " [  254 13596     0     0]\n",
      " [    1     0     0     0]\n",
      " [    8    65     0     0]]\n",
      "              precision    recall  f1-score   support\n",
      "\n",
      "         AAC       0.68      0.07      0.13      7550\n",
      "         AAI       0.66      0.98      0.79     13850\n",
      "         REA       1.00      0.00      0.00         1\n",
      "         REV       1.00      0.00      0.00        73\n",
      "\n",
      "    accuracy                           0.66     21474\n",
      "   macro avg       0.83      0.26      0.23     21474\n",
      "weighted avg       0.67      0.66      0.56     21474\n",
      "\n"
     ]
    }
   ],
   "source": [
    "from sklearn.ensemble import BaggingClassifier\n",
    "from sklearn.neighbors import KNeighborsClassifier\n",
    "bagging = BaggingClassifier(KNeighborsClassifier(n_neighbors = 4,algorithm='auto'),max_samples=0.5, max_features=0.5,random_state=10).fit(X_Train, Y_Train)\n",
    "prediction_bag = bagging.predict(X_Test)\n",
    "print(confusion_matrix(Y_Test,prediction_bag))\n",
    "print(classification_report(Y_Test,prediction_bag,zero_division=1))"
   ]
  },
  {
   "cell_type": "markdown",
   "id": "cb6cd7aa",
   "metadata": {},
   "source": [
    "### RandomForestClassifier"
   ]
  },
  {
   "cell_type": "code",
   "execution_count": 47,
   "id": "ade581b5",
   "metadata": {},
   "outputs": [
    {
     "name": "stdout",
     "output_type": "stream",
     "text": [
      "[[ 3735  3815     0     0]\n",
      " [ 2089 11761     0     0]\n",
      " [    1     0     0     0]\n",
      " [   56    17     0     0]]\n",
      "              precision    recall  f1-score   support\n",
      "\n",
      "         AAC       0.64      0.49      0.56      7550\n",
      "         AAI       0.75      0.85      0.80     13850\n",
      "         REA       1.00      0.00      0.00         1\n",
      "         REV       1.00      0.00      0.00        73\n",
      "\n",
      "    accuracy                           0.72     21474\n",
      "   macro avg       0.85      0.34      0.34     21474\n",
      "weighted avg       0.71      0.72      0.71     21474\n",
      "\n"
     ]
    }
   ],
   "source": [
    "from sklearn.ensemble import RandomForestClassifier\n",
    "trainedforest = RandomForestClassifier(n_estimators=800,random_state=42,max_features=0.8,max_depth=10).fit(X_Train,Y_Train)\n",
    "predictionforest = trainedforest.predict(X_Test)\n",
    "print(confusion_matrix(Y_Test,predictionforest))\n",
    "print(classification_report(Y_Test,predictionforest,zero_division=1))"
   ]
  },
  {
   "cell_type": "markdown",
   "id": "a19d68dc",
   "metadata": {},
   "source": [
    "### AdaBoostClassifier"
   ]
  },
  {
   "cell_type": "code",
   "execution_count": 48,
   "id": "6774484f",
   "metadata": {},
   "outputs": [
    {
     "name": "stdout",
     "output_type": "stream",
     "text": [
      "[[ 3735  3815     0     0]\n",
      " [ 2089 11761     0     0]\n",
      " [    1     0     0     0]\n",
      " [   56    17     0     0]]\n",
      "              precision    recall  f1-score   support\n",
      "\n",
      "         AAC       0.64      0.49      0.56      7550\n",
      "         AAI       0.75      0.85      0.80     13850\n",
      "         REA       1.00      0.00      0.00         1\n",
      "         REV       1.00      0.00      0.00        73\n",
      "\n",
      "    accuracy                           0.72     21474\n",
      "   macro avg       0.85      0.34      0.34     21474\n",
      "weighted avg       0.71      0.72      0.71     21474\n",
      "\n"
     ]
    }
   ],
   "source": [
    "from sklearn.ensemble import AdaBoostClassifier\n",
    "clf_ada = AdaBoostClassifier(n_estimators=900, random_state=0)\n",
    "clf_ada.fit(X_Train,Y_Train)\n",
    "prediction_ada = trainedforest.predict(X_Test)\n",
    "print(confusion_matrix(Y_Test,prediction_ada))\n",
    "print(classification_report(Y_Test,prediction_ada,zero_division=1))"
   ]
  },
  {
   "cell_type": "markdown",
   "id": "797492ed",
   "metadata": {},
   "source": [
    "### xgboost"
   ]
  },
  {
   "cell_type": "code",
   "execution_count": 49,
   "id": "a64e4d89",
   "metadata": {},
   "outputs": [
    {
     "name": "stdout",
     "output_type": "stream",
     "text": [
      "[20:00:47] WARNING: ..\\src\\learner.cc:1061: Starting in XGBoost 1.3.0, the default evaluation metric used with the objective 'multi:softprob' was changed from 'merror' to 'mlogloss'. Explicitly set eval_metric if you'd like to restore the old behavior.\n",
      "[[ 3686  3864     0     0]\n",
      " [ 2078 11772     0     0]\n",
      " [    1     0     0     0]\n",
      " [   54    19     0     0]]\n",
      "              precision    recall  f1-score   support\n",
      "\n",
      "         AAC       0.63      0.49      0.55      7550\n",
      "         AAI       0.75      0.85      0.80     13850\n",
      "         REA       1.00      0.00      0.00         1\n",
      "         REV       1.00      0.00      0.00        73\n",
      "\n",
      "    accuracy                           0.72     21474\n",
      "   macro avg       0.85      0.33      0.34     21474\n",
      "weighted avg       0.71      0.72      0.71     21474\n",
      "\n"
     ]
    }
   ],
   "source": [
    "import xgboost\n",
    "classifier_xgb=xgboost.XGBClassifier(n_estimators=900)\n",
    "classifier_xgb.fit(X_Train, Y_Train)\n",
    "prediction_xg0 = classifier_xgb.predict(X_Test)\n",
    "print(confusion_matrix(Y_Test,prediction_xg0))\n",
    "print(classification_report(Y_Test,prediction_xg0,zero_division=1))\n"
   ]
  },
  {
   "cell_type": "code",
   "execution_count": null,
   "id": "d13b309c",
   "metadata": {},
   "outputs": [],
   "source": []
  },
  {
   "cell_type": "code",
   "execution_count": 52,
   "id": "c6eb2fd5",
   "metadata": {},
   "outputs": [],
   "source": [
    "predictions_Final =classifier_xgb.predict(test)\n",
    "submission = pd.DataFrame({\n",
    "        \"ID\": df_test[\"ID\"],\n",
    "        \"LICENSE STATUS\": predictions_Final\n",
    "    })\n",
    "submission.to_csv('submissions.csv', index=False)"
   ]
  },
  {
   "cell_type": "code",
   "execution_count": null,
   "id": "747444a0",
   "metadata": {},
   "outputs": [],
   "source": []
  }
 ],
 "metadata": {
  "kernelspec": {
   "display_name": "Python 3 (ipykernel)",
   "language": "python",
   "name": "python3"
  },
  "language_info": {
   "codemirror_mode": {
    "name": "ipython",
    "version": 3
   },
   "file_extension": ".py",
   "mimetype": "text/x-python",
   "name": "python",
   "nbconvert_exporter": "python",
   "pygments_lexer": "ipython3",
   "version": "3.8.12"
  }
 },
 "nbformat": 4,
 "nbformat_minor": 5
}
