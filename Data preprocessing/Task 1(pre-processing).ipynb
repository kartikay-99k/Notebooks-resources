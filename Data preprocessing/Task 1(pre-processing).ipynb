{
 "cells": [
  {
   "cell_type": "code",
   "execution_count": 1,
   "metadata": {},
   "outputs": [],
   "source": [
    "import numpy as np \n",
    "import pandas as pd \n",
    "import seaborn as sns\n",
    "import matplotlib.pyplot as plt  \n",
    "from sklearn.preprocessing import LabelEncoder\n",
    "from sklearn.metrics import classification_report,confusion_matrix"
   ]
  },
  {
   "cell_type": "code",
   "execution_count": 2,
   "metadata": {},
   "outputs": [],
   "source": [
    "import warnings\n",
    "warnings.filterwarnings('ignore')\n",
    "\n",
    "train_dir='E:/flipr/Train_dataset.xlsx'\n",
    "test_dir='E:/flipr/Test_dataset.xlsx'\n",
    "\n",
    "df = pd.read_excel(train_dir)\n",
    "df_test= pd.read_excel(test_dir)"
   ]
  },
  {
   "cell_type": "markdown",
   "metadata": {},
   "source": [
    "# General overview"
   ]
  },
  {
   "cell_type": "code",
   "execution_count": 3,
   "metadata": {},
   "outputs": [
    {
     "name": "stdout",
     "output_type": "stream",
     "text": [
      "<class 'pandas.core.frame.DataFrame'>\n",
      "RangeIndex: 787 entries, 0 to 786\n",
      "Data columns (total 16 columns):\n",
      " #   Column             Non-Null Count  Dtype  \n",
      "---  ------             --------------  -----  \n",
      " 0   City               787 non-null    object \n",
      " 1   State              787 non-null    object \n",
      " 2   Type               787 non-null    object \n",
      " 3   Population_2011    739 non-null    float64\n",
      " 4   Population_2001    295 non-null    float64\n",
      " 5   Sex Ratio          777 non-null    float64\n",
      " 6   Median Age         769 non-null    float64\n",
      " 7   Avg Temp           770 non-null    float64\n",
      " 8   SWM                787 non-null    object \n",
      " 9   Toilets Avl        761 non-null    float64\n",
      " 10  Water Purity       629 non-null    float64\n",
      " 11  H Index            647 non-null    float64\n",
      " 12  Female Population  646 non-null    float64\n",
      " 13  hospitals          772 non-null    float64\n",
      " 14  Foreign Visitors   697 non-null    float64\n",
      " 15  Covid Cases        787 non-null    int64  \n",
      "dtypes: float64(11), int64(1), object(4)\n",
      "memory usage: 98.5+ KB\n"
     ]
    }
   ],
   "source": [
    "df.info()"
   ]
  },
  {
   "cell_type": "code",
   "execution_count": 4,
   "metadata": {},
   "outputs": [
    {
     "data": {
      "text/plain": [
       "<matplotlib.axes._subplots.AxesSubplot at 0x16e9a7f3608>"
      ]
     },
     "execution_count": 4,
     "metadata": {},
     "output_type": "execute_result"
    },
    {
     "data": {
      "image/png": "[encoded data removed]",
      "text/plain": [
       "<Figure size 432x288 with 2 Axes>"
      ]
     },
     "metadata": {
      "needs_background": "light"
     },
     "output_type": "display_data"
    }
   ],
   "source": [
    "import seaborn as sns\n",
    "import matplotlib.pyplot as plt\n",
    "\n",
    "import seaborn as sns\n",
    "\n",
    "corr=df.corr()\n",
    "sns.heatmap(corr, xticklabels=corr.columns.values, yticklabels=corr.columns.values)"
   ]
  },
  {
   "cell_type": "markdown",
   "metadata": {},
   "source": [
    "# Checking missing values"
   ]
  },
  {
   "cell_type": "code",
   "execution_count": 5,
   "metadata": {},
   "outputs": [
    {
     "data": {
      "text/plain": [
       "City                   0\n",
       "State                  0\n",
       "Type                   0\n",
       "Population_2011       48\n",
       "Population_2001      492\n",
       "Sex Ratio             10\n",
       "Median Age            18\n",
       "Avg Temp              17\n",
       "SWM                    0\n",
       "Toilets Avl           26\n",
       "Water Purity         158\n",
       "H Index              140\n",
       "Female Population    141\n",
       "hospitals             15\n",
       "Foreign Visitors      90\n",
       "Covid Cases            0\n",
       "dtype: int64"
      ]
     },
     "execution_count": 5,
     "metadata": {},
     "output_type": "execute_result"
    }
   ],
   "source": [
    "df.isnull().sum()"
   ]
  },
  {
   "cell_type": "code",
   "execution_count": 6,
   "metadata": {},
   "outputs": [
    {
     "data": {
      "text/plain": [
       "City                   0\n",
       "State                  0\n",
       "Type                   2\n",
       "Population_2011        6\n",
       "Popuation_2001       501\n",
       "Sex Ratio              5\n",
       "Median Age            13\n",
       "Avg Temp              14\n",
       "SWM                    0\n",
       "Toilets Avl           22\n",
       "Water Purity          19\n",
       "H Index               15\n",
       "Female Population     15\n",
       "hospitals             17\n",
       "Foreign Visitors      17\n",
       "dtype: int64"
      ]
     },
     "execution_count": 6,
     "metadata": {},
     "output_type": "execute_result"
    }
   ],
   "source": [
    "df_test.isnull().sum()"
   ]
  },
  {
   "cell_type": "code",
   "execution_count": 7,
   "metadata": {},
   "outputs": [
    {
     "name": "stdout",
     "output_type": "stream",
     "text": [
      "787\n",
      "501\n"
     ]
    }
   ],
   "source": [
    "print(len(df))\n",
    "print(len(df_test))"
   ]
  },
  {
   "cell_type": "code",
   "execution_count": 8,
   "metadata": {},
   "outputs": [
    {
     "name": "stdout",
     "output_type": "stream",
     "text": [
      "772\n",
      "33\n",
      "37\n",
      "3\n"
     ]
    }
   ],
   "source": [
    "print(len(df.City.unique()))\n",
    "print(len(df.State.unique()))\n",
    "print(len(df.Type.unique()))\n",
    "print(len(df.SWM.unique()))   "
   ]
  },
  {
   "cell_type": "code",
   "execution_count": 9,
   "metadata": {},
   "outputs": [
    {
     "data": {
      "text/html": [
       "<div>\n",
       "<style scoped>\n",
       "    .dataframe tbody tr th:only-of-type {\n",
       "        vertical-align: middle;\n",
       "    }\n",
       "\n",
       "    .dataframe tbody tr th {\n",
       "        vertical-align: top;\n",
       "    }\n",
       "\n",
       "    .dataframe thead th {\n",
       "        text-align: right;\n",
       "    }\n",
       "</style>\n",
       "<table border=\"1\" class=\"dataframe\">\n",
       "  <thead>\n",
       "    <tr style=\"text-align: right;\">\n",
       "      <th></th>\n",
       "      <th>City</th>\n",
       "      <th>State</th>\n",
       "      <th>Type</th>\n",
       "      <th>Population_2011</th>\n",
       "      <th>Popuation_2001</th>\n",
       "      <th>Sex Ratio</th>\n",
       "      <th>Median Age</th>\n",
       "      <th>Avg Temp</th>\n",
       "      <th>SWM</th>\n",
       "      <th>Toilets Avl</th>\n",
       "      <th>Water Purity</th>\n",
       "      <th>H Index</th>\n",
       "      <th>Female Population</th>\n",
       "      <th>hospitals</th>\n",
       "      <th>Foreign Visitors</th>\n",
       "    </tr>\n",
       "  </thead>\n",
       "  <tbody>\n",
       "    <tr>\n",
       "      <th>0</th>\n",
       "      <td>Tuensang</td>\n",
       "      <td>Nagaland</td>\n",
       "      <td>T.C</td>\n",
       "      <td>36774.0</td>\n",
       "      <td>NaN</td>\n",
       "      <td>931.0</td>\n",
       "      <td>23.0</td>\n",
       "      <td>10.0</td>\n",
       "      <td>MEDIUM</td>\n",
       "      <td>94.0</td>\n",
       "      <td>114.0</td>\n",
       "      <td>0.253390</td>\n",
       "      <td>34237.0</td>\n",
       "      <td>17.0</td>\n",
       "      <td>2769.0</td>\n",
       "    </tr>\n",
       "    <tr>\n",
       "      <th>1</th>\n",
       "      <td>Lakshmeshwar</td>\n",
       "      <td>Karnataka</td>\n",
       "      <td>T.M.C</td>\n",
       "      <td>36754.0</td>\n",
       "      <td>NaN</td>\n",
       "      <td>934.0</td>\n",
       "      <td>25.0</td>\n",
       "      <td>38.0</td>\n",
       "      <td>HIGH</td>\n",
       "      <td>62.0</td>\n",
       "      <td>160.0</td>\n",
       "      <td>0.192555</td>\n",
       "      <td>34328.0</td>\n",
       "      <td>13.0</td>\n",
       "      <td>636502.0</td>\n",
       "    </tr>\n",
       "    <tr>\n",
       "      <th>2</th>\n",
       "      <td>Zira</td>\n",
       "      <td>Punjab</td>\n",
       "      <td>M.Cl.</td>\n",
       "      <td>36732.0</td>\n",
       "      <td>NaN</td>\n",
       "      <td>883.0</td>\n",
       "      <td>29.0</td>\n",
       "      <td>35.0</td>\n",
       "      <td>HIGH</td>\n",
       "      <td>63.0</td>\n",
       "      <td>105.0</td>\n",
       "      <td>0.887882</td>\n",
       "      <td>32434.0</td>\n",
       "      <td>17.0</td>\n",
       "      <td>242367.0</td>\n",
       "    </tr>\n",
       "    <tr>\n",
       "      <th>3</th>\n",
       "      <td>Yawal</td>\n",
       "      <td>Maharashtra</td>\n",
       "      <td>M.Cl</td>\n",
       "      <td>36706.0</td>\n",
       "      <td>NaN</td>\n",
       "      <td>887.0</td>\n",
       "      <td>26.0</td>\n",
       "      <td>31.0</td>\n",
       "      <td>HIGH</td>\n",
       "      <td>60.0</td>\n",
       "      <td>174.0</td>\n",
       "      <td>0.407838</td>\n",
       "      <td>32558.0</td>\n",
       "      <td>11.0</td>\n",
       "      <td>4408916.0</td>\n",
       "    </tr>\n",
       "    <tr>\n",
       "      <th>4</th>\n",
       "      <td>Thana Bhawan</td>\n",
       "      <td>Uttar Pradesh</td>\n",
       "      <td>N.P.</td>\n",
       "      <td>36669.0</td>\n",
       "      <td>NaN</td>\n",
       "      <td>877.0</td>\n",
       "      <td>28.0</td>\n",
       "      <td>39.0</td>\n",
       "      <td>LOW</td>\n",
       "      <td>92.0</td>\n",
       "      <td>153.0</td>\n",
       "      <td>0.324456</td>\n",
       "      <td>32159.0</td>\n",
       "      <td>23.0</td>\n",
       "      <td>3104060.0</td>\n",
       "    </tr>\n",
       "    <tr>\n",
       "      <th>...</th>\n",
       "      <td>...</td>\n",
       "      <td>...</td>\n",
       "      <td>...</td>\n",
       "      <td>...</td>\n",
       "      <td>...</td>\n",
       "      <td>...</td>\n",
       "      <td>...</td>\n",
       "      <td>...</td>\n",
       "      <td>...</td>\n",
       "      <td>...</td>\n",
       "      <td>...</td>\n",
       "      <td>...</td>\n",
       "      <td>...</td>\n",
       "      <td>...</td>\n",
       "      <td>...</td>\n",
       "    </tr>\n",
       "    <tr>\n",
       "      <th>496</th>\n",
       "      <td>Nandaprayag</td>\n",
       "      <td>Uttarakhand</td>\n",
       "      <td>N.P</td>\n",
       "      <td>1641.0</td>\n",
       "      <td>NaN</td>\n",
       "      <td>848.0</td>\n",
       "      <td>27.0</td>\n",
       "      <td>7.0</td>\n",
       "      <td>MEDIUM</td>\n",
       "      <td>12.0</td>\n",
       "      <td>181.0</td>\n",
       "      <td>0.316926</td>\n",
       "      <td>1392.0</td>\n",
       "      <td>4.0</td>\n",
       "      <td>105882.0</td>\n",
       "    </tr>\n",
       "    <tr>\n",
       "      <th>497</th>\n",
       "      <td>Kirtinagar</td>\n",
       "      <td>Uttarakhand</td>\n",
       "      <td>N.P</td>\n",
       "      <td>1517.0</td>\n",
       "      <td>NaN</td>\n",
       "      <td>852.0</td>\n",
       "      <td>28.0</td>\n",
       "      <td>12.0</td>\n",
       "      <td>HIGH</td>\n",
       "      <td>16.0</td>\n",
       "      <td>198.0</td>\n",
       "      <td>0.336852</td>\n",
       "      <td>1292.0</td>\n",
       "      <td>6.0</td>\n",
       "      <td>105882.0</td>\n",
       "    </tr>\n",
       "    <tr>\n",
       "      <th>498</th>\n",
       "      <td>Kedarnath</td>\n",
       "      <td>Uttarakhand</td>\n",
       "      <td>N.P</td>\n",
       "      <td>612.0</td>\n",
       "      <td>NaN</td>\n",
       "      <td>853.0</td>\n",
       "      <td>24.0</td>\n",
       "      <td>9.0</td>\n",
       "      <td>LOW</td>\n",
       "      <td>19.0</td>\n",
       "      <td>189.0</td>\n",
       "      <td>0.723253</td>\n",
       "      <td>522.0</td>\n",
       "      <td>6.0</td>\n",
       "      <td>105882.0</td>\n",
       "    </tr>\n",
       "    <tr>\n",
       "      <th>499</th>\n",
       "      <td>Gangotri</td>\n",
       "      <td>Uttarakhand</td>\n",
       "      <td>N.P</td>\n",
       "      <td>110.0</td>\n",
       "      <td>NaN</td>\n",
       "      <td>852.0</td>\n",
       "      <td>27.0</td>\n",
       "      <td>8.0</td>\n",
       "      <td>MEDIUM</td>\n",
       "      <td>18.0</td>\n",
       "      <td>170.0</td>\n",
       "      <td>0.421061</td>\n",
       "      <td>94.0</td>\n",
       "      <td>8.0</td>\n",
       "      <td>105882.0</td>\n",
       "    </tr>\n",
       "    <tr>\n",
       "      <th>500</th>\n",
       "      <td>Kumarganj</td>\n",
       "      <td>Uttar Pradesh</td>\n",
       "      <td>C.T</td>\n",
       "      <td>NaN</td>\n",
       "      <td>NaN</td>\n",
       "      <td>863.0</td>\n",
       "      <td>24.0</td>\n",
       "      <td>35.0</td>\n",
       "      <td>HIGH</td>\n",
       "      <td>19.0</td>\n",
       "      <td>149.0</td>\n",
       "      <td>0.154375</td>\n",
       "      <td>0.0</td>\n",
       "      <td>6.0</td>\n",
       "      <td>3104060.0</td>\n",
       "    </tr>\n",
       "  </tbody>\n",
       "</table>\n",
       "<p>501 rows × 15 columns</p>\n",
       "</div>"
      ],
      "text/plain": [
       "             City          State   Type  Population_2011  Popuation_2001  \\\n",
       "0        Tuensang       Nagaland    T.C          36774.0             NaN   \n",
       "1    Lakshmeshwar      Karnataka  T.M.C          36754.0             NaN   \n",
       "2            Zira         Punjab  M.Cl.          36732.0             NaN   \n",
       "3           Yawal    Maharashtra   M.Cl          36706.0             NaN   \n",
       "4    Thana Bhawan  Uttar Pradesh   N.P.          36669.0             NaN   \n",
       "..            ...            ...    ...              ...             ...   \n",
       "496   Nandaprayag    Uttarakhand    N.P           1641.0             NaN   \n",
       "497    Kirtinagar    Uttarakhand    N.P           1517.0             NaN   \n",
       "498     Kedarnath    Uttarakhand    N.P            612.0             NaN   \n",
       "499      Gangotri    Uttarakhand    N.P            110.0             NaN   \n",
       "500     Kumarganj  Uttar Pradesh    C.T              NaN             NaN   \n",
       "\n",
       "     Sex Ratio  Median Age  Avg Temp     SWM  Toilets Avl  Water Purity  \\\n",
       "0        931.0        23.0      10.0  MEDIUM         94.0         114.0   \n",
       "1        934.0        25.0      38.0    HIGH         62.0         160.0   \n",
       "2        883.0        29.0      35.0    HIGH         63.0         105.0   \n",
       "3        887.0        26.0      31.0    HIGH         60.0         174.0   \n",
       "4        877.0        28.0      39.0     LOW         92.0         153.0   \n",
       "..         ...         ...       ...     ...          ...           ...   \n",
       "496      848.0        27.0       7.0  MEDIUM         12.0         181.0   \n",
       "497      852.0        28.0      12.0    HIGH         16.0         198.0   \n",
       "498      853.0        24.0       9.0     LOW         19.0         189.0   \n",
       "499      852.0        27.0       8.0  MEDIUM         18.0         170.0   \n",
       "500      863.0        24.0      35.0    HIGH         19.0         149.0   \n",
       "\n",
       "      H Index  Female Population  hospitals  Foreign Visitors  \n",
       "0    0.253390            34237.0       17.0            2769.0  \n",
       "1    0.192555            34328.0       13.0          636502.0  \n",
       "2    0.887882            32434.0       17.0          242367.0  \n",
       "3    0.407838            32558.0       11.0         4408916.0  \n",
       "4    0.324456            32159.0       23.0         3104060.0  \n",
       "..        ...                ...        ...               ...  \n",
       "496  0.316926             1392.0        4.0          105882.0  \n",
       "497  0.336852             1292.0        6.0          105882.0  \n",
       "498  0.723253              522.0        6.0          105882.0  \n",
       "499  0.421061               94.0        8.0          105882.0  \n",
       "500  0.154375                0.0        6.0         3104060.0  \n",
       "\n",
       "[501 rows x 15 columns]"
      ]
     },
     "execution_count": 9,
     "metadata": {},
     "output_type": "execute_result"
    }
   ],
   "source": [
    "df_test"
   ]
  },
  {
   "cell_type": "markdown",
   "metadata": {},
   "source": [
    "# Now dealing with each feautre individually"
   ]
  },
  {
   "cell_type": "markdown",
   "metadata": {},
   "source": [
    "### Removing obvious unecessary features which are not required in prediction"
   ]
  },
  {
   "cell_type": "code",
   "execution_count": 10,
   "metadata": {},
   "outputs": [],
   "source": [
    "df=df.drop(['City','State','Population_2001','Type'], axis=1)\n",
    "df_test=df_test.drop(['City','State','Popuation_2001','Type'], axis=1)"
   ]
  },
  {
   "cell_type": "markdown",
   "metadata": {},
   "source": [
    "### 1.Sex Ratio"
   ]
  },
  {
   "cell_type": "code",
   "execution_count": 11,
   "metadata": {},
   "outputs": [
    {
     "data": {
      "text/plain": [
       "<matplotlib.axes._subplots.AxesSubplot at 0x16e9b0bfec8>"
      ]
     },
     "execution_count": 11,
     "metadata": {},
     "output_type": "execute_result"
    },
    {
     "data": {
      "image/png": "[encoded data removed]",
      "text/plain": [
       "<Figure size 432x288 with 1 Axes>"
      ]
     },
     "metadata": {
      "needs_background": "light"
     },
     "output_type": "display_data"
    }
   ],
   "source": [
    "# data distribution\n",
    "df['Sex Ratio'].hist(bins=50)"
   ]
  },
  {
   "cell_type": "code",
   "execution_count": 12,
   "metadata": {},
   "outputs": [
    {
     "data": {
      "text/plain": [
       "0"
      ]
     },
     "execution_count": 12,
     "metadata": {},
     "output_type": "execute_result"
    }
   ],
   "source": [
    "# filling missing values with mean\n",
    "mean_sr= df['Sex Ratio'].mean()\n",
    "df['Sex Ratio'].fillna(mean_sr,inplace=True)\n",
    "df_test['Sex Ratio'].fillna(mean_sr,inplace=True)\n",
    "df['Sex Ratio'].isnull().sum()"
   ]
  },
  {
   "cell_type": "code",
   "execution_count": 13,
   "metadata": {},
   "outputs": [
    {
     "data": {
      "text/plain": [
       "0      0.878\n",
       "1      0.858\n",
       "2      0.936\n",
       "3      0.930\n",
       "4      0.852\n",
       "       ...  \n",
       "782    0.846\n",
       "783    0.945\n",
       "784    1.019\n",
       "785    0.900\n",
       "786    0.889\n",
       "Name: Sex Ratio, Length: 787, dtype: float64"
      ]
     },
     "execution_count": 13,
     "metadata": {},
     "output_type": "execute_result"
    }
   ],
   "source": [
    "# Dividing data points by 1000 to convert them in ratio\n",
    "df['Sex Ratio']=df['Sex Ratio'].astype('int64')/1000\n",
    "df_test['Sex Ratio']=df_test['Sex Ratio'].astype('int64')/1000\n",
    "df['Sex Ratio']"
   ]
  },
  {
   "cell_type": "markdown",
   "metadata": {},
   "source": [
    "### 2.SWM"
   ]
  },
  {
   "cell_type": "code",
   "execution_count": 14,
   "metadata": {},
   "outputs": [
    {
     "data": {
      "text/plain": [
       "<matplotlib.axes._subplots.AxesSubplot at 0x16e9b1d3588>"
      ]
     },
     "execution_count": 14,
     "metadata": {},
     "output_type": "execute_result"
    },
    {
     "data": {
      "image/png": "[encoded data removed]",
      "text/plain": [
       "<Figure size 432x288 with 1 Axes>"
      ]
     },
     "metadata": {
      "needs_background": "light"
     },
     "output_type": "display_data"
    }
   ],
   "source": [
    "# # data distribution\n",
    "df['SWM'].value_counts().plot.bar()"
   ]
  },
  {
   "cell_type": "code",
   "execution_count": 15,
   "metadata": {},
   "outputs": [
    {
     "data": {
      "text/plain": [
       "0"
      ]
     },
     "execution_count": 15,
     "metadata": {},
     "output_type": "execute_result"
    }
   ],
   "source": [
    "# filling missing values with mode\n",
    "mode_swm=df['SWM'].mode()\n",
    "df['SWM'].fillna(mode_swm,inplace=True)\n",
    "df_test['SWM'].fillna(mode_swm,inplace=True)\n",
    "df['SWM'].isnull().sum()"
   ]
  },
  {
   "cell_type": "code",
   "execution_count": 16,
   "metadata": {},
   "outputs": [],
   "source": [
    "# Dealing with categorical values ... encoding them\n",
    "dummies_train  = pd.get_dummies(df['SWM'])\n",
    "dummies_train.drop(['MEDIUM'],axis=1,inplace=True)\n",
    "\n",
    "dummies_test  = pd.get_dummies(df_test['SWM'])\n",
    "dummies_test.drop(['MEDIUM'],axis=1,inplace=True)\n",
    "\n",
    "df = df.join(dummies_train)\n",
    "df_test = df_test.join(dummies_test)\n",
    "\n",
    "df_test.drop(['SWM'],axis=1,inplace=True)\n",
    "df.drop(['SWM'],axis=1,inplace=True)"
   ]
  },
  {
   "cell_type": "code",
   "execution_count": 17,
   "metadata": {},
   "outputs": [
    {
     "data": {
      "text/html": [
       "<div>\n",
       "<style scoped>\n",
       "    .dataframe tbody tr th:only-of-type {\n",
       "        vertical-align: middle;\n",
       "    }\n",
       "\n",
       "    .dataframe tbody tr th {\n",
       "        vertical-align: top;\n",
       "    }\n",
       "\n",
       "    .dataframe thead th {\n",
       "        text-align: right;\n",
       "    }\n",
       "</style>\n",
       "<table border=\"1\" class=\"dataframe\">\n",
       "  <thead>\n",
       "    <tr style=\"text-align: right;\">\n",
       "      <th></th>\n",
       "      <th>Population_2011</th>\n",
       "      <th>Sex Ratio</th>\n",
       "      <th>Median Age</th>\n",
       "      <th>Avg Temp</th>\n",
       "      <th>Toilets Avl</th>\n",
       "      <th>Water Purity</th>\n",
       "      <th>H Index</th>\n",
       "      <th>Female Population</th>\n",
       "      <th>hospitals</th>\n",
       "      <th>Foreign Visitors</th>\n",
       "      <th>Covid Cases</th>\n",
       "      <th>HIGH</th>\n",
       "      <th>LOW</th>\n",
       "    </tr>\n",
       "  </thead>\n",
       "  <tbody>\n",
       "    <tr>\n",
       "      <th>0</th>\n",
       "      <td>12442373.0</td>\n",
       "      <td>0.878</td>\n",
       "      <td>23.0</td>\n",
       "      <td>32.0</td>\n",
       "      <td>219.0</td>\n",
       "      <td>150.0</td>\n",
       "      <td>0.700440</td>\n",
       "      <td>10924403.0</td>\n",
       "      <td>159.0</td>\n",
       "      <td>4408916.0</td>\n",
       "      <td>163115</td>\n",
       "      <td>0</td>\n",
       "      <td>0</td>\n",
       "    </tr>\n",
       "    <tr>\n",
       "      <th>1</th>\n",
       "      <td>11007835.0</td>\n",
       "      <td>0.858</td>\n",
       "      <td>27.0</td>\n",
       "      <td>30.0</td>\n",
       "      <td>215.0</td>\n",
       "      <td>196.0</td>\n",
       "      <td>0.920018</td>\n",
       "      <td>9444722.0</td>\n",
       "      <td>148.0</td>\n",
       "      <td>2379169.0</td>\n",
       "      <td>80188</td>\n",
       "      <td>0</td>\n",
       "      <td>0</td>\n",
       "    </tr>\n",
       "    <tr>\n",
       "      <th>2</th>\n",
       "      <td>8436675.0</td>\n",
       "      <td>0.936</td>\n",
       "      <td>28.0</td>\n",
       "      <td>37.0</td>\n",
       "      <td>212.0</td>\n",
       "      <td>102.0</td>\n",
       "      <td>0.097085</td>\n",
       "      <td>7896728.0</td>\n",
       "      <td>123.0</td>\n",
       "      <td>636502.0</td>\n",
       "      <td>141000</td>\n",
       "      <td>1</td>\n",
       "      <td>0</td>\n",
       "    </tr>\n",
       "    <tr>\n",
       "      <th>3</th>\n",
       "      <td>6809970.0</td>\n",
       "      <td>0.930</td>\n",
       "      <td>23.0</td>\n",
       "      <td>31.0</td>\n",
       "      <td>217.0</td>\n",
       "      <td>118.0</td>\n",
       "      <td>0.827744</td>\n",
       "      <td>6333272.0</td>\n",
       "      <td>110.0</td>\n",
       "      <td>126078.0</td>\n",
       "      <td>55123</td>\n",
       "      <td>0</td>\n",
       "      <td>0</td>\n",
       "    </tr>\n",
       "    <tr>\n",
       "      <th>4</th>\n",
       "      <td>5570585.0</td>\n",
       "      <td>0.852</td>\n",
       "      <td>29.0</td>\n",
       "      <td>25.0</td>\n",
       "      <td>227.0</td>\n",
       "      <td>109.0</td>\n",
       "      <td>0.847941</td>\n",
       "      <td>4746138.0</td>\n",
       "      <td>73.0</td>\n",
       "      <td>284973.0</td>\n",
       "      <td>33204</td>\n",
       "      <td>0</td>\n",
       "      <td>1</td>\n",
       "    </tr>\n",
       "    <tr>\n",
       "      <th>...</th>\n",
       "      <td>...</td>\n",
       "      <td>...</td>\n",
       "      <td>...</td>\n",
       "      <td>...</td>\n",
       "      <td>...</td>\n",
       "      <td>...</td>\n",
       "      <td>...</td>\n",
       "      <td>...</td>\n",
       "      <td>...</td>\n",
       "      <td>...</td>\n",
       "      <td>...</td>\n",
       "      <td>...</td>\n",
       "      <td>...</td>\n",
       "    </tr>\n",
       "    <tr>\n",
       "      <th>782</th>\n",
       "      <td>36954.0</td>\n",
       "      <td>0.846</td>\n",
       "      <td>23.0</td>\n",
       "      <td>28.0</td>\n",
       "      <td>68.0</td>\n",
       "      <td>103.0</td>\n",
       "      <td>0.035280</td>\n",
       "      <td>31263.0</td>\n",
       "      <td>19.0</td>\n",
       "      <td>284973.0</td>\n",
       "      <td>1944</td>\n",
       "      <td>0</td>\n",
       "      <td>0</td>\n",
       "    </tr>\n",
       "    <tr>\n",
       "      <th>783</th>\n",
       "      <td>36947.0</td>\n",
       "      <td>0.945</td>\n",
       "      <td>23.0</td>\n",
       "      <td>36.0</td>\n",
       "      <td>62.0</td>\n",
       "      <td>136.0</td>\n",
       "      <td>0.056394</td>\n",
       "      <td>34915.0</td>\n",
       "      <td>22.0</td>\n",
       "      <td>1489500.0</td>\n",
       "      <td>2172</td>\n",
       "      <td>0</td>\n",
       "      <td>0</td>\n",
       "    </tr>\n",
       "    <tr>\n",
       "      <th>784</th>\n",
       "      <td>36828.0</td>\n",
       "      <td>1.019</td>\n",
       "      <td>28.0</td>\n",
       "      <td>28.0</td>\n",
       "      <td>98.0</td>\n",
       "      <td>138.0</td>\n",
       "      <td>0.066752</td>\n",
       "      <td>37528.0</td>\n",
       "      <td>27.0</td>\n",
       "      <td>106153.0</td>\n",
       "      <td>2851</td>\n",
       "      <td>1</td>\n",
       "      <td>0</td>\n",
       "    </tr>\n",
       "    <tr>\n",
       "      <th>785</th>\n",
       "      <td>36805.0</td>\n",
       "      <td>0.900</td>\n",
       "      <td>24.0</td>\n",
       "      <td>6.0</td>\n",
       "      <td>63.0</td>\n",
       "      <td>145.0</td>\n",
       "      <td>0.627556</td>\n",
       "      <td>33125.0</td>\n",
       "      <td>15.0</td>\n",
       "      <td>24720.0</td>\n",
       "      <td>2158</td>\n",
       "      <td>0</td>\n",
       "      <td>0</td>\n",
       "    </tr>\n",
       "    <tr>\n",
       "      <th>786</th>\n",
       "      <td>36776.0</td>\n",
       "      <td>0.889</td>\n",
       "      <td>25.0</td>\n",
       "      <td>37.0</td>\n",
       "      <td>51.0</td>\n",
       "      <td>181.0</td>\n",
       "      <td>0.313383</td>\n",
       "      <td>32694.0</td>\n",
       "      <td>30.0</td>\n",
       "      <td>3104060.0</td>\n",
       "      <td>2220</td>\n",
       "      <td>1</td>\n",
       "      <td>0</td>\n",
       "    </tr>\n",
       "  </tbody>\n",
       "</table>\n",
       "<p>787 rows × 13 columns</p>\n",
       "</div>"
      ],
      "text/plain": [
       "     Population_2011  Sex Ratio  Median Age  Avg Temp  Toilets Avl  \\\n",
       "0         12442373.0      0.878        23.0      32.0        219.0   \n",
       "1         11007835.0      0.858        27.0      30.0        215.0   \n",
       "2          8436675.0      0.936        28.0      37.0        212.0   \n",
       "3          6809970.0      0.930        23.0      31.0        217.0   \n",
       "4          5570585.0      0.852        29.0      25.0        227.0   \n",
       "..               ...        ...         ...       ...          ...   \n",
       "782          36954.0      0.846        23.0      28.0         68.0   \n",
       "783          36947.0      0.945        23.0      36.0         62.0   \n",
       "784          36828.0      1.019        28.0      28.0         98.0   \n",
       "785          36805.0      0.900        24.0       6.0         63.0   \n",
       "786          36776.0      0.889        25.0      37.0         51.0   \n",
       "\n",
       "     Water Purity   H Index  Female Population  hospitals  Foreign Visitors  \\\n",
       "0           150.0  0.700440         10924403.0      159.0         4408916.0   \n",
       "1           196.0  0.920018          9444722.0      148.0         2379169.0   \n",
       "2           102.0  0.097085          7896728.0      123.0          636502.0   \n",
       "3           118.0  0.827744          6333272.0      110.0          126078.0   \n",
       "4           109.0  0.847941          4746138.0       73.0          284973.0   \n",
       "..            ...       ...                ...        ...               ...   \n",
       "782         103.0  0.035280            31263.0       19.0          284973.0   \n",
       "783         136.0  0.056394            34915.0       22.0         1489500.0   \n",
       "784         138.0  0.066752            37528.0       27.0          106153.0   \n",
       "785         145.0  0.627556            33125.0       15.0           24720.0   \n",
       "786         181.0  0.313383            32694.0       30.0         3104060.0   \n",
       "\n",
       "     Covid Cases  HIGH  LOW  \n",
       "0         163115     0    0  \n",
       "1          80188     0    0  \n",
       "2         141000     1    0  \n",
       "3          55123     0    0  \n",
       "4          33204     0    1  \n",
       "..           ...   ...  ...  \n",
       "782         1944     0    0  \n",
       "783         2172     0    0  \n",
       "784         2851     1    0  \n",
       "785         2158     0    0  \n",
       "786         2220     1    0  \n",
       "\n",
       "[787 rows x 13 columns]"
      ]
     },
     "execution_count": 17,
     "metadata": {},
     "output_type": "execute_result"
    }
   ],
   "source": [
    "df"
   ]
  },
  {
   "cell_type": "markdown",
   "metadata": {},
   "source": [
    "### 3.Median Age"
   ]
  },
  {
   "cell_type": "code",
   "execution_count": 18,
   "metadata": {},
   "outputs": [
    {
     "data": {
      "text/plain": [
       "<matplotlib.axes._subplots.AxesSubplot at 0x16e9a86efc8>"
      ]
     },
     "execution_count": 18,
     "metadata": {},
     "output_type": "execute_result"
    },
    {
     "data": {
      "image/png": "[encoded data removed]",
      "text/plain": [
       "<Figure size 432x288 with 1 Axes>"
      ]
     },
     "metadata": {
      "needs_background": "light"
     },
     "output_type": "display_data"
    }
   ],
   "source": [
    "df['Median Age'].hist(bins=50)"
   ]
  },
  {
   "cell_type": "code",
   "execution_count": 19,
   "metadata": {},
   "outputs": [
    {
     "data": {
      "text/plain": [
       "0"
      ]
     },
     "execution_count": 19,
     "metadata": {},
     "output_type": "execute_result"
    }
   ],
   "source": [
    "# filling missing values with median age\n",
    "median_age=df['Median Age'].median()\n",
    "df['Median Age'].fillna(median_age,inplace=True)\n",
    "df_test['Median Age'].fillna(median_age,inplace=True)\n",
    "df['Median Age'].isnull().sum()"
   ]
  },
  {
   "cell_type": "code",
   "execution_count": 20,
   "metadata": {},
   "outputs": [],
   "source": [
    "df['Median Age']=df['Median Age'].astype('int64')\n",
    "df_test['Median Age']=df_test['Median Age'].astype('int64')"
   ]
  },
  {
   "cell_type": "markdown",
   "metadata": {},
   "source": [
    "### 4.Avg Temp"
   ]
  },
  {
   "cell_type": "code",
   "execution_count": 21,
   "metadata": {},
   "outputs": [
    {
     "data": {
      "text/plain": [
       "<matplotlib.axes._subplots.AxesSubplot at 0x16e9a774e08>"
      ]
     },
     "execution_count": 21,
     "metadata": {},
     "output_type": "execute_result"
    },
    {
     "data": {
      "image/png": "[encoded data removed]",
      "text/plain": [
       "<Figure size 432x288 with 1 Axes>"
      ]
     },
     "metadata": {
      "needs_background": "light"
     },
     "output_type": "display_data"
    }
   ],
   "source": [
    "df['Avg Temp'].hist(bins=10)"
   ]
  },
  {
   "cell_type": "code",
   "execution_count": 22,
   "metadata": {},
   "outputs": [
    {
     "data": {
      "text/plain": [
       "<matplotlib.axes._subplots.AxesSubplot at 0x16e9b168dc8>"
      ]
     },
     "execution_count": 22,
     "metadata": {},
     "output_type": "execute_result"
    },
    {
     "data": {
      "image/png": "[encoded data removed]",
      "text/plain": [
       "<Figure size 432x288 with 1 Axes>"
      ]
     },
     "metadata": {
      "needs_background": "light"
     },
     "output_type": "display_data"
    }
   ],
   "source": [
    "F= np.log(df['Avg Temp'])\n",
    "F.hist(bins=10)\n",
    "## seems like no change when log transformation is applied"
   ]
  },
  {
   "cell_type": "code",
   "execution_count": 23,
   "metadata": {},
   "outputs": [
    {
     "data": {
      "text/plain": [
       "0"
      ]
     },
     "execution_count": 23,
     "metadata": {},
     "output_type": "execute_result"
    }
   ],
   "source": [
    "# filling missing values with mean temp\n",
    "mean_temp=df['Avg Temp'].mean()\n",
    "mean_temp=mean_temp.astype('int64')\n",
    "df['Avg Temp'].fillna(mean_temp,inplace=True)\n",
    "df_test['Avg Temp'].fillna(mean_temp,inplace=True)\n",
    "df['Avg Temp'].isnull().sum()"
   ]
  },
  {
   "cell_type": "code",
   "execution_count": 24,
   "metadata": {},
   "outputs": [],
   "source": [
    "df['Avg Temp']=df['Avg Temp'].astype('int64')\n",
    "df_test['Avg Temp']=df_test['Avg Temp'].astype('int64')"
   ]
  },
  {
   "cell_type": "markdown",
   "metadata": {},
   "source": [
    "### 5.Hospitals"
   ]
  },
  {
   "cell_type": "code",
   "execution_count": 25,
   "metadata": {},
   "outputs": [
    {
     "data": {
      "text/plain": [
       "<matplotlib.axes._subplots.AxesSubplot at 0x16e9b311648>"
      ]
     },
     "execution_count": 25,
     "metadata": {},
     "output_type": "execute_result"
    },
    {
     "data": {
      "image/png": "[encoded data removed]",
      "text/plain": [
       "<Figure size 432x288 with 1 Axes>"
      ]
     },
     "metadata": {
      "needs_background": "light"
     },
     "output_type": "display_data"
    }
   ],
   "source": [
    "df['hospitals'].hist(bins=50)"
   ]
  },
  {
   "cell_type": "code",
   "execution_count": 26,
   "metadata": {},
   "outputs": [
    {
     "data": {
      "text/plain": [
       "0"
      ]
     },
     "execution_count": 26,
     "metadata": {},
     "output_type": "execute_result"
    }
   ],
   "source": [
    "# filling missing values with random int between 10-30\n",
    "df['hospitals'].fillna(np.random.randint(low=10, high=30),inplace=True)\n",
    "df_test['hospitals'].fillna(np.random.randint(low=10, high=30),inplace=True)\n",
    "df['hospitals'].isnull().sum()"
   ]
  },
  {
   "cell_type": "code",
   "execution_count": 27,
   "metadata": {},
   "outputs": [],
   "source": [
    "df['hospitals']=df['hospitals'].astype('int64')\n",
    "df_test['hospitals']=df_test['hospitals'].astype('int64')"
   ]
  },
  {
   "cell_type": "markdown",
   "metadata": {},
   "source": [
    "### 6.Toilets Avl"
   ]
  },
  {
   "cell_type": "code",
   "execution_count": 28,
   "metadata": {},
   "outputs": [
    {
     "data": {
      "text/plain": [
       "<matplotlib.axes._subplots.AxesSubplot at 0x16e9b3e2888>"
      ]
     },
     "execution_count": 28,
     "metadata": {},
     "output_type": "execute_result"
    },
    {
     "data": {
      "image/png": "[encoded data removed]",
      "text/plain": [
       "<Figure size 432x288 with 1 Axes>"
      ]
     },
     "metadata": {
      "needs_background": "light"
     },
     "output_type": "display_data"
    }
   ],
   "source": [
    "df['Toilets Avl'].hist(bins=50)"
   ]
  },
  {
   "cell_type": "code",
   "execution_count": 29,
   "metadata": {},
   "outputs": [
    {
     "data": {
      "text/plain": [
       "0"
      ]
     },
     "execution_count": 29,
     "metadata": {},
     "output_type": "execute_result"
    }
   ],
   "source": [
    "# filling missing values with mean \n",
    "mean_toilet=df['Toilets Avl'].mean()\n",
    "mean_toilet=mean_toilet.astype('int64')\n",
    "df['Toilets Avl'].fillna(mean_toilet,inplace=True)\n",
    "df_test['Toilets Avl'].fillna(mean_toilet,inplace=True)\n",
    "df['Toilets Avl'].isnull().sum()"
   ]
  },
  {
   "cell_type": "code",
   "execution_count": 30,
   "metadata": {},
   "outputs": [],
   "source": [
    "df['Toilets Avl']=df['Toilets Avl'].astype('int64')\n",
    "df_test['Toilets Avl']=df_test['Toilets Avl'].astype('int64')"
   ]
  },
  {
   "cell_type": "markdown",
   "metadata": {},
   "source": [
    "### 7.Water Purity \t"
   ]
  },
  {
   "cell_type": "code",
   "execution_count": 31,
   "metadata": {},
   "outputs": [
    {
     "data": {
      "text/plain": [
       "<matplotlib.axes._subplots.AxesSubplot at 0x16e9b52dc08>"
      ]
     },
     "execution_count": 31,
     "metadata": {},
     "output_type": "execute_result"
    },
    {
     "data": {
      "image/png": "[encoded data removed]",
      "text/plain": [
       "<Figure size 432x288 with 1 Axes>"
      ]
     },
     "metadata": {
      "needs_background": "light"
     },
     "output_type": "display_data"
    }
   ],
   "source": [
    "df['Water Purity'].hist(bins=50)"
   ]
  },
  {
   "cell_type": "code",
   "execution_count": 32,
   "metadata": {},
   "outputs": [
    {
     "data": {
      "text/plain": [
       "0"
      ]
     },
     "execution_count": 32,
     "metadata": {},
     "output_type": "execute_result"
    }
   ],
   "source": [
    "# filling missing values with mean \n",
    "mean_water=df['Water Purity'].mean()\n",
    "mean_water=mean_water.astype('int64')\n",
    "df['Water Purity'].fillna(mean_water,inplace=True)\n",
    "df_test['Water Purity'].fillna(mean_water,inplace=True)\n",
    "df['Water Purity'].isnull().sum()"
   ]
  },
  {
   "cell_type": "code",
   "execution_count": 33,
   "metadata": {},
   "outputs": [],
   "source": [
    "df['Water Purity']=df['Water Purity'].astype('int64')\n",
    "df_test['Water Purity']=df_test['Water Purity'].astype('int64')"
   ]
  },
  {
   "cell_type": "markdown",
   "metadata": {},
   "source": [
    "### 8.H Index"
   ]
  },
  {
   "cell_type": "code",
   "execution_count": 34,
   "metadata": {},
   "outputs": [
    {
     "data": {
      "text/plain": [
       "<matplotlib.axes._subplots.AxesSubplot at 0x16e9b504908>"
      ]
     },
     "execution_count": 34,
     "metadata": {},
     "output_type": "execute_result"
    },
    {
     "data": {
      "image/png": "[encoded data removed]",
      "text/plain": [
       "<Figure size 432x288 with 1 Axes>"
      ]
     },
     "metadata": {
      "needs_background": "light"
     },
     "output_type": "display_data"
    }
   ],
   "source": [
    "df['H Index'].hist(bins=50)"
   ]
  },
  {
   "cell_type": "code",
   "execution_count": 35,
   "metadata": {},
   "outputs": [
    {
     "data": {
      "text/plain": [
       "0"
      ]
     },
     "execution_count": 35,
     "metadata": {},
     "output_type": "execute_result"
    }
   ],
   "source": [
    "# filling missing values with mean \n",
    "mean_index=df['H Index'].mean()\n",
    "df['H Index'].fillna(mean_index,inplace=True)\n",
    "df_test['H Index'].fillna(mean_index,inplace=True)\n",
    "df['H Index'].isnull().sum()"
   ]
  },
  {
   "cell_type": "markdown",
   "metadata": {},
   "source": [
    "### 9.Foreign Visitors"
   ]
  },
  {
   "cell_type": "code",
   "execution_count": 36,
   "metadata": {},
   "outputs": [
    {
     "data": {
      "text/plain": [
       "<matplotlib.axes._subplots.AxesSubplot at 0x16e9b733408>"
      ]
     },
     "execution_count": 36,
     "metadata": {},
     "output_type": "execute_result"
    },
    {
     "data": {
      "image/png": "[encoded data removed]",
      "text/plain": [
       "<Figure size 432x288 with 1 Axes>"
      ]
     },
     "metadata": {
      "needs_background": "light"
     },
     "output_type": "display_data"
    }
   ],
   "source": [
    "df['Foreign Visitors'].hist(bins=10)"
   ]
  },
  {
   "cell_type": "code",
   "execution_count": 37,
   "metadata": {},
   "outputs": [
    {
     "data": {
      "text/plain": [
       "798.0"
      ]
     },
     "execution_count": 37,
     "metadata": {},
     "output_type": "execute_result"
    }
   ],
   "source": [
    "max_viz=df['Foreign Visitors'].max()\n",
    "min_viz=df['Foreign Visitors'].min()\n",
    "min_viz"
   ]
  },
  {
   "cell_type": "code",
   "execution_count": 38,
   "metadata": {},
   "outputs": [
    {
     "data": {
      "text/plain": [
       "0"
      ]
     },
     "execution_count": 38,
     "metadata": {},
     "output_type": "execute_result"
    }
   ],
   "source": [
    "# filling missing values with random int between 100000-1000000\n",
    "df['Foreign Visitors'].fillna(np.random.randint(low=100000, high=1000000),inplace=True)\n",
    "df_test['Foreign Visitors'].fillna(np.random.randint(low=100000, high=1000000),inplace=True)\n",
    "df['Foreign Visitors'].isnull().sum()"
   ]
  },
  {
   "cell_type": "code",
   "execution_count": 39,
   "metadata": {},
   "outputs": [],
   "source": [
    "df['Foreign Visitors']=df['Foreign Visitors'].astype('int64')\n",
    "df_test['Foreign Visitors']=df_test['Foreign Visitors'].astype('int64')"
   ]
  },
  {
   "cell_type": "code",
   "execution_count": 40,
   "metadata": {},
   "outputs": [
    {
     "data": {
      "text/html": [
       "<div>\n",
       "<style scoped>\n",
       "    .dataframe tbody tr th:only-of-type {\n",
       "        vertical-align: middle;\n",
       "    }\n",
       "\n",
       "    .dataframe tbody tr th {\n",
       "        vertical-align: top;\n",
       "    }\n",
       "\n",
       "    .dataframe thead th {\n",
       "        text-align: right;\n",
       "    }\n",
       "</style>\n",
       "<table border=\"1\" class=\"dataframe\">\n",
       "  <thead>\n",
       "    <tr style=\"text-align: right;\">\n",
       "      <th></th>\n",
       "      <th>Population_2011</th>\n",
       "      <th>Sex Ratio</th>\n",
       "      <th>Median Age</th>\n",
       "      <th>Avg Temp</th>\n",
       "      <th>Toilets Avl</th>\n",
       "      <th>Water Purity</th>\n",
       "      <th>H Index</th>\n",
       "      <th>Female Population</th>\n",
       "      <th>hospitals</th>\n",
       "      <th>Foreign Visitors</th>\n",
       "      <th>Covid Cases</th>\n",
       "      <th>HIGH</th>\n",
       "      <th>LOW</th>\n",
       "    </tr>\n",
       "  </thead>\n",
       "  <tbody>\n",
       "    <tr>\n",
       "      <th>0</th>\n",
       "      <td>12442373.0</td>\n",
       "      <td>0.878</td>\n",
       "      <td>23</td>\n",
       "      <td>32</td>\n",
       "      <td>219</td>\n",
       "      <td>150</td>\n",
       "      <td>0.700440</td>\n",
       "      <td>10924403.0</td>\n",
       "      <td>159</td>\n",
       "      <td>4408916</td>\n",
       "      <td>163115</td>\n",
       "      <td>0</td>\n",
       "      <td>0</td>\n",
       "    </tr>\n",
       "    <tr>\n",
       "      <th>1</th>\n",
       "      <td>11007835.0</td>\n",
       "      <td>0.858</td>\n",
       "      <td>27</td>\n",
       "      <td>30</td>\n",
       "      <td>215</td>\n",
       "      <td>196</td>\n",
       "      <td>0.920018</td>\n",
       "      <td>9444722.0</td>\n",
       "      <td>148</td>\n",
       "      <td>2379169</td>\n",
       "      <td>80188</td>\n",
       "      <td>0</td>\n",
       "      <td>0</td>\n",
       "    </tr>\n",
       "    <tr>\n",
       "      <th>2</th>\n",
       "      <td>8436675.0</td>\n",
       "      <td>0.936</td>\n",
       "      <td>28</td>\n",
       "      <td>37</td>\n",
       "      <td>212</td>\n",
       "      <td>102</td>\n",
       "      <td>0.097085</td>\n",
       "      <td>7896728.0</td>\n",
       "      <td>123</td>\n",
       "      <td>636502</td>\n",
       "      <td>141000</td>\n",
       "      <td>1</td>\n",
       "      <td>0</td>\n",
       "    </tr>\n",
       "    <tr>\n",
       "      <th>3</th>\n",
       "      <td>6809970.0</td>\n",
       "      <td>0.930</td>\n",
       "      <td>23</td>\n",
       "      <td>31</td>\n",
       "      <td>217</td>\n",
       "      <td>118</td>\n",
       "      <td>0.827744</td>\n",
       "      <td>6333272.0</td>\n",
       "      <td>110</td>\n",
       "      <td>126078</td>\n",
       "      <td>55123</td>\n",
       "      <td>0</td>\n",
       "      <td>0</td>\n",
       "    </tr>\n",
       "    <tr>\n",
       "      <th>4</th>\n",
       "      <td>5570585.0</td>\n",
       "      <td>0.852</td>\n",
       "      <td>29</td>\n",
       "      <td>25</td>\n",
       "      <td>227</td>\n",
       "      <td>109</td>\n",
       "      <td>0.847941</td>\n",
       "      <td>4746138.0</td>\n",
       "      <td>73</td>\n",
       "      <td>284973</td>\n",
       "      <td>33204</td>\n",
       "      <td>0</td>\n",
       "      <td>1</td>\n",
       "    </tr>\n",
       "  </tbody>\n",
       "</table>\n",
       "</div>"
      ],
      "text/plain": [
       "   Population_2011  Sex Ratio  Median Age  Avg Temp  Toilets Avl  \\\n",
       "0       12442373.0      0.878          23        32          219   \n",
       "1       11007835.0      0.858          27        30          215   \n",
       "2        8436675.0      0.936          28        37          212   \n",
       "3        6809970.0      0.930          23        31          217   \n",
       "4        5570585.0      0.852          29        25          227   \n",
       "\n",
       "   Water Purity   H Index  Female Population  hospitals  Foreign Visitors  \\\n",
       "0           150  0.700440         10924403.0        159           4408916   \n",
       "1           196  0.920018          9444722.0        148           2379169   \n",
       "2           102  0.097085          7896728.0        123            636502   \n",
       "3           118  0.827744          6333272.0        110            126078   \n",
       "4           109  0.847941          4746138.0         73            284973   \n",
       "\n",
       "   Covid Cases  HIGH  LOW  \n",
       "0       163115     0    0  \n",
       "1        80188     0    0  \n",
       "2       141000     1    0  \n",
       "3        55123     0    0  \n",
       "4        33204     0    1  "
      ]
     },
     "execution_count": 40,
     "metadata": {},
     "output_type": "execute_result"
    }
   ],
   "source": [
    "df.head(5)"
   ]
  },
  {
   "cell_type": "code",
   "execution_count": 41,
   "metadata": {},
   "outputs": [
    {
     "data": {
      "text/html": [
       "<div>\n",
       "<style scoped>\n",
       "    .dataframe tbody tr th:only-of-type {\n",
       "        vertical-align: middle;\n",
       "    }\n",
       "\n",
       "    .dataframe tbody tr th {\n",
       "        vertical-align: top;\n",
       "    }\n",
       "\n",
       "    .dataframe thead th {\n",
       "        text-align: right;\n",
       "    }\n",
       "</style>\n",
       "<table border=\"1\" class=\"dataframe\">\n",
       "  <thead>\n",
       "    <tr style=\"text-align: right;\">\n",
       "      <th></th>\n",
       "      <th>Population_2011</th>\n",
       "      <th>Sex Ratio</th>\n",
       "      <th>Median Age</th>\n",
       "      <th>Avg Temp</th>\n",
       "      <th>Toilets Avl</th>\n",
       "      <th>Water Purity</th>\n",
       "      <th>H Index</th>\n",
       "      <th>Female Population</th>\n",
       "      <th>hospitals</th>\n",
       "      <th>Foreign Visitors</th>\n",
       "      <th>HIGH</th>\n",
       "      <th>LOW</th>\n",
       "    </tr>\n",
       "  </thead>\n",
       "  <tbody>\n",
       "    <tr>\n",
       "      <th>0</th>\n",
       "      <td>36774.0</td>\n",
       "      <td>0.931</td>\n",
       "      <td>23</td>\n",
       "      <td>10</td>\n",
       "      <td>94</td>\n",
       "      <td>114</td>\n",
       "      <td>0.253390</td>\n",
       "      <td>34237.0</td>\n",
       "      <td>17</td>\n",
       "      <td>2769</td>\n",
       "      <td>0</td>\n",
       "      <td>0</td>\n",
       "    </tr>\n",
       "    <tr>\n",
       "      <th>1</th>\n",
       "      <td>36754.0</td>\n",
       "      <td>0.934</td>\n",
       "      <td>25</td>\n",
       "      <td>38</td>\n",
       "      <td>62</td>\n",
       "      <td>160</td>\n",
       "      <td>0.192555</td>\n",
       "      <td>34328.0</td>\n",
       "      <td>13</td>\n",
       "      <td>636502</td>\n",
       "      <td>1</td>\n",
       "      <td>0</td>\n",
       "    </tr>\n",
       "    <tr>\n",
       "      <th>2</th>\n",
       "      <td>36732.0</td>\n",
       "      <td>0.883</td>\n",
       "      <td>29</td>\n",
       "      <td>35</td>\n",
       "      <td>63</td>\n",
       "      <td>105</td>\n",
       "      <td>0.887882</td>\n",
       "      <td>32434.0</td>\n",
       "      <td>17</td>\n",
       "      <td>242367</td>\n",
       "      <td>1</td>\n",
       "      <td>0</td>\n",
       "    </tr>\n",
       "    <tr>\n",
       "      <th>3</th>\n",
       "      <td>36706.0</td>\n",
       "      <td>0.887</td>\n",
       "      <td>26</td>\n",
       "      <td>31</td>\n",
       "      <td>60</td>\n",
       "      <td>174</td>\n",
       "      <td>0.407838</td>\n",
       "      <td>32558.0</td>\n",
       "      <td>11</td>\n",
       "      <td>4408916</td>\n",
       "      <td>1</td>\n",
       "      <td>0</td>\n",
       "    </tr>\n",
       "    <tr>\n",
       "      <th>4</th>\n",
       "      <td>36669.0</td>\n",
       "      <td>0.877</td>\n",
       "      <td>28</td>\n",
       "      <td>39</td>\n",
       "      <td>92</td>\n",
       "      <td>153</td>\n",
       "      <td>0.324456</td>\n",
       "      <td>32159.0</td>\n",
       "      <td>23</td>\n",
       "      <td>3104060</td>\n",
       "      <td>0</td>\n",
       "      <td>1</td>\n",
       "    </tr>\n",
       "  </tbody>\n",
       "</table>\n",
       "</div>"
      ],
      "text/plain": [
       "   Population_2011  Sex Ratio  Median Age  Avg Temp  Toilets Avl  \\\n",
       "0          36774.0      0.931          23        10           94   \n",
       "1          36754.0      0.934          25        38           62   \n",
       "2          36732.0      0.883          29        35           63   \n",
       "3          36706.0      0.887          26        31           60   \n",
       "4          36669.0      0.877          28        39           92   \n",
       "\n",
       "   Water Purity   H Index  Female Population  hospitals  Foreign Visitors  \\\n",
       "0           114  0.253390            34237.0         17              2769   \n",
       "1           160  0.192555            34328.0         13            636502   \n",
       "2           105  0.887882            32434.0         17            242367   \n",
       "3           174  0.407838            32558.0         11           4408916   \n",
       "4           153  0.324456            32159.0         23           3104060   \n",
       "\n",
       "   HIGH  LOW  \n",
       "0     0    0  \n",
       "1     1    0  \n",
       "2     1    0  \n",
       "3     1    0  \n",
       "4     0    1  "
      ]
     },
     "execution_count": 41,
     "metadata": {},
     "output_type": "execute_result"
    }
   ],
   "source": [
    "df_test.head(5)"
   ]
  },
  {
   "cell_type": "code",
   "execution_count": 42,
   "metadata": {},
   "outputs": [],
   "source": [
    "df.to_csv('train.csv')\n",
    "df_test.to_csv('test.csv')"
   ]
  },
  {
   "cell_type": "code",
   "execution_count": 43,
   "metadata": {},
   "outputs": [
    {
     "data": {
      "text/plain": [
       "Population_2011       6\n",
       "Sex Ratio             0\n",
       "Median Age            0\n",
       "Avg Temp              0\n",
       "Toilets Avl           0\n",
       "Water Purity          0\n",
       "H Index               0\n",
       "Female Population    15\n",
       "hospitals             0\n",
       "Foreign Visitors      0\n",
       "HIGH                  0\n",
       "LOW                   0\n",
       "dtype: int64"
      ]
     },
     "execution_count": 43,
     "metadata": {},
     "output_type": "execute_result"
    }
   ],
   "source": [
    "df_test.isnull().sum()"
   ]
  }
 ],
 "metadata": {
  "kernelspec": {
   "display_name": "Python 3",
   "language": "python",
   "name": "python3"
  },
  "language_info": {
   "codemirror_mode": {
    "name": "ipython",
    "version": 3
   },
   "file_extension": ".py",
   "mimetype": "text/x-python",
   "name": "python",
   "nbconvert_exporter": "python",
   "pygments_lexer": "ipython3",
   "version": "3.8.8"
  }
 },
 "nbformat": 4,
 "nbformat_minor": 4
}
