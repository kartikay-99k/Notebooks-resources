{
 "cells": [
  {
   "cell_type": "markdown",
   "id": "7e6e2160",
   "metadata": {},
   "source": [
    "# What Is Object-Oriented Programming?  \n",
    "\n",
    "### A methodology to design program using classes and objects, Its all about creating “objects”. An object is a group of interrelated variables and functions. These variables are often referred to as properties of the object and functions are referred to as the behavior of the objects. These objects provide a better and clear structure for the program."
   ]
  },
  {
   "cell_type": "markdown",
   "id": "89beabb8",
   "metadata": {},
   "source": [
    "# What is a Class?  \n",
    "\n",
    "### A class is a collection of objects (a blueprint from which the objects are created). They make the code more manageable."
   ]
  },
  {
   "cell_type": "markdown",
   "id": "f7caf744",
   "metadata": {},
   "source": [
    "# Class constructor?  \n",
    "\n",
    "### It initializes the state of an object and invoked at the time of object creation. The __init__() method is also known as the constructor method. We call a constructor method whenever an object of the class is constructed."
   ]
  },
  {
   "cell_type": "code",
   "execution_count": 1,
   "id": "c9267d56",
   "metadata": {},
   "outputs": [],
   "source": [
    "class Car:\n",
    "    def __init__(self, name, color):\n",
    "        self.name = name\n",
    "        self.color = color"
   ]
  },
  {
   "cell_type": "code",
   "execution_count": 2,
   "id": "7190c922",
   "metadata": {},
   "outputs": [],
   "source": [
    "class Car:\n",
    "    car_type = \"Sedan\"                 #class attribute\n",
    "    def __init__(self, name, color):\n",
    "        self.name = name               #instance attribute   \n",
    "        self.color = color             #instance attribute"
   ]
  },
  {
   "cell_type": "markdown",
   "id": "d827ba0b",
   "metadata": {},
   "source": [
    "# Class methods"
   ]
  },
  {
   "cell_type": "code",
   "execution_count": 3,
   "id": "d7642b4c",
   "metadata": {},
   "outputs": [
    {
     "name": "stdout",
     "output_type": "stream",
     "text": [
      "The Honda City car gives the mileage of 24.1km/l\n",
      "The Honda City runs at the maximum speed of 150km/hr\n"
     ]
    }
   ],
   "source": [
    "class Car:   \n",
    "    car_type = \"Sedan\" \n",
    "\n",
    "    def __init__(self, name, mileage):\n",
    "        self.name = name \n",
    "        self.mileage = mileage \n",
    "\n",
    "    def description(self):                 \n",
    "        return f\"The {self.name} car gives the mileage of {self.mileage}km/l\"\n",
    "\n",
    "    def max_speed(self, speed):\n",
    "        return f\"The {self.name} runs at the maximum speed of {speed}km/hr\"\n",
    "\n",
    "    \n",
    "    \n",
    "obj2 = Car(\"Honda City\",24.1)\n",
    "print(obj2.description())\n",
    "print(obj2.max_speed(150))    "
   ]
  },
  {
   "cell_type": "markdown",
   "id": "7a0a4090",
   "metadata": {},
   "source": [
    "# Inheritance  \n",
    "\n",
    "### Inheritance is the procedure in which one class inherits the attributes and methods of another class."
   ]
  },
  {
   "cell_type": "code",
   "execution_count": 4,
   "id": "e3adeb68",
   "metadata": {},
   "outputs": [
    {
     "name": "stdout",
     "output_type": "stream",
     "text": [
      "The BMW 7-series car gives the mileage of 39.53km/l\n",
      "The Audi A8 L car gives the mileage of 14km/l\n",
      "This is the description method of class Audi.\n"
     ]
    }
   ],
   "source": [
    "class Car:          #parent class\n",
    "\n",
    "    def __init__(self, name, mileage):\n",
    "        self.name = name \n",
    "        self.mileage = mileage \n",
    "\n",
    "    def description(self):                \n",
    "        return f\"The {self.name} car gives the mileage of {self.mileage}km/l\"\n",
    "\n",
    "class BMW(Car):     #child class\n",
    "    pass\n",
    "\n",
    "class Audi(Car):     #child class\n",
    "    def audi_desc(self):\n",
    "        return \"This is the description method of class Audi.\"\n",
    "    \n",
    "    \n",
    "    \n",
    "obj1 = BMW(\"BMW 7-series\",39.53)\n",
    "print(obj1.description())\n",
    "\n",
    "obj2 = Audi(\"Audi A8 L\",14)\n",
    "print(obj2.description())\n",
    "print(obj2.audi_desc())"
   ]
  },
  {
   "cell_type": "markdown",
   "id": "74c2a204",
   "metadata": {},
   "source": [
    "# Encapsulation  \n",
    "\n",
    "### Binding data and function into a single entity. Basically, it hides the data from the access of outsiders. If an organization wants to protect an object/information from unwanted access by clients or any unauthorized person then encapsulation is the way to ensure this. It prevents data from direct modification which is called encapsulation"
   ]
  },
  {
   "cell_type": "code",
   "execution_count": 5,
   "id": "1646b0e4",
   "metadata": {},
   "outputs": [
    {
     "name": "stdout",
     "output_type": "stream",
     "text": [
      "The BMW 7-series car gives the mileage of 39.53km/l\n",
      "BMW 7-series\n",
      "39.53\n"
     ]
    }
   ],
   "source": [
    "''' PROTECTED VARIABLE'''\n",
    "class car:\n",
    "\n",
    "    def __init__(self, name, mileage):\n",
    "        self._name = name                #protected variable\n",
    "        self.mileage = mileage \n",
    "\n",
    "    def description(self):                \n",
    "        return f\"The {self._name} car gives the mileage of {self.mileage}km/l\"\n",
    "    \n",
    "    \n",
    "obj = car(\"BMW 7-series\",39.53)\n",
    "\n",
    "#accessing protected variable via class method \n",
    "print(obj.description())\n",
    "\n",
    "#accessing protected variable directly from outside\n",
    "print(obj._name)\n",
    "print(obj.mileage)"
   ]
  },
  {
   "cell_type": "code",
   "execution_count": 6,
   "id": "a8317447",
   "metadata": {},
   "outputs": [
    {
     "name": "stdout",
     "output_type": "stream",
     "text": [
      "The BMW 7-series car gives the mileage of 39.53km/l\n",
      "39.53\n",
      "BMW 7-series\n"
     ]
    }
   ],
   "source": [
    "''' PRIVATE VARIABLE'''\n",
    "class Car:\n",
    "\n",
    "    def __init__(self, name, mileage):\n",
    "        self.__name = name              #private variable        \n",
    "        self.mileage = mileage \n",
    "\n",
    "    def description(self):                \n",
    "        return f\"The {self.__name} car gives the mileage of {self.mileage}km/l\"\n",
    "    \n",
    "    \n",
    "    \n",
    "obj = Car(\"BMW 7-series\",39.53)\n",
    "\n",
    "#accessing private variable via class method \n",
    "print(obj.description())\n",
    "\n",
    "#accessing private variable directly from outside\n",
    "print(obj.mileage)\n",
    "print(obj._Car__name)      #mangled name"
   ]
  },
  {
   "cell_type": "markdown",
   "id": "46881780",
   "metadata": {},
   "source": [
    "# Polymorphism\n",
    "\n",
    "### Polymorphism means having many forms. In OOP it refers to the functions having the same names but carrying different functionalities."
   ]
  },
  {
   "cell_type": "code",
   "execution_count": 8,
   "id": "b8f6152e",
   "metadata": {},
   "outputs": [
    {
     "name": "stdout",
     "output_type": "stream",
     "text": [
      "This the description function of class AUDI.\n",
      "This the description function of class BMW.\n"
     ]
    }
   ],
   "source": [
    "class Audi:\n",
    "    \n",
    "    def description(self):\n",
    "        print(\"This the description function of class AUDI.\")\n",
    "    \n",
    "\n",
    "class BMW:\n",
    "    def description(self):\n",
    "        print(\"This the description function of class BMW.\")\n",
    "    \n",
    "    \n",
    "    \n",
    "    \n",
    "    \n",
    "audi = Audi()\n",
    "bmw = BMW()\n",
    "for car in (audi,bmw):\n",
    "    car.description()"
   ]
  },
  {
   "cell_type": "markdown",
   "id": "15f849b4",
   "metadata": {},
   "source": [
    "# Abstraction \n",
    "\n",
    "### Abstraction for hiding the internal details or implementations of a function and showing its functionalities only. This is similar to the way you know how to drive a car without knowing the background mechanism. Any class with at least one abstract function is an abstract class. In order to create an abstraction class first, you need to import ABC class from abc module"
   ]
  },
  {
   "cell_type": "code",
   "execution_count": 9,
   "id": "b022f66b",
   "metadata": {},
   "outputs": [
    {
     "name": "stdout",
     "output_type": "stream",
     "text": [
      "This the description function of class car.\n",
      "The Honda City's price is 25 lakhs.\n"
     ]
    }
   ],
   "source": [
    "from abc import ABC, abstractmethod\n",
    "\n",
    "class Car(ABC):\n",
    "    def __init__(self,name):\n",
    "        self.name = name\n",
    "\n",
    "    def description(self):\n",
    "        print(\"This the description function of class car.\")\n",
    "\n",
    "    @abstractmethod\n",
    "    def price(self,x):\n",
    "        pass\n",
    "class new(Car):\n",
    "    def price(self,x):\n",
    "        print(f\"The {self.name}'s price is {x} lakhs.\")\n",
    "        \n",
    "        \n",
    "obj = new(\"Honda City\")\n",
    "\n",
    "obj.description()\n",
    "obj.price(25)"
   ]
  },
  {
   "cell_type": "markdown",
   "id": "adba1105",
   "metadata": {},
   "source": [
    "### These definitions are hidden from the user. The Abstract method is just providing a declaration. The child classes need to provide the definition."
   ]
  },
  {
   "cell_type": "code",
   "execution_count": null,
   "id": "da4212ee",
   "metadata": {},
   "outputs": [],
   "source": []
  },
  {
   "cell_type": "markdown",
   "id": "da21eee0",
   "metadata": {},
   "source": [
    "# Operator Overloading\n",
    "\n",
    "### Operator Overloading means giving extended meaning beyond their predefined operational meaning. For example operator + is used to add two integers as well as join two strings and merge two lists. It is achievable because ‘+’ operator is overloaded by int class and str class\n",
    "\n",
    "### [here](https://www.geeksforgeeks.org/operator-overloading-in-python/)"
   ]
  },
  {
   "cell_type": "code",
   "execution_count": 1,
   "id": "e58f63b7",
   "metadata": {},
   "outputs": [
    {
     "name": "stdout",
     "output_type": "stream",
     "text": [
      "3\n",
      "GeeksFor\n"
     ]
    }
   ],
   "source": [
    "# Python Program illustrate how\n",
    "# to overload an binary + operator\n",
    " \n",
    "class A:\n",
    "    def __init__(self, a):\n",
    "        self.a = a\n",
    " \n",
    "    # adding two objects\n",
    "    def __add__(self, o):\n",
    "        return self.a + o.a\n",
    "ob1 = A(1)\n",
    "ob2 = A(2)\n",
    "ob3 = A(\"Geeks\")\n",
    "ob4 = A(\"For\")\n",
    " \n",
    "print(ob1 + ob2)\n",
    "print(ob3 + ob4)"
   ]
  },
  {
   "cell_type": "markdown",
   "id": "a8af429f",
   "metadata": {},
   "source": [
    "# Function overloading\n",
    "\n",
    "### Function overloading is a feature of object oriented programming where two or more functions can have the same name but different parameters. When a function name is overloaded with different jobs it is called Function Overloading.\n",
    "\n",
    "### python does not support method overloading by default"
   ]
  },
  {
   "cell_type": "code",
   "execution_count": 2,
   "id": "d86fe5f9",
   "metadata": {},
   "outputs": [
    {
     "name": "stdout",
     "output_type": "stream",
     "text": [
      "100\n"
     ]
    }
   ],
   "source": [
    "# First product method.\n",
    "# Takes two argument and print their\n",
    "# product\n",
    "def product(a, b):\n",
    "    p = a * b\n",
    "    print(p)\n",
    "      \n",
    "# Second product method\n",
    "# Takes three argument and print their\n",
    "# product\n",
    "def product(a, b, c):\n",
    "    p = a * b*c\n",
    "    print(p)\n",
    "  \n",
    "# Uncommenting the below line shows an error    \n",
    "# product(4, 5)\n",
    "  \n",
    "# This line will call the second product method\n",
    "product(4, 5, 5)"
   ]
  },
  {
   "cell_type": "markdown",
   "id": "6bbbd0ef",
   "metadata": {},
   "source": [
    "# Interface \n",
    "\n",
    "### Abstract class which contains only abstract methods and doesn’t contain any concrete methods, such classes are called Interfaces.\n",
    "\n",
    "### An interface acts as a template for designing classes. Interfaces also define methods the same as classes, but abstract methods, whereas class contains nonabstract methods. Abstract methods are those methods without implementation or which are without the body. So the interface just defines the abstract method without implementation. The implementation of these abstract methods is defined by classes that implement an interface. \n",
    "\n",
    "### The interface is an interesting concept, which acts as a blueprint for designing classes."
   ]
  },
  {
   "cell_type": "code",
   "execution_count": 4,
   "id": "973270fd",
   "metadata": {},
   "outputs": [
    {
     "name": "stdout",
     "output_type": "stream",
     "text": [
      "Balance is 100 rupees\n",
      "SBI interest is 5 rupees\n"
     ]
    }
   ],
   "source": [
    "from abc import ABC, abstractmethod\n",
    "class Bank(ABC):\n",
    "   @abstractmethod\n",
    "   def balance_check(self):\n",
    "       pass\n",
    "   @abstractmethod\n",
    "   def interest(self):\n",
    "       pass\n",
    "class SBI(Bank):\n",
    "   def balance_check(self):\n",
    "       print(\"Balance is 100 rupees\")\n",
    "   def interest(self):\n",
    "       print(\"SBI interest is 5 rupees\")\n",
    "s = SBI()\n",
    "s.balance_check()\n",
    "s.interest()"
   ]
  },
  {
   "cell_type": "markdown",
   "id": "590b96da",
   "metadata": {},
   "source": [
    "# Virtual function\n",
    "\n",
    "### A virtual function is a member function that is declared within a base class and redefined by a derived class."
   ]
  },
  {
   "cell_type": "code",
   "execution_count": 5,
   "id": "82e8350c",
   "metadata": {},
   "outputs": [],
   "source": [
    "# https://www.analyticsvidhya.com/blog/2020/09/object-oriented-programming/"
   ]
  },
  {
   "cell_type": "code",
   "execution_count": null,
   "id": "df174e08",
   "metadata": {},
   "outputs": [],
   "source": []
  }
 ],
 "metadata": {
  "kernelspec": {
   "display_name": "Python 3",
   "language": "python",
   "name": "python3"
  },
  "language_info": {
   "codemirror_mode": {
    "name": "ipython",
    "version": 3
   },
   "file_extension": ".py",
   "mimetype": "text/x-python",
   "name": "python",
   "nbconvert_exporter": "python",
   "pygments_lexer": "ipython3",
   "version": "3.8.8"
  }
 },
 "nbformat": 4,
 "nbformat_minor": 5
}
